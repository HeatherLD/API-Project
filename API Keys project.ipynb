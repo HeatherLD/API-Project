{
 "cells": [
  {
   "cell_type": "code",
   "execution_count": null,
   "id": "5218ff8d",
   "metadata": {},
   "outputs": [],
   "source": [
    "#Federal Bureau of Investigation\n",
    "#Crime Data Explorer\n",
    "FBI_api_key=\"HXzuNSaaIO46x38N0iVVKpMDgrP6GG3mxBcacgRH\"\n",
    "\n",
    "#U.S. Bureau of Labor Statistics\n",
    "BLS_api_key=\"489c914f30b34dac8ebc65feb25a15df\""
   ]
  }
 ],
 "metadata": {
  "kernelspec": {
   "display_name": "Python 3 (ipykernel)",
   "language": "python",
   "name": "python3"
  },
  "language_info": {
   "codemirror_mode": {
    "name": "ipython",
    "version": 3
   },
   "file_extension": ".py",
   "mimetype": "text/x-python",
   "name": "python",
   "nbconvert_exporter": "python",
   "pygments_lexer": "ipython3",
   "version": "3.9.7"
  }
 },
 "nbformat": 4,
 "nbformat_minor": 5
}
