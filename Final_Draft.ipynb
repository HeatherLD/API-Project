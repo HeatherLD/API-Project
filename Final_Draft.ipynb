{
 "cells": [
  {
   "cell_type": "markdown",
   "id": "ee4822e5",
   "metadata": {},
   "source": [
    "# Group API Project: Crime Rates and Unemployment Rates\n",
    "\n",
    "## November 10, 2021 -- Jamie Mortensen, Heather Leighton-Dick\n",
    "\n",
    "\n",
    "What if any relationship is there between national property crimes rates versus unemployment rates in 2010? in 2020?\n",
    "\n",
    "Is there a noticeable difference between the years? Is there a potential correlation between crime and unemployment rates? Is there a stronger correlation in one subgroup of property crimes than the others?"
   ]
  },
  {
   "cell_type": "markdown",
   "id": "a966b59c",
   "metadata": {},
   "source": [
    "### Sources & Definitions:\n",
    "\n",
    "We extracted data from the FBI's Crime Data Explorer API and the Bureau of Labor Statistics' Public Data API.\n",
    "\n",
    "The CDE API is the FBI’s Uniform Crime Reporting (UCR) Program's effort to report the nation's crime data in a more timely and detailed way. It estimates national and state data and agency-level crime statistics based on the National Incident-Based Reporting System (NIBRS). The UCR has been operating since 1930, and has transitioned fully this year from the Summary Reporting System (started in 1979) to the NIBRS format. As of January 1, 2021, NIBRS will be used exclusively; some of the data will be reported in SRS standard to maintain continuity and compatibility of data.\n",
    "\n",
    "-- https://crime-data-explorer.fr.cloud.gov/pages/about\n",
    "\n",
    "The BLS's Public Data API provides access to a lot of different categories of statistics, but we pulled down basic information on the unemployment numbers and created a proportion with the general population to get a percentage rate.\n",
    "\n",
    "### Definitions:\n",
    "\n",
    "It was vital to get a basic understanding of the legal differences between the different types of property crime in order to be able to construct the APIs and to understand how the data categories are related to each other.\n",
    "\n",
    "In particular:\n",
    "\n",
    "property crime: a category of crime, usually involving private property, that includes burglary, larceny, theft, motor vehicle theft, arson, shoplifting, and vandalism; the umbrella term for burglary, robbery, and larceny\n",
    "\n",
    "burglary: entry into a building with the intent to commit a crime, most often theft, robbery, or murder\n",
    "\n",
    "robbery: taking property unlawfully from a person or place by force or threat of force\n",
    "\n",
    "larceny: the theft of physical items that are personal property, without threat of force (theft includes all variations on stealing property from another person or entity)"
   ]
  },
  {
   "cell_type": "markdown",
   "id": "d02aaaba",
   "metadata": {},
   "source": [
    "### Set-Up and Importing Modules"
   ]
  },
  {
   "cell_type": "code",
<<<<<<< HEAD
<<<<<<< Updated upstream
   "execution_count": 1,
=======
   "execution_count": 61,
>>>>>>> Stashed changes
=======
   "execution_count": 2,
>>>>>>> 0a3df415820bd971614426fe9b109757f6bb17c3
   "id": "1a627afd",
   "metadata": {},
   "outputs": [],
   "source": [
    "import requests\n",
    "import pandas as pd\n",
    "import matplotlib.pyplot as plt\n",
    "import numpy as np\n",
    "import time\n",
    "from pprint import pprint\n",
    "import citipy\n",
    "import json\n",
    "from citipy import citipy\n",
    "import seaborn as sns\n",
    "import prettytable"
   ]
  },
  {
   "cell_type": "markdown",
   "id": "6e846a6b",
   "metadata": {},
   "source": [
    "## Performing the API Calls and Collecting the Data"
   ]
  },
  {
   "cell_type": "markdown",
   "id": "d456539f",
   "metadata": {},
   "source": [
    "## Burglary Data"
   ]
  },
  {
   "cell_type": "code",
<<<<<<< HEAD
<<<<<<< Updated upstream
   "execution_count": null,
=======
   "execution_count": 62,
>>>>>>> Stashed changes
=======
   "execution_count": 3,
>>>>>>> 0a3df415820bd971614426fe9b109757f6bb17c3
   "id": "bac85993",
   "metadata": {},
   "outputs": [],
   "source": [
    "#base_url: https://api.usa.gov/crime/fbi/sapi/api/data/nibrs/{burglary}/offense/national/{count}\n",
    "headers = {\"Incident\": \"incident_count\", \"Offense\": \"offense_count\", \"Year\": \"data_year\"}\n",
    "#burglary, count\n",
    "fbi_burglary_ct = requests.get('https://api.usa.gov/crime/fbi/sapi/api/data/nibrs/burglary-breaking-and-entering/offense/national/count/?limit=1&api_key=HXzuNSaaIO46x38N0iVVKpMDgrP6GG3mxBcacgRH',headers=headers)\n",
    "fbi_json_bur_ct = json.loads(fbi_burglary_ct.text)"
   ]
  },
  {
   "cell_type": "code",
<<<<<<< HEAD
<<<<<<< Updated upstream
   "execution_count": null,
=======
   "execution_count": 63,
>>>>>>> Stashed changes
=======
   "execution_count": 4,
>>>>>>> 0a3df415820bd971614426fe9b109757f6bb17c3
   "id": "1b9e0fdb",
   "metadata": {},
   "outputs": [],
   "source": [
    "#cleaning and reformatting the data, Heather's code (used in stacked bar graph)\n",
    "raw_fbi_bur_ct = []\n",
    "raw_fbi_bur_ct.append(fbi_json_bur_ct)\n",
    "fbi_unformed_bur_ct = pd.json_normalize(raw_fbi_bur_ct, record_path = [\"results\"])\n",
    "fbi_unformed_bur_ct.to_csv('fbi_unformed_bur_ct_csv.csv')"
   ]
  },
  {
   "cell_type": "code",
<<<<<<< HEAD
<<<<<<< Updated upstream
   "execution_count": null,
=======
   "execution_count": 5,
>>>>>>> 0a3df415820bd971614426fe9b109757f6bb17c3
   "id": "d0ceee30",
   "metadata": {},
   "outputs": [
    {
     "data": {
      "text/html": [
       "<div>\n",
       "<style scoped>\n",
       "    .dataframe tbody tr th:only-of-type {\n",
       "        vertical-align: middle;\n",
       "    }\n",
       "\n",
       "    .dataframe tbody tr th {\n",
       "        vertical-align: top;\n",
       "    }\n",
       "\n",
       "    .dataframe thead th {\n",
       "        text-align: right;\n",
       "    }\n",
       "</style>\n",
       "<table border=\"1\" class=\"dataframe\">\n",
       "  <thead>\n",
       "    <tr style=\"text-align: right;\">\n",
       "      <th></th>\n",
       "      <th>Offense Count(B)</th>\n",
       "      <th>Year(B)</th>\n",
       "    </tr>\n",
       "  </thead>\n",
       "  <tbody>\n",
       "    <tr>\n",
       "      <th>11</th>\n",
       "      <td>585312</td>\n",
       "      <td>2011</td>\n",
       "    </tr>\n",
       "    <tr>\n",
       "      <th>0</th>\n",
       "      <td>586634</td>\n",
       "      <td>2012</td>\n",
       "    </tr>\n",
       "    <tr>\n",
       "      <th>29</th>\n",
       "      <td>537536</td>\n",
       "      <td>2013</td>\n",
       "    </tr>\n",
       "    <tr>\n",
       "      <th>22</th>\n",
       "      <td>482371</td>\n",
       "      <td>2014</td>\n",
       "    </tr>\n",
       "    <tr>\n",
       "      <th>21</th>\n",
       "      <td>462537</td>\n",
       "      <td>2015</td>\n",
       "    </tr>\n",
       "    <tr>\n",
       "      <th>9</th>\n",
       "      <td>462509</td>\n",
       "      <td>2016</td>\n",
       "    </tr>\n",
       "    <tr>\n",
       "      <th>1</th>\n",
       "      <td>441958</td>\n",
       "      <td>2017</td>\n",
       "    </tr>\n",
       "    <tr>\n",
       "      <th>28</th>\n",
       "      <td>434631</td>\n",
       "      <td>2018</td>\n",
       "    </tr>\n",
       "    <tr>\n",
       "      <th>19</th>\n",
       "      <td>494159</td>\n",
       "      <td>2019</td>\n",
       "    </tr>\n",
       "    <tr>\n",
       "      <th>18</th>\n",
       "      <td>522426</td>\n",
       "      <td>2020</td>\n",
       "    </tr>\n",
       "  </tbody>\n",
       "</table>\n",
       "</div>"
      ],
      "text/plain": [
       "    Offense Count(B)  Year(B)\n",
       "11            585312     2011\n",
       "0             586634     2012\n",
       "29            537536     2013\n",
       "22            482371     2014\n",
       "21            462537     2015\n",
       "9             462509     2016\n",
       "1             441958     2017\n",
       "28            434631     2018\n",
       "19            494159     2019\n",
       "18            522426     2020"
      ]
     },
     "execution_count": 5,
     "metadata": {},
     "output_type": "execute_result"
    }
   ],
   "source": [
    "#formatting the dataframe, Heather's code (used in stacked bar graph)\n",
    "fbi_burglary_ct_df = pd.read_csv('fbi_unformed_bur_ct_csv.csv')\n",
    "fbi_burglary_ct_df = fbi_burglary_ct_df[[\"offense_count\", \"data_year\"]]\n",
    "fbi_burglary_ct_df.rename(columns={\"data_year\":\"Year(B)\", \"offense_count\":\"Offense Count(B)\"}, inplace=True)\n",
    "fbi_burglary_ct_df_srt = fbi_burglary_ct_df.sort_values(\"Year(B)\")\n",
    "\n",
    "fbi_burglary_ct_df_set = fbi_burglary_ct_df_srt[fbi_burglary_ct_df_srt[\"Year(B)\"] > 2010]\n",
    "fbi_burglary_ct_df_set"
   ]
  },
  {
   "cell_type": "code",
   "execution_count": null,
   "id": "79f3301e",
   "metadata": {},
   "outputs": [],
=======
   "execution_count": 64,
   "id": "d0ceee30",
   "metadata": {},
   "outputs": [
    {
     "data": {
      "text/html": [
       "<div>\n",
       "<style scoped>\n",
       "    .dataframe tbody tr th:only-of-type {\n",
       "        vertical-align: middle;\n",
       "    }\n",
       "\n",
       "    .dataframe tbody tr th {\n",
       "        vertical-align: top;\n",
       "    }\n",
       "\n",
       "    .dataframe thead th {\n",
       "        text-align: right;\n",
       "    }\n",
       "</style>\n",
       "<table border=\"1\" class=\"dataframe\">\n",
       "  <thead>\n",
       "    <tr style=\"text-align: right;\">\n",
       "      <th></th>\n",
       "      <th>incident_count</th>\n",
       "      <th>offense_count</th>\n",
       "      <th>data_year</th>\n",
       "    </tr>\n",
       "  </thead>\n",
       "  <tbody>\n",
       "    <tr>\n",
       "      <th>0</th>\n",
       "      <td>585312</td>\n",
       "      <td>585312</td>\n",
       "      <td>2011</td>\n",
       "    </tr>\n",
       "    <tr>\n",
       "      <th>1</th>\n",
       "      <td>586634</td>\n",
       "      <td>586634</td>\n",
       "      <td>2012</td>\n",
       "    </tr>\n",
       "    <tr>\n",
       "      <th>2</th>\n",
       "      <td>537536</td>\n",
       "      <td>537536</td>\n",
       "      <td>2013</td>\n",
       "    </tr>\n",
       "    <tr>\n",
       "      <th>3</th>\n",
       "      <td>482371</td>\n",
       "      <td>482371</td>\n",
       "      <td>2014</td>\n",
       "    </tr>\n",
       "    <tr>\n",
       "      <th>4</th>\n",
       "      <td>462537</td>\n",
       "      <td>462537</td>\n",
       "      <td>2015</td>\n",
       "    </tr>\n",
       "    <tr>\n",
       "      <th>5</th>\n",
       "      <td>462509</td>\n",
       "      <td>462509</td>\n",
       "      <td>2016</td>\n",
       "    </tr>\n",
       "    <tr>\n",
       "      <th>6</th>\n",
       "      <td>441958</td>\n",
       "      <td>441958</td>\n",
       "      <td>2017</td>\n",
       "    </tr>\n",
       "    <tr>\n",
       "      <th>7</th>\n",
       "      <td>434631</td>\n",
       "      <td>434631</td>\n",
       "      <td>2018</td>\n",
       "    </tr>\n",
       "    <tr>\n",
       "      <th>8</th>\n",
       "      <td>494159</td>\n",
       "      <td>494159</td>\n",
       "      <td>2019</td>\n",
       "    </tr>\n",
       "    <tr>\n",
       "      <th>9</th>\n",
       "      <td>522426</td>\n",
       "      <td>522426</td>\n",
       "      <td>2020</td>\n",
       "    </tr>\n",
       "  </tbody>\n",
       "</table>\n",
       "</div>"
      ],
      "text/plain": [
       "   incident_count  offense_count  data_year\n",
       "0          585312         585312       2011\n",
       "1          586634         586634       2012\n",
       "2          537536         537536       2013\n",
       "3          482371         482371       2014\n",
       "4          462537         462537       2015\n",
       "5          462509         462509       2016\n",
       "6          441958         441958       2017\n",
       "7          434631         434631       2018\n",
       "8          494159         494159       2019\n",
       "9          522426         522426       2020"
      ]
     },
     "execution_count": 64,
     "metadata": {},
     "output_type": "execute_result"
    }
   ],
>>>>>>> Stashed changes
   "source": [
    "#formatting the dataframe, Jamie's code (used in line plot)"
   ]
  },
  {
   "cell_type": "markdown",
   "id": "397a4141",
   "metadata": {},
   "source": [
    "### Burglary Data Line Plot"
   ]
  },
  {
<<<<<<< HEAD
   "cell_type": "code",
<<<<<<< Updated upstream
   "execution_count": null,
=======
   "execution_count": 65,
>>>>>>> Stashed changes
   "id": "fe729be0",
=======
   "attachments": {
    "burglary_graph.png": {
     "image/png": "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"
    }
   },
   "cell_type": "markdown",
   "id": "fbc840b6",
>>>>>>> 0a3df415820bd971614426fe9b109757f6bb17c3
   "metadata": {},
   "source": [
    "![burglary_graph.png](attachment:burglary_graph.png)"
   ]
  },
  {
   "cell_type": "markdown",
   "id": "b4d6d325",
   "metadata": {},
   "source": [
    "### Burglary trend summary:\n",
    "There was a long downward trend in burglaries from 2012 to 2018, but 2018 to 2020 saw an increase."
   ]
  },
  {
   "cell_type": "markdown",
   "id": "fb347923",
   "metadata": {},
   "source": [
    "## Robbery Data"
   ]
  },
  {
   "cell_type": "code",
<<<<<<< HEAD
<<<<<<< Updated upstream
   "execution_count": null,
=======
   "execution_count": 66,
>>>>>>> Stashed changes
=======
   "execution_count": 6,
>>>>>>> 0a3df415820bd971614426fe9b109757f6bb17c3
   "id": "c34595c1",
   "metadata": {},
   "outputs": [],
   "source": [
    "#robbery, count\n",
    "fbi_robbery_ct = requests.get('https://api.usa.gov/crime/fbi/sapi/api/data/nibrs/robbery/offense/national/count/?limit=1&api_key=HXzuNSaaIO46x38N0iVVKpMDgrP6GG3mxBcacgRH')\n",
    "fbi_json_robbery_ct = json.loads(fbi_robbery_ct.text)"
   ]
  },
  {
   "cell_type": "code",
<<<<<<< HEAD
<<<<<<< Updated upstream
   "execution_count": null,
=======
   "execution_count": 67,
>>>>>>> Stashed changes
=======
   "execution_count": 7,
>>>>>>> 0a3df415820bd971614426fe9b109757f6bb17c3
   "id": "cacd1d41",
   "metadata": {},
   "outputs": [],
   "source": [
    "#cleaning and reformatting the data, Heather's code (used in stacked bar graph)\n",
    "raw_fbi_robbery_ct = []\n",
    "raw_fbi_robbery_ct.append(fbi_json_robbery_ct)\n",
    "fbi_unformed_robbery_ct = pd.json_normalize(raw_fbi_robbery_ct, record_path = [\"results\"])\n",
    "fbi_unformed_robbery_ct.to_csv('fbi_unformed_robbery_ct_csv.csv')"
   ]
  },
  {
   "cell_type": "code",
<<<<<<< HEAD
<<<<<<< Updated upstream
   "execution_count": null,
=======
   "execution_count": 8,
>>>>>>> 0a3df415820bd971614426fe9b109757f6bb17c3
   "id": "e17d8e86",
   "metadata": {},
   "outputs": [
    {
     "data": {
      "text/html": [
       "<div>\n",
       "<style scoped>\n",
       "    .dataframe tbody tr th:only-of-type {\n",
       "        vertical-align: middle;\n",
       "    }\n",
       "\n",
       "    .dataframe tbody tr th {\n",
       "        vertical-align: top;\n",
       "    }\n",
       "\n",
       "    .dataframe thead th {\n",
       "        text-align: right;\n",
       "    }\n",
       "</style>\n",
       "<table border=\"1\" class=\"dataframe\">\n",
       "  <thead>\n",
       "    <tr style=\"text-align: right;\">\n",
       "      <th></th>\n",
       "      <th>Offense Count(R)</th>\n",
       "      <th>Year(R)</th>\n",
       "    </tr>\n",
       "  </thead>\n",
       "  <tbody>\n",
       "    <tr>\n",
       "      <th>15</th>\n",
       "      <td>72942</td>\n",
       "      <td>2011</td>\n",
       "    </tr>\n",
       "    <tr>\n",
       "      <th>3</th>\n",
       "      <td>74626</td>\n",
       "      <td>2012</td>\n",
       "    </tr>\n",
       "    <tr>\n",
       "      <th>26</th>\n",
       "      <td>72200</td>\n",
       "      <td>2013</td>\n",
       "    </tr>\n",
       "    <tr>\n",
       "      <th>23</th>\n",
       "      <td>68471</td>\n",
       "      <td>2014</td>\n",
       "    </tr>\n",
       "    <tr>\n",
       "      <th>25</th>\n",
       "      <td>70713</td>\n",
       "      <td>2015</td>\n",
       "    </tr>\n",
       "    <tr>\n",
       "      <th>10</th>\n",
       "      <td>73328</td>\n",
       "      <td>2016</td>\n",
       "    </tr>\n",
       "    <tr>\n",
       "      <th>4</th>\n",
       "      <td>72311</td>\n",
       "      <td>2017</td>\n",
       "    </tr>\n",
       "    <tr>\n",
       "      <th>28</th>\n",
       "      <td>78559</td>\n",
       "      <td>2018</td>\n",
       "    </tr>\n",
       "    <tr>\n",
       "      <th>19</th>\n",
       "      <td>95627</td>\n",
       "      <td>2019</td>\n",
       "    </tr>\n",
       "    <tr>\n",
       "      <th>20</th>\n",
       "      <td>102677</td>\n",
       "      <td>2020</td>\n",
       "    </tr>\n",
       "  </tbody>\n",
       "</table>\n",
       "</div>"
      ],
      "text/plain": [
       "    Offense Count(R)  Year(R)\n",
       "15             72942     2011\n",
       "3              74626     2012\n",
       "26             72200     2013\n",
       "23             68471     2014\n",
       "25             70713     2015\n",
       "10             73328     2016\n",
       "4              72311     2017\n",
       "28             78559     2018\n",
       "19             95627     2019\n",
       "20            102677     2020"
      ]
     },
     "execution_count": 8,
     "metadata": {},
     "output_type": "execute_result"
    }
   ],
   "source": [
    "#formatting the dataframe, Heather's code (used in stacked bar graph)\n",
    "fbi_robbery_ct_df = pd.read_csv('fbi_unformed_robbery_ct_csv.csv')\n",
    "fbi_robbery_ct_df = fbi_robbery_ct_df[[\"offense_count\", \"data_year\"]]\n",
    "fbi_robbery_ct_df.rename(columns={\"data_year\":\"Year(R)\", \"offense_count\":\"Offense Count(R)\"}, inplace=True)\n",
    "fbi_robbery_ct_df_srt = fbi_robbery_ct_df.sort_values(\"Year(R)\")\n",
    "fbi_robbery_ct_df_set = fbi_robbery_ct_df_srt[fbi_robbery_ct_df_srt[\"Year(R)\"] > 2010]\n",
    "fbi_robbery_ct_df_set"
   ]
  },
  {
   "cell_type": "code",
   "execution_count": null,
   "id": "d7f07c8a",
   "metadata": {},
   "outputs": [],
=======
   "execution_count": 68,
   "id": "e17d8e86",
   "metadata": {},
   "outputs": [
    {
     "data": {
      "text/html": [
       "<div>\n",
       "<style scoped>\n",
       "    .dataframe tbody tr th:only-of-type {\n",
       "        vertical-align: middle;\n",
       "    }\n",
       "\n",
       "    .dataframe tbody tr th {\n",
       "        vertical-align: top;\n",
       "    }\n",
       "\n",
       "    .dataframe thead th {\n",
       "        text-align: right;\n",
       "    }\n",
       "</style>\n",
       "<table border=\"1\" class=\"dataframe\">\n",
       "  <thead>\n",
       "    <tr style=\"text-align: right;\">\n",
       "      <th></th>\n",
       "      <th>incident_count</th>\n",
       "      <th>offense_count</th>\n",
       "      <th>data_year</th>\n",
       "    </tr>\n",
       "  </thead>\n",
       "  <tbody>\n",
       "    <tr>\n",
       "      <th>0</th>\n",
       "      <td>72942</td>\n",
       "      <td>72942</td>\n",
       "      <td>2011</td>\n",
       "    </tr>\n",
       "    <tr>\n",
       "      <th>1</th>\n",
       "      <td>74626</td>\n",
       "      <td>74626</td>\n",
       "      <td>2012</td>\n",
       "    </tr>\n",
       "    <tr>\n",
       "      <th>2</th>\n",
       "      <td>72200</td>\n",
       "      <td>72200</td>\n",
       "      <td>2013</td>\n",
       "    </tr>\n",
       "    <tr>\n",
       "      <th>3</th>\n",
       "      <td>68471</td>\n",
       "      <td>68471</td>\n",
       "      <td>2014</td>\n",
       "    </tr>\n",
       "    <tr>\n",
       "      <th>4</th>\n",
       "      <td>70713</td>\n",
       "      <td>70713</td>\n",
       "      <td>2015</td>\n",
       "    </tr>\n",
       "    <tr>\n",
       "      <th>5</th>\n",
       "      <td>73328</td>\n",
       "      <td>73328</td>\n",
       "      <td>2016</td>\n",
       "    </tr>\n",
       "    <tr>\n",
       "      <th>6</th>\n",
       "      <td>72311</td>\n",
       "      <td>72311</td>\n",
       "      <td>2017</td>\n",
       "    </tr>\n",
       "    <tr>\n",
       "      <th>7</th>\n",
       "      <td>78559</td>\n",
       "      <td>78559</td>\n",
       "      <td>2018</td>\n",
       "    </tr>\n",
       "    <tr>\n",
       "      <th>8</th>\n",
       "      <td>95627</td>\n",
       "      <td>95627</td>\n",
       "      <td>2019</td>\n",
       "    </tr>\n",
       "    <tr>\n",
       "      <th>9</th>\n",
       "      <td>102677</td>\n",
       "      <td>102677</td>\n",
       "      <td>2020</td>\n",
       "    </tr>\n",
       "  </tbody>\n",
       "</table>\n",
       "</div>"
      ],
      "text/plain": [
       "   incident_count  offense_count  data_year\n",
       "0           72942          72942       2011\n",
       "1           74626          74626       2012\n",
       "2           72200          72200       2013\n",
       "3           68471          68471       2014\n",
       "4           70713          70713       2015\n",
       "5           73328          73328       2016\n",
       "6           72311          72311       2017\n",
       "7           78559          78559       2018\n",
       "8           95627          95627       2019\n",
       "9          102677         102677       2020"
      ]
     },
     "execution_count": 68,
     "metadata": {},
     "output_type": "execute_result"
    }
   ],
>>>>>>> Stashed changes
   "source": [
    "#formatting the dataframe, Jamie's code (used in line plot)"
   ]
  },
  {
   "cell_type": "markdown",
   "id": "c866a6ae",
   "metadata": {},
   "source": [
    "### Robbery Data Line Plot"
   ]
  },
  {
<<<<<<< HEAD
   "cell_type": "code",
<<<<<<< Updated upstream
   "execution_count": null,
=======
   "execution_count": 69,
>>>>>>> Stashed changes
   "id": "8abb8054",
=======
   "attachments": {
    "robbery_graph.png": {
     "image/png": "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"
    }
   },
   "cell_type": "markdown",
   "id": "510944ec",
>>>>>>> 0a3df415820bd971614426fe9b109757f6bb17c3
   "metadata": {},
   "source": [
    "![robbery_graph.png](attachment:robbery_graph.png)"
   ]
  },
  {
   "cell_type": "markdown",
   "id": "d7de9c08",
   "metadata": {},
   "source": [
    "### Robbery trend summary:\n",
    "Numbers remained low from 2011 to 2017, then rose pretty steeply from 2018 to 2020, similarly to burglaries."
   ]
  },
  {
   "cell_type": "markdown",
   "id": "a0e44e69",
   "metadata": {},
   "source": [
    "## Larceny Data"
   ]
  },
  {
   "cell_type": "code",
<<<<<<< HEAD
<<<<<<< Updated upstream
   "execution_count": null,
=======
   "execution_count": 70,
>>>>>>> Stashed changes
=======
   "execution_count": 9,
>>>>>>> 0a3df415820bd971614426fe9b109757f6bb17c3
   "id": "0adf5570",
   "metadata": {},
   "outputs": [],
   "source": [
    "#larceny, count\n",
    "fbi_larceny_ct = requests.get('https://api.usa.gov/crime/fbi/sapi/api/data/nibrs/larceny-theft-offenses/offense/national/count/?limit=1&api_key=HXzuNSaaIO46x38N0iVVKpMDgrP6GG3mxBcacgRH')\n",
    "fbi_json_larceny_ct = json.loads(fbi_larceny_ct.text)"
   ]
  },
  {
   "cell_type": "code",
<<<<<<< HEAD
<<<<<<< Updated upstream
   "execution_count": null,
=======
   "execution_count": 71,
>>>>>>> Stashed changes
=======
   "execution_count": 10,
>>>>>>> 0a3df415820bd971614426fe9b109757f6bb17c3
   "id": "552a1aa2",
   "metadata": {},
   "outputs": [],
   "source": [
    "#cleaning and reformatting the data, Heather's code (used in stacked bar graph)\n",
    "raw_fbi_larceny_ct = []\n",
    "raw_fbi_larceny_ct.append(fbi_json_larceny_ct)\n",
    "fbi_unformed_larceny_ct = pd.json_normalize(raw_fbi_larceny_ct, record_path = [\"results\"])\n",
    "fbi_unformed_larceny_ct.to_csv('fbi_unformed_larceny_ct_csv.csv')"
   ]
  },
  {
   "cell_type": "code",
<<<<<<< HEAD
<<<<<<< Updated upstream
   "execution_count": null,
=======
   "execution_count": 11,
>>>>>>> 0a3df415820bd971614426fe9b109757f6bb17c3
   "id": "2332bc73",
   "metadata": {},
   "outputs": [
    {
     "data": {
      "text/html": [
       "<div>\n",
       "<style scoped>\n",
       "    .dataframe tbody tr th:only-of-type {\n",
       "        vertical-align: middle;\n",
       "    }\n",
       "\n",
       "    .dataframe tbody tr th {\n",
       "        vertical-align: top;\n",
       "    }\n",
       "\n",
       "    .dataframe thead th {\n",
       "        text-align: right;\n",
       "    }\n",
       "</style>\n",
       "<table border=\"1\" class=\"dataframe\">\n",
       "  <thead>\n",
       "    <tr style=\"text-align: right;\">\n",
       "      <th></th>\n",
       "      <th>Year(L)</th>\n",
       "      <th>Offense Count(L)</th>\n",
       "    </tr>\n",
       "  </thead>\n",
       "  <tbody>\n",
       "    <tr>\n",
       "      <th>20</th>\n",
       "      <td>2011</td>\n",
       "      <td>1715009</td>\n",
       "    </tr>\n",
       "    <tr>\n",
       "      <th>21</th>\n",
       "      <td>2012</td>\n",
       "      <td>1792213</td>\n",
       "    </tr>\n",
       "    <tr>\n",
       "      <th>22</th>\n",
       "      <td>2013</td>\n",
       "      <td>1760951</td>\n",
       "    </tr>\n",
       "    <tr>\n",
       "      <th>23</th>\n",
       "      <td>2014</td>\n",
       "      <td>1722483</td>\n",
       "    </tr>\n",
       "    <tr>\n",
       "      <th>24</th>\n",
       "      <td>2015</td>\n",
       "      <td>1741204</td>\n",
       "    </tr>\n",
       "    <tr>\n",
       "      <th>25</th>\n",
       "      <td>2016</td>\n",
       "      <td>1789788</td>\n",
       "    </tr>\n",
       "    <tr>\n",
       "      <th>26</th>\n",
       "      <td>2017</td>\n",
       "      <td>1816210</td>\n",
       "    </tr>\n",
       "    <tr>\n",
       "      <th>27</th>\n",
       "      <td>2018</td>\n",
       "      <td>1902857</td>\n",
       "    </tr>\n",
       "    <tr>\n",
       "      <th>28</th>\n",
       "      <td>2019</td>\n",
       "      <td>2271350</td>\n",
       "    </tr>\n",
       "    <tr>\n",
       "      <th>29</th>\n",
       "      <td>2020</td>\n",
       "      <td>2453533</td>\n",
       "    </tr>\n",
       "  </tbody>\n",
       "</table>\n",
       "</div>"
      ],
      "text/plain": [
       "    Year(L)  Offense Count(L)\n",
       "20     2011           1715009\n",
       "21     2012           1792213\n",
       "22     2013           1760951\n",
       "23     2014           1722483\n",
       "24     2015           1741204\n",
       "25     2016           1789788\n",
       "26     2017           1816210\n",
       "27     2018           1902857\n",
       "28     2019           2271350\n",
       "29     2020           2453533"
      ]
     },
     "execution_count": 11,
     "metadata": {},
     "output_type": "execute_result"
    }
   ],
   "source": [
    "#formatting the dataframe, Heather's code (used in stacked bar graph)\n",
    "fbi_larceny_ct_df = pd.read_csv('fbi_unformed_larceny_ct_csv.csv')\n",
    "fbi_larceny_ct_df = fbi_larceny_ct_df[[\"offense_count\", \"data_year\"]]\n",
    "fbi_larceny_ct_df.rename(columns={\"data_year\":\"Year(L)\", \"offense_count\":\"Offense Count(L)\"}, inplace=True)\n",
    "fbi_larceny_ct_df_srt = fbi_larceny_ct_df.sort_values(\"Year(L)\")\n",
    "fbi_larceny_ct_df_final = fbi_larceny_ct_df_srt.groupby(\"Year(L)\").sum()\n",
    "fbi_larceny_ct_df_final.reset_index()\n",
    "fbi_larceny_ct_df_final.reset_index(inplace = True) \n",
    "fbi_larceny_ct_df_final_set = fbi_larceny_ct_df_final[fbi_larceny_ct_df_final[\"Year(L)\"] > 2010]\n",
    "fbi_larceny_ct_df_final_set"
   ]
  },
  {
   "cell_type": "code",
   "execution_count": null,
   "id": "80ab172b",
   "metadata": {},
   "outputs": [],
=======
   "execution_count": 72,
   "id": "2332bc73",
   "metadata": {},
   "outputs": [
    {
     "data": {
      "text/html": [
       "<div>\n",
       "<style scoped>\n",
       "    .dataframe tbody tr th:only-of-type {\n",
       "        vertical-align: middle;\n",
       "    }\n",
       "\n",
       "    .dataframe tbody tr th {\n",
       "        vertical-align: top;\n",
       "    }\n",
       "\n",
       "    .dataframe thead th {\n",
       "        text-align: right;\n",
       "    }\n",
       "</style>\n",
       "<table border=\"1\" class=\"dataframe\">\n",
       "  <thead>\n",
       "    <tr style=\"text-align: right;\">\n",
       "      <th></th>\n",
       "      <th>data_year</th>\n",
       "      <th>offense_count</th>\n",
       "    </tr>\n",
       "  </thead>\n",
       "  <tbody>\n",
       "    <tr>\n",
       "      <th>0</th>\n",
       "      <td>2011</td>\n",
       "      <td>1715009</td>\n",
       "    </tr>\n",
       "    <tr>\n",
       "      <th>1</th>\n",
       "      <td>2012</td>\n",
       "      <td>1792213</td>\n",
       "    </tr>\n",
       "    <tr>\n",
       "      <th>2</th>\n",
       "      <td>2013</td>\n",
       "      <td>1760951</td>\n",
       "    </tr>\n",
       "    <tr>\n",
       "      <th>3</th>\n",
       "      <td>2014</td>\n",
       "      <td>1722483</td>\n",
       "    </tr>\n",
       "    <tr>\n",
       "      <th>4</th>\n",
       "      <td>2015</td>\n",
       "      <td>1741204</td>\n",
       "    </tr>\n",
       "    <tr>\n",
       "      <th>5</th>\n",
       "      <td>2016</td>\n",
       "      <td>1789788</td>\n",
       "    </tr>\n",
       "    <tr>\n",
       "      <th>6</th>\n",
       "      <td>2017</td>\n",
       "      <td>1816210</td>\n",
       "    </tr>\n",
       "    <tr>\n",
       "      <th>7</th>\n",
       "      <td>2018</td>\n",
       "      <td>1902857</td>\n",
       "    </tr>\n",
       "    <tr>\n",
       "      <th>8</th>\n",
       "      <td>2019</td>\n",
       "      <td>2271350</td>\n",
       "    </tr>\n",
       "    <tr>\n",
       "      <th>9</th>\n",
       "      <td>2020</td>\n",
       "      <td>2453533</td>\n",
       "    </tr>\n",
       "  </tbody>\n",
       "</table>\n",
       "</div>"
      ],
      "text/plain": [
       "   data_year  offense_count\n",
       "0       2011        1715009\n",
       "1       2012        1792213\n",
       "2       2013        1760951\n",
       "3       2014        1722483\n",
       "4       2015        1741204\n",
       "5       2016        1789788\n",
       "6       2017        1816210\n",
       "7       2018        1902857\n",
       "8       2019        2271350\n",
       "9       2020        2453533"
      ]
     },
     "execution_count": 72,
     "metadata": {},
     "output_type": "execute_result"
    }
   ],
>>>>>>> Stashed changes
   "source": [
    "#formatting the dataframe, Jamie's code (used in line plot)\n"
   ]
  },
  {
   "cell_type": "markdown",
   "id": "f90089e8",
   "metadata": {},
   "source": [
    "### Larceny Line Plot"
   ]
  },
  {
<<<<<<< HEAD
   "cell_type": "code",
<<<<<<< Updated upstream
   "execution_count": null,
=======
   "execution_count": 73,
>>>>>>> Stashed changes
   "id": "0e492344",
=======
   "attachments": {
    "larceny_graph.png": {
     "image/png": "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"
    }
   },
   "cell_type": "markdown",
   "id": "3a63806c",
>>>>>>> 0a3df415820bd971614426fe9b109757f6bb17c3
   "metadata": {},
   "source": [
    "![larceny_graph.png](attachment:larceny_graph.png)"
   ]
  },
  {
   "cell_type": "markdown",
   "id": "96960d73",
   "metadata": {},
   "source": [
    "### Larceny trend summary:\n",
    "Larcenies followed a similar trend to robberies, in that the numbers stayed relatively level until they rose steeply from 2018 to 2020."
   ]
  },
  {
   "cell_type": "markdown",
   "id": "276a7b28",
   "metadata": {},
   "source": [
    "### Counts of Burglary, Robbery, and Larceny Over 10 Years"
   ]
  },
  {
   "cell_type": "code",
   "execution_count": 13,
   "id": "4d7411f6",
   "metadata": {},
   "outputs": [
    {
     "name": "stderr",
     "output_type": "stream",
     "text": [
      "/var/folders/_g/ndr230vr8xj4_h001s7lzdlh0000gp/T/ipykernel_35750/2562707508.py:15: UserWarning: FixedFormatter should only be used together with FixedLocator\n",
      "  ax.set_xticklabels(fbi_totals_df[\"Year(L)\"], rotation=90)\n"
     ]
    },
    {
     "data": {
      "image/png": "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\n",
      "text/plain": [
       "<Figure size 432x288 with 1 Axes>"
      ]
     },
     "metadata": {
      "needs_background": "light"
     },
     "output_type": "display_data"
    }
   ],
   "source": [
    "#merging databases\n",
    "#merged_inner = pd.merge(left=survey_sub, right=species_sub, left_on='species_id', right_on='species_id')\n",
    "fbi_twototals_df = pd.merge(left=fbi_larceny_ct_df_final_set, right=fbi_robbery_ct_df_set, left_on='Year(L)', right_on='Year(R)') \n",
    "fbi_totals_df = pd.merge(left=fbi_twototals_df, right=fbi_burglary_ct_df_set, left_on='Year(L)', right_on='Year(B)')\n",
    "fbi_totals_df = fbi_totals_df[['Year(L)', 'Offense Count(L)', 'Offense Count(R)', 'Offense Count(B)']]\n",
    "fbi_totals_df\n",
    "\n",
    "#plotting the data\n",
    "fig,ax=plt.subplots()\n",
    "ax.bar(fbi_totals_df[\"Year(L)\"], fbi_totals_df[\"Offense Count(L)\"], label=\"Larcenies\")\n",
    "ax.bar(fbi_totals_df[\"Year(L)\"], fbi_totals_df[\"Offense Count(R)\"], bottom=fbi_totals_df[\"Offense Count(L)\"], label=\"Robberies\")\n",
    "ax.bar(fbi_totals_df[\"Year(L)\"], fbi_totals_df[\"Offense Count(B)\"], bottom = fbi_totals_df[\"Offense Count(L)\"]+fbi_totals_df[\"Offense Count(R)\"], label = \"Burglaries\")\n",
    "\n",
    "ax.set_title(\"Burglary, Robbery, Larceny Totals by Year\")\n",
    "ax.set_xticklabels(fbi_totals_df[\"Year(L)\"], rotation=90)\n",
    "ax.set_ylabel(\"Number of Thefts (in millions)\")\n",
    "ax.legend()\n",
    "\n",
    "plt.show()"
   ]
  },
  {
   "cell_type": "markdown",
<<<<<<< Updated upstream
=======
   "id": "e41c22fa",
   "metadata": {},
   "source": [
    "## Stolen Property Data"
   ]
  },
  {
   "cell_type": "code",
<<<<<<< Updated upstream
   "execution_count": null,
=======
   "execution_count": 74,
>>>>>>> Stashed changes
   "id": "2aedc537",
   "metadata": {},
   "outputs": [],
   "source": [
    "#API call\n",
    "fbi_stolprop_ct = requests.get('https://api.usa.gov/crime/fbi/sapi/api/data/nibrs/stolen-property-offenses/offense/national/count/?limit=1&api_key='+FBI_api_key)\n",
    "fbi_json_stolprop_ct = json.loads(fbi_stolprop_ct.text)"
   ]
  },
  {
   "cell_type": "code",
<<<<<<< Updated upstream
   "execution_count": null,
=======
   "execution_count": 75,
>>>>>>> Stashed changes
   "id": "9c24ec15",
   "metadata": {},
   "outputs": [],
   "source": [
    "#data to json to csv\n",
    "raw_fbi_stolprop_ct = []\n",
    "raw_fbi_stolprop_ct.append(fbi_json_stolprop_ct)\n",
    "fbi_unformed_stolprop_ct = pd.json_normalize(raw_fbi_stolprop_ct, record_path = [\"results\"])\n",
    "fbi_unformed_stolprop_ct.to_csv('fbi_unformed_stolprop_ct_csv.csv')"
   ]
  },
  {
   "cell_type": "code",
<<<<<<< Updated upstream
   "execution_count": 4,
=======
   "execution_count": 76,
>>>>>>> Stashed changes
   "id": "1c48976d",
   "metadata": {},
   "outputs": [
    {
<<<<<<< Updated upstream
     "ename": "NameError",
     "evalue": "name 'fbi_unformed_stolprop_ct' is not defined",
     "output_type": "error",
     "traceback": [
      "\u001b[0;31m---------------------------------------------------------------------------\u001b[0m",
      "\u001b[0;31mNameError\u001b[0m                                 Traceback (most recent call last)",
      "\u001b[0;32m/var/folders/_g/ndr230vr8xj4_h001s7lzdlh0000gp/T/ipykernel_34226/1338513226.py\u001b[0m in \u001b[0;36m<module>\u001b[0;34m\u001b[0m\n\u001b[1;32m      1\u001b[0m \u001b[0;31m#csv to dataframe\u001b[0m\u001b[0;34m\u001b[0m\u001b[0;34m\u001b[0m\u001b[0m\n\u001b[0;32m----> 2\u001b[0;31m \u001b[0mstolprop_df\u001b[0m \u001b[0;34m=\u001b[0m \u001b[0mpd\u001b[0m\u001b[0;34m.\u001b[0m\u001b[0mDataFrame\u001b[0m\u001b[0;34m(\u001b[0m\u001b[0mfbi_unformed_stolprop_ct\u001b[0m\u001b[0;34m)\u001b[0m\u001b[0;34m\u001b[0m\u001b[0;34m\u001b[0m\u001b[0m\n\u001b[0m\u001b[1;32m      3\u001b[0m \u001b[0;34m\u001b[0m\u001b[0m\n\u001b[1;32m      4\u001b[0m \u001b[0;31m# Sort df by year\u001b[0m\u001b[0;34m\u001b[0m\u001b[0;34m\u001b[0m\u001b[0m\n\u001b[1;32m      5\u001b[0m \u001b[0mstolprop_sorted\u001b[0m \u001b[0;34m=\u001b[0m \u001b[0mstolprop_df\u001b[0m\u001b[0;34m.\u001b[0m\u001b[0msort_values\u001b[0m\u001b[0;34m(\u001b[0m\u001b[0;34m'data_year'\u001b[0m\u001b[0;34m)\u001b[0m\u001b[0;34m\u001b[0m\u001b[0;34m\u001b[0m\u001b[0m\n",
      "\u001b[0;31mNameError\u001b[0m: name 'fbi_unformed_stolprop_ct' is not defined"
     ]
=======
     "data": {
      "text/html": [
       "<div>\n",
       "<style scoped>\n",
       "    .dataframe tbody tr th:only-of-type {\n",
       "        vertical-align: middle;\n",
       "    }\n",
       "\n",
       "    .dataframe tbody tr th {\n",
       "        vertical-align: top;\n",
       "    }\n",
       "\n",
       "    .dataframe thead th {\n",
       "        text-align: right;\n",
       "    }\n",
       "</style>\n",
       "<table border=\"1\" class=\"dataframe\">\n",
       "  <thead>\n",
       "    <tr style=\"text-align: right;\">\n",
       "      <th></th>\n",
       "      <th>index</th>\n",
       "      <th>incident_count</th>\n",
       "      <th>offense_count</th>\n",
       "      <th>data_year</th>\n",
       "    </tr>\n",
       "  </thead>\n",
       "  <tbody>\n",
       "    <tr>\n",
       "      <th>0</th>\n",
       "      <td>1</td>\n",
       "      <td>32951</td>\n",
       "      <td>32951</td>\n",
       "      <td>2011</td>\n",
       "    </tr>\n",
       "    <tr>\n",
       "      <th>1</th>\n",
       "      <td>12</td>\n",
       "      <td>36594</td>\n",
       "      <td>36594</td>\n",
       "      <td>2012</td>\n",
       "    </tr>\n",
       "    <tr>\n",
       "      <th>2</th>\n",
       "      <td>17</td>\n",
       "      <td>37367</td>\n",
       "      <td>37367</td>\n",
       "      <td>2013</td>\n",
       "    </tr>\n",
       "    <tr>\n",
       "      <th>3</th>\n",
       "      <td>21</td>\n",
       "      <td>37273</td>\n",
       "      <td>37273</td>\n",
       "      <td>2014</td>\n",
       "    </tr>\n",
       "    <tr>\n",
       "      <th>4</th>\n",
       "      <td>22</td>\n",
       "      <td>39088</td>\n",
       "      <td>39088</td>\n",
       "      <td>2015</td>\n",
       "    </tr>\n",
       "    <tr>\n",
       "      <th>5</th>\n",
       "      <td>6</td>\n",
       "      <td>45781</td>\n",
       "      <td>45781</td>\n",
       "      <td>2016</td>\n",
       "    </tr>\n",
       "    <tr>\n",
       "      <th>6</th>\n",
       "      <td>11</td>\n",
       "      <td>49301</td>\n",
       "      <td>49301</td>\n",
       "      <td>2017</td>\n",
       "    </tr>\n",
       "    <tr>\n",
       "      <th>7</th>\n",
       "      <td>18</td>\n",
       "      <td>53094</td>\n",
       "      <td>53094</td>\n",
       "      <td>2018</td>\n",
       "    </tr>\n",
       "    <tr>\n",
       "      <th>8</th>\n",
       "      <td>27</td>\n",
       "      <td>62034</td>\n",
       "      <td>62034</td>\n",
       "      <td>2019</td>\n",
       "    </tr>\n",
       "    <tr>\n",
       "      <th>9</th>\n",
       "      <td>25</td>\n",
       "      <td>72323</td>\n",
       "      <td>72323</td>\n",
       "      <td>2020</td>\n",
       "    </tr>\n",
       "  </tbody>\n",
       "</table>\n",
       "</div>"
      ],
      "text/plain": [
       "   index  incident_count  offense_count  data_year\n",
       "0      1           32951          32951       2011\n",
       "1     12           36594          36594       2012\n",
       "2     17           37367          37367       2013\n",
       "3     21           37273          37273       2014\n",
       "4     22           39088          39088       2015\n",
       "5      6           45781          45781       2016\n",
       "6     11           49301          49301       2017\n",
       "7     18           53094          53094       2018\n",
       "8     27           62034          62034       2019\n",
       "9     25           72323          72323       2020"
      ]
     },
     "execution_count": 76,
     "metadata": {},
     "output_type": "execute_result"
>>>>>>> Stashed changes
    }
   ],
   "source": [
    "#csv to dataframe\n",
    "stolprop_df = pd.DataFrame(fbi_unformed_stolprop_ct)\n",
    "\n",
    "# Sort df by year\n",
    "stolprop_sorted = stolprop_df.sort_values('data_year')\n",
    "\n",
    "# Filter for 2011-2020 data\n",
    "stolprop_by_yr = stolprop_sorted[stolprop_sorted['data_year']>=2011]\n",
    "\n",
    "# Reset index and keep data_year as a column\n",
    "stolprop_reset = stolprop_by_yr.reset_index()\n",
    "\n",
    "pd.DataFrame(stolprop_reset)"
   ]
  },
  {
   "cell_type": "markdown",
   "id": "3e838657",
   "metadata": {},
   "source": [
    "### Stolen Property Line Plot"
   ]
  },
  {
   "cell_type": "code",
<<<<<<< Updated upstream
   "execution_count": null,
=======
   "execution_count": 77,
>>>>>>> Stashed changes
   "id": "a49b8ba6",
   "metadata": {},
   "outputs": [],
   "source": [
    "fig,ax=plt.subplots()\n",
    "ax.plot(stolprop_reset['data_year'], stolprop_reset['offense_count'], marker='o', color = 'red')\n",
    "ax.set_xlabel('Year')\n",
    "ax.set_ylabel(\"Number of Offenses\")\n",
    "ax.set_title('FBI Crime Data:  Stolen Property')\n",
    "plt.show()"
   ]
  },
  {
   "cell_type": "markdown",
>>>>>>> Stashed changes
   "id": "c9362d12",
   "metadata": {},
   "source": [
    "## Unemployment Rate"
   ]
  },
  {
   "cell_type": "code",
<<<<<<< Updated upstream
   "execution_count": null,
=======
   "execution_count": 117,
>>>>>>> Stashed changes
   "id": "02909303",
   "metadata": {},
   "outputs": [
    {
     "name": "stdout",
     "output_type": "stream",
     "text": [
      "        seriesID  year month rate footnotes\n",
      "0    LNS14000000  2020   M12  6.7          \n",
      "1    LNS14000000  2020   M11  6.7          \n",
      "2    LNS14000000  2020   M10  6.9          \n",
      "3    LNS14000000  2020   M09  7.8          \n",
      "4    LNS14000000  2020   M08  8.4          \n",
      "..           ...   ...   ...  ...       ...\n",
      "115  LNS14000000  2011   M05  9.0          \n",
      "116  LNS14000000  2011   M04  9.1          \n",
      "117  LNS14000000  2011   M03  9.0          \n",
      "118  LNS14000000  2011   M02  9.0          \n",
      "119  LNS14000000  2011   M01  9.1          \n",
      "\n",
      "[120 rows x 5 columns]\n"
     ]
    }
   ],
   "source": [
<<<<<<< Updated upstream
    "#API call"
=======
    "#BLS JSON request\n",
    "base_url=\"https://api.bls.gov/publicAPI/v2/timeseries/data/?registrationkey=\"+BLS_api_key+\"&catalog=false&startyear=2011&endyear=2020&calculations=true&annualaverage=true&aspects=true\"\n",
    "\n",
    "new_list =[]\n",
    "\n",
    "headers = {'Content-type': 'application/json'}\n",
    "data = json.dumps({\"seriesid\": [\"LNS14000000\"],\"startyear\":\"2011\", \"endyear\":\"2020\"})\n",
    "bls_unemp = requests.post('https://api.bls.gov/publicAPI/v2/timeseries/data/', data=data, headers=headers)\n",
    "bls_json_data_unemp = json.loads(bls_unemp.text)\n",
    "\n",
    "\n",
    "for series in bls_json_data_unemp['Results']['series']:\n",
    "    x=prettytable.PrettyTable([\"series id\",\"year\",\"period\",\"value\",\"footnotes\"])\n",
    "    seriesId = series['seriesID']\n",
    "    for item in series['data']:\n",
    "        year = item['year']\n",
    "        period = item['period']\n",
    "        value = item['value']\n",
    "        footnotes=\"\"\n",
    "        for footnote in item['footnotes']:\n",
    "            if footnote:\n",
    "                footnotes = footnotes + footnote['text'] + ','\n",
    "        if 'M01' <= period <= 'M12':\n",
    "            x.add_row([seriesId,year,period,value,footnotes[0:-1]])\n",
    "            unemp_list=[seriesId,year,period,value,footnotes[0:-1]]\n",
    "            new_list.append(unemp_list)\n",
    "    output = open(seriesId + '.txt','w')\n",
    "    output.write (x.get_string())\n",
    "    output.close()\n",
    "\n",
    "\n",
    "unemp_df=pd.DataFrame(new_list)\n",
    "unemp_df=unemp_df.rename(columns={0:'seriesID',1:'year',2:'month',3:'rate', 4:'footnotes'})\n",
    "\n",
    "print(unemp_df)"
>>>>>>> Stashed changes
   ]
  },
  {
   "cell_type": "code",
<<<<<<< Updated upstream
   "execution_count": null,
=======
   "execution_count": 122,
>>>>>>> Stashed changes
   "id": "59aef716",
   "metadata": {},
   "outputs": [
    {
     "ename": "KeyError",
     "evalue": "'year'",
     "output_type": "error",
     "traceback": [
      "\u001b[1;31m---------------------------------------------------------------------------\u001b[0m",
      "\u001b[1;31mKeyError\u001b[0m                                  Traceback (most recent call last)",
      "\u001b[1;32mC:\\Users\\JMORTE~1\\AppData\\Local\\Temp/ipykernel_15292/3175437878.py\u001b[0m in \u001b[0;36m<module>\u001b[1;34m\u001b[0m\n\u001b[0;32m      2\u001b[0m \u001b[1;33m\u001b[0m\u001b[0m\n\u001b[0;32m      3\u001b[0m \u001b[1;31m#sort by year\u001b[0m\u001b[1;33m\u001b[0m\u001b[1;33m\u001b[0m\u001b[0m\n\u001b[1;32m----> 4\u001b[1;33m \u001b[0munemp_sorted\u001b[0m\u001b[1;33m=\u001b[0m\u001b[0munemp_df\u001b[0m\u001b[1;33m.\u001b[0m\u001b[0msort_values\u001b[0m\u001b[1;33m(\u001b[0m\u001b[0mby\u001b[0m\u001b[1;33m=\u001b[0m\u001b[1;33m[\u001b[0m\u001b[1;34m'year'\u001b[0m\u001b[1;33m,\u001b[0m\u001b[1;34m'month'\u001b[0m\u001b[1;33m]\u001b[0m\u001b[1;33m)\u001b[0m\u001b[1;33m\u001b[0m\u001b[1;33m\u001b[0m\u001b[0m\n\u001b[0m\u001b[0;32m      5\u001b[0m \u001b[0mpd\u001b[0m\u001b[1;33m.\u001b[0m\u001b[0mDataFrame\u001b[0m\u001b[1;33m(\u001b[0m\u001b[0munemp_sorted\u001b[0m\u001b[1;33m)\u001b[0m\u001b[1;33m\u001b[0m\u001b[1;33m\u001b[0m\u001b[0m\n\u001b[0;32m      6\u001b[0m \u001b[1;33m\u001b[0m\u001b[0m\n",
      "\u001b[1;32m~\\AppData\\Local\\Programs\\Python\\Python39\\lib\\site-packages\\pandas\\util\\_decorators.py\u001b[0m in \u001b[0;36mwrapper\u001b[1;34m(*args, **kwargs)\u001b[0m\n\u001b[0;32m    309\u001b[0m                     \u001b[0mstacklevel\u001b[0m\u001b[1;33m=\u001b[0m\u001b[0mstacklevel\u001b[0m\u001b[1;33m,\u001b[0m\u001b[1;33m\u001b[0m\u001b[1;33m\u001b[0m\u001b[0m\n\u001b[0;32m    310\u001b[0m                 )\n\u001b[1;32m--> 311\u001b[1;33m             \u001b[1;32mreturn\u001b[0m \u001b[0mfunc\u001b[0m\u001b[1;33m(\u001b[0m\u001b[1;33m*\u001b[0m\u001b[0margs\u001b[0m\u001b[1;33m,\u001b[0m \u001b[1;33m**\u001b[0m\u001b[0mkwargs\u001b[0m\u001b[1;33m)\u001b[0m\u001b[1;33m\u001b[0m\u001b[1;33m\u001b[0m\u001b[0m\n\u001b[0m\u001b[0;32m    312\u001b[0m \u001b[1;33m\u001b[0m\u001b[0m\n\u001b[0;32m    313\u001b[0m         \u001b[1;32mreturn\u001b[0m \u001b[0mwrapper\u001b[0m\u001b[1;33m\u001b[0m\u001b[1;33m\u001b[0m\u001b[0m\n",
      "\u001b[1;32m~\\AppData\\Local\\Programs\\Python\\Python39\\lib\\site-packages\\pandas\\core\\frame.py\u001b[0m in \u001b[0;36msort_values\u001b[1;34m(self, by, axis, ascending, inplace, kind, na_position, ignore_index, key)\u001b[0m\n\u001b[0;32m   6240\u001b[0m         \u001b[1;32mif\u001b[0m \u001b[0mlen\u001b[0m\u001b[1;33m(\u001b[0m\u001b[0mby\u001b[0m\u001b[1;33m)\u001b[0m \u001b[1;33m>\u001b[0m \u001b[1;36m1\u001b[0m\u001b[1;33m:\u001b[0m\u001b[1;33m\u001b[0m\u001b[1;33m\u001b[0m\u001b[0m\n\u001b[0;32m   6241\u001b[0m \u001b[1;33m\u001b[0m\u001b[0m\n\u001b[1;32m-> 6242\u001b[1;33m             \u001b[0mkeys\u001b[0m \u001b[1;33m=\u001b[0m \u001b[1;33m[\u001b[0m\u001b[0mself\u001b[0m\u001b[1;33m.\u001b[0m\u001b[0m_get_label_or_level_values\u001b[0m\u001b[1;33m(\u001b[0m\u001b[0mx\u001b[0m\u001b[1;33m,\u001b[0m \u001b[0maxis\u001b[0m\u001b[1;33m=\u001b[0m\u001b[0maxis\u001b[0m\u001b[1;33m)\u001b[0m \u001b[1;32mfor\u001b[0m \u001b[0mx\u001b[0m \u001b[1;32min\u001b[0m \u001b[0mby\u001b[0m\u001b[1;33m]\u001b[0m\u001b[1;33m\u001b[0m\u001b[1;33m\u001b[0m\u001b[0m\n\u001b[0m\u001b[0;32m   6243\u001b[0m \u001b[1;33m\u001b[0m\u001b[0m\n\u001b[0;32m   6244\u001b[0m             \u001b[1;31m# need to rewrap columns in Series to apply key function\u001b[0m\u001b[1;33m\u001b[0m\u001b[1;33m\u001b[0m\u001b[0m\n",
      "\u001b[1;32m~\\AppData\\Local\\Programs\\Python\\Python39\\lib\\site-packages\\pandas\\core\\frame.py\u001b[0m in \u001b[0;36m<listcomp>\u001b[1;34m(.0)\u001b[0m\n\u001b[0;32m   6240\u001b[0m         \u001b[1;32mif\u001b[0m \u001b[0mlen\u001b[0m\u001b[1;33m(\u001b[0m\u001b[0mby\u001b[0m\u001b[1;33m)\u001b[0m \u001b[1;33m>\u001b[0m \u001b[1;36m1\u001b[0m\u001b[1;33m:\u001b[0m\u001b[1;33m\u001b[0m\u001b[1;33m\u001b[0m\u001b[0m\n\u001b[0;32m   6241\u001b[0m \u001b[1;33m\u001b[0m\u001b[0m\n\u001b[1;32m-> 6242\u001b[1;33m             \u001b[0mkeys\u001b[0m \u001b[1;33m=\u001b[0m \u001b[1;33m[\u001b[0m\u001b[0mself\u001b[0m\u001b[1;33m.\u001b[0m\u001b[0m_get_label_or_level_values\u001b[0m\u001b[1;33m(\u001b[0m\u001b[0mx\u001b[0m\u001b[1;33m,\u001b[0m \u001b[0maxis\u001b[0m\u001b[1;33m=\u001b[0m\u001b[0maxis\u001b[0m\u001b[1;33m)\u001b[0m \u001b[1;32mfor\u001b[0m \u001b[0mx\u001b[0m \u001b[1;32min\u001b[0m \u001b[0mby\u001b[0m\u001b[1;33m]\u001b[0m\u001b[1;33m\u001b[0m\u001b[1;33m\u001b[0m\u001b[0m\n\u001b[0m\u001b[0;32m   6243\u001b[0m \u001b[1;33m\u001b[0m\u001b[0m\n\u001b[0;32m   6244\u001b[0m             \u001b[1;31m# need to rewrap columns in Series to apply key function\u001b[0m\u001b[1;33m\u001b[0m\u001b[1;33m\u001b[0m\u001b[0m\n",
      "\u001b[1;32m~\\AppData\\Local\\Programs\\Python\\Python39\\lib\\site-packages\\pandas\\core\\generic.py\u001b[0m in \u001b[0;36m_get_label_or_level_values\u001b[1;34m(self, key, axis)\u001b[0m\n\u001b[0;32m   1777\u001b[0m             \u001b[0mvalues\u001b[0m \u001b[1;33m=\u001b[0m \u001b[0mself\u001b[0m\u001b[1;33m.\u001b[0m\u001b[0maxes\u001b[0m\u001b[1;33m[\u001b[0m\u001b[0maxis\u001b[0m\u001b[1;33m]\u001b[0m\u001b[1;33m.\u001b[0m\u001b[0mget_level_values\u001b[0m\u001b[1;33m(\u001b[0m\u001b[0mkey\u001b[0m\u001b[1;33m)\u001b[0m\u001b[1;33m.\u001b[0m\u001b[0m_values\u001b[0m\u001b[1;33m\u001b[0m\u001b[1;33m\u001b[0m\u001b[0m\n\u001b[0;32m   1778\u001b[0m         \u001b[1;32melse\u001b[0m\u001b[1;33m:\u001b[0m\u001b[1;33m\u001b[0m\u001b[1;33m\u001b[0m\u001b[0m\n\u001b[1;32m-> 1779\u001b[1;33m             \u001b[1;32mraise\u001b[0m \u001b[0mKeyError\u001b[0m\u001b[1;33m(\u001b[0m\u001b[0mkey\u001b[0m\u001b[1;33m)\u001b[0m\u001b[1;33m\u001b[0m\u001b[1;33m\u001b[0m\u001b[0m\n\u001b[0m\u001b[0;32m   1780\u001b[0m \u001b[1;33m\u001b[0m\u001b[0m\n\u001b[0;32m   1781\u001b[0m         \u001b[1;31m# Check for duplicates\u001b[0m\u001b[1;33m\u001b[0m\u001b[1;33m\u001b[0m\u001b[0m\n",
      "\u001b[1;31mKeyError\u001b[0m: 'year'"
     ]
    }
   ],
   "source": [
<<<<<<< Updated upstream
    "#data to json to csv"
=======
    "#creating unemployment dataframe\n",
    "\n",
    "#sort by year\n",
    "unemp_sorted=unemp_df.sort_values(by=['year','month'])\n",
    "pd.DataFrame(unemp_sorted)\n",
    "\n",
    "# average unemployment rates by year\n",
    "#unemp_by_yr=unemp_sorted.groupby('year').mean('rate')\n"
>>>>>>> Stashed changes
   ]
  },
  {
   "cell_type": "code",
   "execution_count": 120,
   "id": "6f682ce0",
   "metadata": {},
   "outputs": [
    {
     "name": "stdout",
     "output_type": "stream",
     "text": [
      "Empty DataFrame\n",
      "Columns: []\n",
      "Index: [2011, 2012, 2013, 2014, 2015, 2016, 2017, 2018, 2019, 2020]\n"
     ]
    }
   ],
   "source": [
<<<<<<< Updated upstream
    "#csv to dataframe"
=======
    "#csv to dataframe\n",
    "\n",
    "print(unemp_by_yr)\n",
    "# Filter for 2011-2020 data\n",
    "#unemp_by_yr = unemp_sorted[unemp_sorted['year']>=2011]\n",
    "\n",
    "# Reset index and keep data_year as a column\n",
    "#unemp_reset = unemp_by_yr.reset_index()\n",
    "\n",
    "#pd.DataFrame(unemp_reset)"
>>>>>>> Stashed changes
   ]
  },
  {
   "cell_type": "markdown",
   "id": "f68c6dc4",
   "metadata": {},
   "source": [
    "### Unemployment Rate Line Plot"
   ]
  },
  {
   "cell_type": "code",
   "execution_count": 82,
   "id": "ac4f0841",
   "metadata": {},
   "outputs": [
    {
     "ename": "NameError",
     "evalue": "name 'unemp_reset' is not defined",
     "output_type": "error",
     "traceback": [
      "\u001b[1;31m---------------------------------------------------------------------------\u001b[0m",
      "\u001b[1;31mNameError\u001b[0m                                 Traceback (most recent call last)",
      "\u001b[1;32mC:\\Users\\JMORTE~1\\AppData\\Local\\Temp/ipykernel_15292/3461759707.py\u001b[0m in \u001b[0;36m<module>\u001b[1;34m\u001b[0m\n\u001b[0;32m      1\u001b[0m \u001b[0mfig\u001b[0m\u001b[1;33m,\u001b[0m\u001b[0max\u001b[0m\u001b[1;33m=\u001b[0m\u001b[0mplt\u001b[0m\u001b[1;33m.\u001b[0m\u001b[0msubplots\u001b[0m\u001b[1;33m(\u001b[0m\u001b[1;33m)\u001b[0m\u001b[1;33m\u001b[0m\u001b[1;33m\u001b[0m\u001b[0m\n\u001b[1;32m----> 2\u001b[1;33m \u001b[0max\u001b[0m\u001b[1;33m.\u001b[0m\u001b[0mplot\u001b[0m\u001b[1;33m(\u001b[0m\u001b[0munemp_reset\u001b[0m\u001b[1;33m[\u001b[0m\u001b[1;34m'year'\u001b[0m\u001b[1;33m]\u001b[0m\u001b[1;33m,\u001b[0m \u001b[0munemp_reset\u001b[0m\u001b[1;33m[\u001b[0m\u001b[1;34m'offense_count'\u001b[0m\u001b[1;33m]\u001b[0m\u001b[1;33m,\u001b[0m \u001b[0mmarker\u001b[0m\u001b[1;33m=\u001b[0m\u001b[1;34m'o'\u001b[0m\u001b[1;33m,\u001b[0m \u001b[0mcolor\u001b[0m \u001b[1;33m=\u001b[0m \u001b[1;34m'red'\u001b[0m\u001b[1;33m)\u001b[0m\u001b[1;33m\u001b[0m\u001b[1;33m\u001b[0m\u001b[0m\n\u001b[0m\u001b[0;32m      3\u001b[0m \u001b[0max\u001b[0m\u001b[1;33m.\u001b[0m\u001b[0mset_xlabel\u001b[0m\u001b[1;33m(\u001b[0m\u001b[1;34m'Year'\u001b[0m\u001b[1;33m)\u001b[0m\u001b[1;33m\u001b[0m\u001b[1;33m\u001b[0m\u001b[0m\n\u001b[0;32m      4\u001b[0m \u001b[0max\u001b[0m\u001b[1;33m.\u001b[0m\u001b[0mset_ylabel\u001b[0m\u001b[1;33m(\u001b[0m\u001b[1;34m\"Rate (%)\"\u001b[0m\u001b[1;33m)\u001b[0m\u001b[1;33m\u001b[0m\u001b[1;33m\u001b[0m\u001b[0m\n\u001b[0;32m      5\u001b[0m \u001b[0max\u001b[0m\u001b[1;33m.\u001b[0m\u001b[0mset_title\u001b[0m\u001b[1;33m(\u001b[0m\u001b[1;34m'BLS Crime Data:  Unemployment'\u001b[0m\u001b[1;33m)\u001b[0m\u001b[1;33m\u001b[0m\u001b[1;33m\u001b[0m\u001b[0m\n",
      "\u001b[1;31mNameError\u001b[0m: name 'unemp_reset' is not defined"
     ]
    },
    {
     "data": {
      "image/png": "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\n",
      "text/plain": [
       "<Figure size 432x288 with 1 Axes>"
      ]
     },
     "metadata": {},
     "output_type": "display_data"
    }
   ],
   "source": [
    "fig,ax=plt.subplots()\n",
    "ax.plot(unemp_reset['year'], unemp_reset['offense_count'], marker='o', color = 'red')\n",
    "ax.set_xlabel('Year')\n",
    "ax.set_ylabel(\"Rate (%)\")\n",
    "ax.set_title('BLS Crime Data:  Unemployment')\n",
    "plt.show()"
   ]
  },
  {
   "cell_type": "markdown",
   "id": "775b3d50",
   "metadata": {},
   "source": [
    "Unemployment trend summary:"
   ]
  },
  {
   "cell_type": "markdown",
   "id": "1bb58d4a",
   "metadata": {},
   "source": [
    "## Comparing Property Theft and Unemployment Over 10 Years"
   ]
  },
  {
   "cell_type": "markdown",
   "id": "37bebf1b",
   "metadata": {},
   "source": [
    "In general, during the period 2018 to 2020, both property crime counts and the unemployment rate went up fairly sharply. We can't draw any conclusions on causation between the two, although we might speculate that the 2020 data is affected by the COVID pandemic. This period of time might be a good nexus of information to explore in more depth, with more information about the offenders' employment status at the time of committing the crime, and whether they are repeat offenders.\n",
    "\n",
    "It bears mentioning too, that these are not complete pictures of the property crime counts, because many people do not report thefts to the police, many of those crimes remain unsolved, and agencies like police departments do not necessarily report consistently to the FBI."
   ]
  },
  {
   "cell_type": "markdown",
   "id": "09238907",
   "metadata": {},
   "source": [
    "## Lessons Learned"
   ]
  },
  {
   "cell_type": "markdown",
   "id": "e9757572",
   "metadata": {},
   "source": [
    "1) Be careful of data that isn't labeled clearly; for example, \"value\" in the unemployment data was extremely vague\n",
    "and required extra research.\n",
    "\n",
    "2) It follows from the first point, but information literacy is important. It's not enough to be able to manipulate the data; we have to be able to figure out what data has been included and whether the labels are accurate (in the course of the project, some data were represented as is more usual in the statistics and economics fields as a way of abbreviating large numbers \"normalized x100,000\").\n",
    "\n",
    "3) Sometimes data will be stored using unfamiliar python modules, like \"prettytable,\" which needs to be downloaded in addition to the usual suspects."
   ]
  },
  {
   "cell_type": "markdown",
   "id": "c1049fcb",
   "metadata": {},
   "source": [
    "### Resources:\n",
    "Information on Legal Definitions and Relationships Between Types of Property Crimes\n",
    "\n",
    "https://www.atlantapd.org/home/showpublisheddocument/2881/637062879602730000\n",
    "\n",
    "Pew Research Center article on crime in the U.S.\n",
    "\n",
    "https://www.pewresearch.org/fact-tank/2020/11/20/facts-about-crime-in-the-u-s/"
   ]
  }
 ],
 "metadata": {
  "kernelspec": {
   "display_name": "Python 3 (ipykernel)",
   "language": "python",
   "name": "python3"
  },
  "language_info": {
   "codemirror_mode": {
    "name": "ipython",
    "version": 3
   },
   "file_extension": ".py",
   "mimetype": "text/x-python",
   "name": "python",
   "nbconvert_exporter": "python",
   "pygments_lexer": "ipython3",
   "version": "3.9.7"
  }
 },
 "nbformat": 4,
 "nbformat_minor": 5
}
