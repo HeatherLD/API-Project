{
 "cells": [
  {
   "cell_type": "markdown",
   "id": "ee4822e5",
   "metadata": {},
   "source": [
    "# Group API Project: Crime Rates and Unemployment Rates\n",
    "\n",
    "## November 10, 2021 -- Jamie Mortensen, Heather Leighton-Dick\n",
    "\n",
    "\n",
    "What if any relationship is there between national property crimes rates versus unemployment rates in 2010? in 2020?\n",
    "\n",
    "Is there a noticeable difference between the years? Is there a potential correlation between crime and unemployment rates? Is there a stronger correlation in one subgroup of property crimes than the others?"
   ]
  },
  {
   "cell_type": "markdown",
   "id": "a966b59c",
   "metadata": {},
   "source": [### Sources & Definitions:

We extracted data from the FBI's Crime Data Explorer API and the Bureau of Labor Statistics' Public Data API.

The CDE API is the FBI’s Uniform Crime Reporting (UCR) Program's effort to report the nation's crime data in a more timely and detailed way. It estimates national and state data and agency-level crime statistics based on the National Incident-Based Reporting System (NIBRS). The UCR has been operating since 1930, and has transitioned fully this year from the Summary Reporting System (started in 1979) to the NIBRS format. As of January 1, 2021, NIBRS will be used exclusively; some of the data will be reported in SRS standard to maintain continuity and compatibility of data.

-- https://crime-data-explorer.fr.cloud.gov/pages/about

The BLS's Public Data API provides access to ...
    "### Definitions:\n",
    "\n",
    "property crime: a category of crime, usually involving private property, that includes burglary, larceny, theft, motor vehicle theft, arson, shoplifting, and vandalism\n",
    "\n",
    "burglary: entry into a building with the intent to commit a crime, most often theft, robbery, or murder\n",
    "\n",
    "robbery: taking property unlawfully from a person or place by force or threat of force\n",
    "\n",
    "larceny: the theft of physical items that are personal property, without threat of force (theft includes all variations on stealing property from another person or entity)"
   ]
  },
  {
   "cell_type": "markdown",
   "id": "d02aaaba",
   "metadata": {},
   "source": [
    "### Set-Up and Importing Modules"
   ]
  },
  {
   "cell_type": "code",
   "execution_count": 5,
   "id": "1a627afd",
   "metadata": {},
   "outputs": [],
   "source": [
    "import requests\n",
    "import pandas as pd\n",
    "import matplotlib.pyplot as plt\n",
    "import numpy as np\n",
    "import time\n",
    "from pprint import pprint\n",
    "import citipy\n",
    "import json\n",
    "from citipy import citipy\n",
    "import seaborn as sns\n",
    "import prettytable\n",
    "import API_Keys\n",
    "\n",
    "from API_Keys import FBI_api_key, BLS_api_key"
   ]
  },
  {
   "cell_type": "markdown",
   "id": "6e846a6b",
   "metadata": {},
   "source": [
    "## Performing the API Calls and Collecting the Data"
   ]
  },
  {
   "cell_type": "markdown",
   "id": "d456539f",
   "metadata": {},
   "source": [
    "## Burglary Data"
   ]
  },
  {
   "cell_type": "code",
   "execution_count": 8,
   "id": "bac85993",
   "metadata": {},
   "outputs": [],
   "source": [
    "#API call\n",
    "headers = {\"Incident\": \"incident_count\", \"Offense\": \"offense_count\", \"Year\": \"data_year\"}\n",
    "fbi_burglary_ct = requests.get('https://api.usa.gov/crime/fbi/sapi/api/data/nibrs/burglary-breaking-and-entering/offense/national/count/?limit=1&api_key='+FBI_api_key)\n",
    "fbi_json_bur_ct = json.loads(fbi_burglary_ct.text)"
   ]
  },
  {
   "cell_type": "code",
   "execution_count": 9,
   "id": "1b9e0fdb",
   "metadata": {},
   "outputs": [],
   "source": [
    "#data to json to csv\n",
    "raw_fbi_bur_ct = []\n",
    "raw_fbi_bur_ct.append(fbi_json_bur_ct)\n",
    "fbi_unformed_bur_ct = pd.json_normalize(raw_fbi_bur_ct, record_path = [\"results\"])\n",
    "fbi_unformed_bur_ct.to_csv('fbi_unformed_bur_ct_csv.csv')"
   ]
  },
  {
   "cell_type": "code",
   "execution_count": 21,
   "id": "d0ceee30",
   "metadata": {},
   "outputs": [
    {
     "data": {
      "text/html": [
       "<div>\n",
       "<style scoped>\n",
       "    .dataframe tbody tr th:only-of-type {\n",
       "        vertical-align: middle;\n",
       "    }\n",
       "\n",
       "    .dataframe tbody tr th {\n",
       "        vertical-align: top;\n",
       "    }\n",
       "\n",
       "    .dataframe thead th {\n",
       "        text-align: right;\n",
       "    }\n",
       "</style>\n",
       "<table border=\"1\" class=\"dataframe\">\n",
       "  <thead>\n",
       "    <tr style=\"text-align: right;\">\n",
       "      <th></th>\n",
       "      <th>incident_count</th>\n",
       "      <th>offense_count</th>\n",
       "      <th>data_year</th>\n",
       "    </tr>\n",
       "  </thead>\n",
       "  <tbody>\n",
       "    <tr>\n",
       "      <th>0</th>\n",
       "      <td>585312</td>\n",
       "      <td>585312</td>\n",
       "      <td>2011</td>\n",
       "    </tr>\n",
       "    <tr>\n",
       "      <th>1</th>\n",
       "      <td>586634</td>\n",
       "      <td>586634</td>\n",
       "      <td>2012</td>\n",
       "    </tr>\n",
       "    <tr>\n",
       "      <th>2</th>\n",
       "      <td>537536</td>\n",
       "      <td>537536</td>\n",
       "      <td>2013</td>\n",
       "    </tr>\n",
       "    <tr>\n",
       "      <th>3</th>\n",
       "      <td>482371</td>\n",
       "      <td>482371</td>\n",
       "      <td>2014</td>\n",
       "    </tr>\n",
       "    <tr>\n",
       "      <th>4</th>\n",
       "      <td>462537</td>\n",
       "      <td>462537</td>\n",
       "      <td>2015</td>\n",
       "    </tr>\n",
       "    <tr>\n",
       "      <th>5</th>\n",
       "      <td>462509</td>\n",
       "      <td>462509</td>\n",
       "      <td>2016</td>\n",
       "    </tr>\n",
       "    <tr>\n",
       "      <th>6</th>\n",
       "      <td>441958</td>\n",
       "      <td>441958</td>\n",
       "      <td>2017</td>\n",
       "    </tr>\n",
       "    <tr>\n",
       "      <th>7</th>\n",
       "      <td>434631</td>\n",
       "      <td>434631</td>\n",
       "      <td>2018</td>\n",
       "    </tr>\n",
       "    <tr>\n",
       "      <th>8</th>\n",
       "      <td>494159</td>\n",
       "      <td>494159</td>\n",
       "      <td>2019</td>\n",
       "    </tr>\n",
       "    <tr>\n",
       "      <th>9</th>\n",
       "      <td>522426</td>\n",
       "      <td>522426</td>\n",
       "      <td>2020</td>\n",
       "    </tr>\n",
       "  </tbody>\n",
       "</table>\n",
       "</div>"
      ],
      "text/plain": [
       "   incident_count  offense_count  data_year\n",
       "0          585312         585312       2011\n",
       "1          586634         586634       2012\n",
       "2          537536         537536       2013\n",
       "3          482371         482371       2014\n",
       "4          462537         462537       2015\n",
       "5          462509         462509       2016\n",
       "6          441958         441958       2017\n",
       "7          434631         434631       2018\n",
       "8          494159         494159       2019\n",
       "9          522426         522426       2020"
      ]
     },
     "execution_count": 21,
     "metadata": {},
     "output_type": "execute_result"
    }
   ],
   "source": [
    "#csv to dataframe\n",
    "burg_df = pd.DataFrame(fbi_unformed_bur_ct)\n",
    "# Sort df by year\n",
    "burg_sorted = burg_df.sort_values('data_year')\n",
    "# Filter for 2011-2020 data\n",
    "burg_by_yr = burg_sorted[burg_sorted['data_year']>=2011]\n",
    "# Reset index and drop old one\n",
    "burg_reset = burg_by_yr.reset_index(drop=True)\n",
    "pd.DataFrame(burg_reset)"
   ]
  },
  {
   "cell_type": "markdown",
   "id": "397a4141",
   "metadata": {},
   "source": [
    "### Burglary Data Line Plot"
   ]
  },
  {
   "cell_type": "code",
   "execution_count": 32,
   "id": "fe729be0",
   "metadata": {},
   "outputs": [
    {
     "data": {
      "image/png": "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\n",
      "text/plain": [
       "<Figure size 432x288 with 1 Axes>"
      ]
     },
     "metadata": {},
     "output_type": "display_data"
    }
   ],
   "source": [
    "sns.set_style(\"darkgrid\")\n",
    "fig,ax=plt.subplots()\n",
    "ax.plot(burg_reset['data_year'], burg_reset['offense_count'], marker='o', color = 'green')\n",
    "ax.set_xlabel('Year')\n",
    "ax.set_ylabel(\"Number of Offenses\")\n",
    "ax.set_title('FBI Crime Data:  Burglary')\n",
    "plt.show()"
   ]
  },
  {
   "cell_type": "markdown",
   "id": "b4d6d325",
   "metadata": {},
   "source": [
    "Burglary trend summary:"
   ]
  },
  {
   "cell_type": "markdown",
   "id": "fb347923",
   "metadata": {},
   "source": [
    "## Robbery Data"
   ]
  },
  {
   "cell_type": "code",
   "execution_count": 35,
   "id": "c34595c1",
   "metadata": {},
   "outputs": [],
   "source": [
    "#API call\n",
    "fbi_robbery_ct = requests.get('https://api.usa.gov/crime/fbi/sapi/api/data/nibrs/robbery/offense/national/count/?limit=1&api_key=HXzuNSaaIO46x38N0iVVKpMDgrP6GG3mxBcacgRH')"
   ]
  },
  {
   "cell_type": "code",
   "execution_count": 36,
   "id": "cacd1d41",
   "metadata": {},
   "outputs": [],
   "source": [
    "#data to json to csv\n",
    "fbi_json_robbery_ct = json.loads(fbi_robbery_ct.text)\n",
    "raw_fbi_robbery_ct = []\n",
    "raw_fbi_robbery_ct.append(fbi_json_robbery_ct)\n",
    "fbi_unformed_robbery_ct = pd.json_normalize(raw_fbi_robbery_ct, record_path = [\"results\"])\n",
    "fbi_unformed_robbery_ct.to_csv('fbi_unformed_robbery_ct_csv.csv')"
   ]
  },
  {
   "cell_type": "code",
   "execution_count": 40,
   "id": "e17d8e86",
   "metadata": {},
   "outputs": [
    {
     "data": {
      "text/html": [
       "<div>\n",
       "<style scoped>\n",
       "    .dataframe tbody tr th:only-of-type {\n",
       "        vertical-align: middle;\n",
       "    }\n",
       "\n",
       "    .dataframe tbody tr th {\n",
       "        vertical-align: top;\n",
       "    }\n",
       "\n",
       "    .dataframe thead th {\n",
       "        text-align: right;\n",
       "    }\n",
       "</style>\n",
       "<table border=\"1\" class=\"dataframe\">\n",
       "  <thead>\n",
       "    <tr style=\"text-align: right;\">\n",
       "      <th></th>\n",
       "      <th>incident_count</th>\n",
       "      <th>offense_count</th>\n",
       "      <th>data_year</th>\n",
       "    </tr>\n",
       "  </thead>\n",
       "  <tbody>\n",
       "    <tr>\n",
       "      <th>0</th>\n",
       "      <td>72942</td>\n",
       "      <td>72942</td>\n",
       "      <td>2011</td>\n",
       "    </tr>\n",
       "    <tr>\n",
       "      <th>1</th>\n",
       "      <td>74626</td>\n",
       "      <td>74626</td>\n",
       "      <td>2012</td>\n",
       "    </tr>\n",
       "    <tr>\n",
       "      <th>2</th>\n",
       "      <td>72200</td>\n",
       "      <td>72200</td>\n",
       "      <td>2013</td>\n",
       "    </tr>\n",
       "    <tr>\n",
       "      <th>3</th>\n",
       "      <td>68471</td>\n",
       "      <td>68471</td>\n",
       "      <td>2014</td>\n",
       "    </tr>\n",
       "    <tr>\n",
       "      <th>4</th>\n",
       "      <td>70713</td>\n",
       "      <td>70713</td>\n",
       "      <td>2015</td>\n",
       "    </tr>\n",
       "    <tr>\n",
       "      <th>5</th>\n",
       "      <td>73328</td>\n",
       "      <td>73328</td>\n",
       "      <td>2016</td>\n",
       "    </tr>\n",
       "    <tr>\n",
       "      <th>6</th>\n",
       "      <td>72311</td>\n",
       "      <td>72311</td>\n",
       "      <td>2017</td>\n",
       "    </tr>\n",
       "    <tr>\n",
       "      <th>7</th>\n",
       "      <td>78559</td>\n",
       "      <td>78559</td>\n",
       "      <td>2018</td>\n",
       "    </tr>\n",
       "    <tr>\n",
       "      <th>8</th>\n",
       "      <td>95627</td>\n",
       "      <td>95627</td>\n",
       "      <td>2019</td>\n",
       "    </tr>\n",
       "    <tr>\n",
       "      <th>9</th>\n",
       "      <td>102677</td>\n",
       "      <td>102677</td>\n",
       "      <td>2020</td>\n",
       "    </tr>\n",
       "  </tbody>\n",
       "</table>\n",
       "</div>"
      ],
      "text/plain": [
       "   incident_count  offense_count  data_year\n",
       "0           72942          72942       2011\n",
       "1           74626          74626       2012\n",
       "2           72200          72200       2013\n",
       "3           68471          68471       2014\n",
       "4           70713          70713       2015\n",
       "5           73328          73328       2016\n",
       "6           72311          72311       2017\n",
       "7           78559          78559       2018\n",
       "8           95627          95627       2019\n",
       "9          102677         102677       2020"
      ]
     },
     "execution_count": 40,
     "metadata": {},
     "output_type": "execute_result"
    }
   ],
   "source": [
    "#csv to dataframe\n",
    "robb_df = pd.DataFrame(fbi_unformed_robbery_ct)\n",
    "\n",
    "# Sort df by year\n",
    "robb_sorted = robb_df.sort_values('data_year')\n",
    "\n",
    "# Filter for 2011-2020 data\n",
    "robb_by_yr = robb_sorted[robb_sorted['data_year']>=2011]\n",
    "\n",
    "# Reset index and drop old one\n",
    "robb_reset = robb_by_yr.reset_index(drop=True)\n",
    "pd.DataFrame(robb_reset)"
   ]
  },
  {
   "cell_type": "markdown",
   "id": "c866a6ae",
   "metadata": {},
   "source": [
    "### Robbery Data Line Plot"
   ]
  },
  {
   "cell_type": "code",
   "execution_count": 43,
   "id": "8abb8054",
   "metadata": {},
   "outputs": [
    {
     "data": {
      "image/png": "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\n",
      "text/plain": [
       "<Figure size 432x288 with 1 Axes>"
      ]
     },
     "metadata": {},
     "output_type": "display_data"
    }
   ],
   "source": [
    "fig,ax=plt.subplots()\n",
    "ax.plot(robb_reset['data_year'], robb_reset['offense_count'], marker='o', color = 'orange')\n",
    "ax.set_xlabel('Year')\n",
    "ax.set_ylabel(\"Number of Offenses\")\n",
    "ax.set_title('FBI Crime Data:  Robbery')\n",
    "plt.show()"
   ]
  },
  {
   "cell_type": "markdown",
   "id": "d7de9c08",
   "metadata": {},
   "source": [
    "Robbery trend summary:"
   ]
  },
  {
   "cell_type": "markdown",
   "id": "a0e44e69",
   "metadata": {},
   "source": [
    "## Larceny Data"
   ]
  },
  {
   "cell_type": "code",
   "execution_count": 46,
   "id": "0adf5570",
   "metadata": {},
   "outputs": [],
   "source": [
    "#API call\n",
    "fbi_larceny_ct = requests.get('https://api.usa.gov/crime/fbi/sapi/api/data/nibrs/larceny-theft-offenses/offense/national/count/?limit=1&api_key=HXzuNSaaIO46x38N0iVVKpMDgrP6GG3mxBcacgRH')\n",
    "fbi_json_larceny_ct = json.loads(fbi_larceny_ct.text)"
   ]
  },
  {
   "cell_type": "code",
   "execution_count": 47,
   "id": "552a1aa2",
   "metadata": {},
   "outputs": [],
   "source": [
    "#data to json to csv\n",
    "raw_fbi_larceny_ct = []\n",
    "raw_fbi_larceny_ct.append(fbi_json_larceny_ct)\n",
    "fbi_unformed_larceny_ct = pd.json_normalize(raw_fbi_larceny_ct, record_path = [\"results\"])\n",
    "fbi_unformed_larceny_ct.to_csv('fbi_unformed_larceny_ct_csv.csv')"
   ]
  },
  {
   "cell_type": "code",
   "execution_count": 55,
   "id": "2332bc73",
   "metadata": {},
   "outputs": [
    {
     "data": {
      "text/html": [
       "<div>\n",
       "<style scoped>\n",
       "    .dataframe tbody tr th:only-of-type {\n",
       "        vertical-align: middle;\n",
       "    }\n",
       "\n",
       "    .dataframe tbody tr th {\n",
       "        vertical-align: top;\n",
       "    }\n",
       "\n",
       "    .dataframe thead th {\n",
       "        text-align: right;\n",
       "    }\n",
       "</style>\n",
       "<table border=\"1\" class=\"dataframe\">\n",
       "  <thead>\n",
       "    <tr style=\"text-align: right;\">\n",
       "      <th></th>\n",
       "      <th>data_year</th>\n",
       "      <th>offense_count</th>\n",
       "    </tr>\n",
       "  </thead>\n",
       "  <tbody>\n",
       "    <tr>\n",
       "      <th>0</th>\n",
       "      <td>2011</td>\n",
       "      <td>1715009</td>\n",
       "    </tr>\n",
       "    <tr>\n",
       "      <th>1</th>\n",
       "      <td>2012</td>\n",
       "      <td>1792213</td>\n",
       "    </tr>\n",
       "    <tr>\n",
       "      <th>2</th>\n",
       "      <td>2013</td>\n",
       "      <td>1760951</td>\n",
       "    </tr>\n",
       "    <tr>\n",
       "      <th>3</th>\n",
       "      <td>2014</td>\n",
       "      <td>1722483</td>\n",
       "    </tr>\n",
       "    <tr>\n",
       "      <th>4</th>\n",
       "      <td>2015</td>\n",
       "      <td>1741204</td>\n",
       "    </tr>\n",
       "    <tr>\n",
       "      <th>5</th>\n",
       "      <td>2016</td>\n",
       "      <td>1789788</td>\n",
       "    </tr>\n",
       "    <tr>\n",
       "      <th>6</th>\n",
       "      <td>2017</td>\n",
       "      <td>1816210</td>\n",
       "    </tr>\n",
       "    <tr>\n",
       "      <th>7</th>\n",
       "      <td>2018</td>\n",
       "      <td>1902857</td>\n",
       "    </tr>\n",
       "    <tr>\n",
       "      <th>8</th>\n",
       "      <td>2019</td>\n",
       "      <td>2271350</td>\n",
       "    </tr>\n",
       "    <tr>\n",
       "      <th>9</th>\n",
       "      <td>2020</td>\n",
       "      <td>2453533</td>\n",
       "    </tr>\n",
       "  </tbody>\n",
       "</table>\n",
       "</div>"
      ],
      "text/plain": [
       "   data_year  offense_count\n",
       "0       2011        1715009\n",
       "1       2012        1792213\n",
       "2       2013        1760951\n",
       "3       2014        1722483\n",
       "4       2015        1741204\n",
       "5       2016        1789788\n",
       "6       2017        1816210\n",
       "7       2018        1902857\n",
       "8       2019        2271350\n",
       "9       2020        2453533"
      ]
     },
     "execution_count": 55,
     "metadata": {},
     "output_type": "execute_result"
    }
   ],
   "source": [
    "#csv to dataframe\n",
    "larc_df = pd.DataFrame(fbi_unformed_larceny_ct)\n",
    "\n",
    "# Sort df by year\n",
    "larc_sorted = larc_df.sort_values('data_year')\n",
    "\n",
    "# Filter for 2011-2020 data\n",
    "larc_by_yr = larc_sorted[larc_sorted['data_year']>=2011]\n",
    "\n",
    "# Sum count types by year\n",
    "larc_totals = larc_by_yr.groupby('data_year')['offense_count'].sum()\n",
    "\n",
    "# Reset index and keep data_year as a column\n",
    "larc_reset = larc_totals.reset_index()\n",
    "\n",
    "pd.DataFrame(larc_reset)"
   ]
  },
  {
   "cell_type": "markdown",
   "id": "f90089e8",
   "metadata": {},
   "source": [
    "### Larceny Line Plot"
   ]
  },
  {
   "cell_type": "code",
   "execution_count": 56,
   "id": "0e492344",
   "metadata": {},
   "outputs": [
    {
     "data": {
      "image/png": "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\n",
      "text/plain": [
       "<Figure size 432x288 with 1 Axes>"
      ]
     },
     "metadata": {},
     "output_type": "display_data"
    }
   ],
   "source": [
    "fig,ax=plt.subplots()\n",
    "ax.plot(larc_reset['data_year'], larc_reset['offense_count'], marker='o', color = 'purple')\n",
    "ax.set_xlabel('Year')\n",
    "ax.set_ylabel(\"Number of Offenses\")\n",
    "ax.set_title('FBI Crime Data:  Larceny')\n",
    "plt.show()"
   ]
  },
  {
   "cell_type": "markdown",
   "id": "96960d73",
   "metadata": {},
   "source": [
    "Larceny trend summary:"
   ]
  },
  {
   "cell_type": "markdown",
   "id": "c9362d12",
   "metadata": {},
   "source": [
    "## Unemployment Rate"
   ]
  },
  {
   "cell_type": "code",
   "execution_count": null,
   "id": "02909303",
   "metadata": {},
   "outputs": [],
   "source": [
    "#API call\n"
   ]
  },
  {
   "cell_type": "code",
   "execution_count": null,
   "id": "59aef716",
   "metadata": {},
   "outputs": [],
   "source": [
    "#data to json to csv"
   ]
  },
  {
   "cell_type": "code",
   "execution_count": null,
   "id": "6f682ce0",
   "metadata": {},
   "outputs": [],
   "source": [
    "#csv to dataframe"
   ]
  },
  {
   "cell_type": "markdown",
   "id": "f68c6dc4",
   "metadata": {},
   "source": [
    "### Unemployment Rate Line Plot"
   ]
  },
  {
   "cell_type": "code",
   "execution_count": null,
   "id": "ac4f0841",
   "metadata": {},
   "outputs": [],
   "source": []
  },
  {
   "cell_type": "markdown",
   "id": "775b3d50",
   "metadata": {},
   "source": [
    "Unemployment trend summary:"
   ]
  },
  {
   "cell_type": "markdown",
   "id": "1bb58d4a",
   "metadata": {},
   "source": [
    "## Comparing Property Theft and Unemployment Over 10 Years"
   ]
  },
  {
   "cell_type": "code",
   "execution_count": null,
   "id": "c2ea2e18",
   "metadata": {},
   "outputs": [],
   "source": [
    "#relplot"
   ]
  },
  {
   "cell_type": "markdown",
   "id": "eebb5d8a",
   "metadata": {},
   "source": [
    "Comparisons, trends, notable features of the data"
   ]
  },
  {
   "cell_type": "markdown",
   "id": "09238907",
   "metadata": {},
   "source": [
    "## Lessons Learned"
   ]
  },
  {
   "cell_type": "markdown",
   "id": "e9757572",
   "metadata": {},
   "source": [
    "1) Be careful of data that isn't labeled clearly; for example, \"value\" in the unemployment data was extremely vague\n",
    "and required extra research.\n",
    "\n",
    "2) It follows from the first point, but information literacy is important. It's not enough to be able to manipulate the data; we have to be able to figure out what data has been included and whether the labels are accurate (in the course of the project, some data were represented as is more usual in the statistics and economics fields as a way of abbreviating large numbers \"normalized x100,000\").\n",
    "\n",
    "3) Sometimes data will be stored using unfamiliar python modules, like \"prettytable,\" which needs to be downloaded in addition to the usual suspects."
   ]
  }
 ],
 "metadata": {
  "kernelspec": {
   "display_name": "Python 3 (ipykernel)",
   "language": "python",
   "name": "python3"
  },
  "language_info": {
   "codemirror_mode": {
    "name": "ipython",
    "version": 3
   },
   "file_extension": ".py",
   "mimetype": "text/x-python",
   "name": "python",
   "nbconvert_exporter": "python",
   "pygments_lexer": "ipython3",
   "version": "3.9.7"
  }
 },
 "nbformat": 4,
 "nbformat_minor": 5
}
