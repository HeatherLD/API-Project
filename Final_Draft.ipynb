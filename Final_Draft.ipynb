{
 "cells": [
  {
   "cell_type": "markdown",
   "id": "ee4822e5",
   "metadata": {},
   "source": [
    "# Group API Project: Crime Rates and Unemployment Rates\n",
    "\n",
    "## November 10, 2021 -- Jamie Mortensen, Heather Leighton-Dick\n",
    "\n",
    "\n",
    "What, if any, relationship is there between national property crimes rates versus unemployment rates in the years from 2010 to 2020?\n",
    "\n",
    "Is there a noticeable difference between the years? \n",
    "\n",
    "Is there a correlation between crime and unemployment rates? \n",
    "\n",
    "Is there a noticeably stronger correlation in one subgroup of property crimes than the others?"
   ]
  },
  {
   "cell_type": "markdown",
   "id": "a966b59c",
   "metadata": {},
   "source": [
    "### Sources & Definitions:\n",
    "\n",
    "We extracted data from the FBI's Crime Data Explorer API and the Bureau of Labor Statistics' Public Data API.\n",
    "\n",
    "The CDE API is the FBI’s Uniform Crime Reporting (UCR) Program's effort to report the nation's crime data in a more timely and detailed way. It estimates national and state data and agency-level crime statistics based on the National Incident-Based Reporting System (NIBRS). The UCR has been operating since 1930, and has transitioned fully this year from the Summary Reporting System (started in 1979) to the NIBRS format. As of January 1, 2021, NIBRS will be used exclusively; some of the data will be reported in SRS standard to maintain continuity and compatibility of data.\n",
    "\n",
    "-- https://crime-data-explorer.fr.cloud.gov/pages/about\n",
    "\n",
    "The BLS's Public Data API provides access to a lot of different categories of statistics, but we pulled down basic information on the unemployment numbers and created a proportion with the general population to get a percentage rate.\n",
    "\n",
    "### Definitions:\n",
    "\n",
    "It was vital to get a basic understanding of the legal differences between the different types of property crime in order to be able to construct the APIs and to understand how the data categories are related to each other.\n",
    "\n",
    "In particular:\n",
    "\n",
    "property crime: a category of crime, usually involving private property, that includes burglary, larceny, theft, motor vehicle theft, arson, shoplifting, and vandalism; the umbrella term for burglary, robbery, and larceny\n",
    "\n",
    "burglary: entry into a building with the intent to commit a crime, most often theft, robbery, or murder\n",
    "\n",
    "robbery: taking property unlawfully from a person or place by force or threat of force\n",
    "\n",
    "larceny: the theft of physical items that are personal property, without threat of force (theft includes all variations on stealing property from another person or entity)"
   ]
  },
  {
   "cell_type": "markdown",
   "id": "d02aaaba",
   "metadata": {},
   "source": [
    "### Set-Up and Importing Modules"
   ]
  },
  {
   "cell_type": "code",
   "execution_count": 2,
   "id": "1a627afd",
   "metadata": {},
   "outputs": [],
   "source": [
    "import requests\n",
    "import pandas as pd\n",
    "import matplotlib.pyplot as plt\n",
    "import numpy as np\n",
    "import time\n",
    "from pprint import pprint\n",
    "import citipy\n",
    "import json\n",
    "from citipy import citipy\n",
    "import seaborn as sns\n",
    "import prettytable\n",
    "\n",
    "from API_Keys import FBI_api_key, BLS_api_key"
   ]
  },
  {
   "cell_type": "markdown",
   "id": "6e846a6b",
   "metadata": {},
   "source": [
    "## Performing the API Calls and Collecting the Data"
   ]
  },
  {
   "cell_type": "markdown",
   "id": "d456539f",
   "metadata": {},
   "source": [
    "## Burglary Data"
   ]
  },
  {
   "cell_type": "code",
   "execution_count": 3,
   "id": "bac85993",
   "metadata": {},
   "outputs": [],
   "source": [
    "#base_url: https://api.usa.gov/crime/fbi/sapi/api/data/nibrs/{burglary}/offense/national/{count}\n",
    "headers = {\"Incident\": \"incident_count\", \"Offense\": \"offense_count\", \"Year\": \"data_year\"}\n",
    "#burglary, count\n",
    "fbi_burglary_ct = requests.get('https://api.usa.gov/crime/fbi/sapi/api/data/nibrs/burglary-breaking-and-entering/offense/national/count/?limit=1&api_key=HXzuNSaaIO46x38N0iVVKpMDgrP6GG3mxBcacgRH',headers=headers)\n",
    "fbi_json_bur_ct = json.loads(fbi_burglary_ct.text)"
   ]
  },
  {
   "cell_type": "code",
   "execution_count": 4,
   "id": "1b9e0fdb",
   "metadata": {},
   "outputs": [],
   "source": [
    "#cleaning and reformatting the data (used in stacked bar graph)\n",
    "raw_fbi_bur_ct = []\n",
    "raw_fbi_bur_ct.append(fbi_json_bur_ct)\n",
    "fbi_unformed_bur_ct = pd.json_normalize(raw_fbi_bur_ct, record_path = [\"results\"])\n",
    "fbi_unformed_bur_ct.to_csv('fbi_unformed_bur_ct_csv.csv')"
   ]
  },
  {
   "cell_type": "code",
   "execution_count": 5,
   "id": "d0ceee30",
   "metadata": {},
   "outputs": [
    {
     "data": {
      "text/html": [
       "<div>\n",
       "<style scoped>\n",
       "    .dataframe tbody tr th:only-of-type {\n",
       "        vertical-align: middle;\n",
       "    }\n",
       "\n",
       "    .dataframe tbody tr th {\n",
       "        vertical-align: top;\n",
       "    }\n",
       "\n",
       "    .dataframe thead th {\n",
       "        text-align: right;\n",
       "    }\n",
       "</style>\n",
       "<table border=\"1\" class=\"dataframe\">\n",
       "  <thead>\n",
       "    <tr style=\"text-align: right;\">\n",
       "      <th></th>\n",
       "      <th>Offense Count(B)</th>\n",
       "      <th>Year(B)</th>\n",
       "    </tr>\n",
       "  </thead>\n",
       "  <tbody>\n",
       "    <tr>\n",
       "      <th>11</th>\n",
       "      <td>585312</td>\n",
       "      <td>2011</td>\n",
       "    </tr>\n",
       "    <tr>\n",
       "      <th>0</th>\n",
       "      <td>586634</td>\n",
       "      <td>2012</td>\n",
       "    </tr>\n",
       "    <tr>\n",
       "      <th>29</th>\n",
       "      <td>537536</td>\n",
       "      <td>2013</td>\n",
       "    </tr>\n",
       "    <tr>\n",
       "      <th>22</th>\n",
       "      <td>482371</td>\n",
       "      <td>2014</td>\n",
       "    </tr>\n",
       "    <tr>\n",
       "      <th>21</th>\n",
       "      <td>462537</td>\n",
       "      <td>2015</td>\n",
       "    </tr>\n",
       "    <tr>\n",
       "      <th>9</th>\n",
       "      <td>462509</td>\n",
       "      <td>2016</td>\n",
       "    </tr>\n",
       "    <tr>\n",
       "      <th>1</th>\n",
       "      <td>441958</td>\n",
       "      <td>2017</td>\n",
       "    </tr>\n",
       "    <tr>\n",
       "      <th>28</th>\n",
       "      <td>434631</td>\n",
       "      <td>2018</td>\n",
       "    </tr>\n",
       "    <tr>\n",
       "      <th>19</th>\n",
       "      <td>494159</td>\n",
       "      <td>2019</td>\n",
       "    </tr>\n",
       "    <tr>\n",
       "      <th>18</th>\n",
       "      <td>522426</td>\n",
       "      <td>2020</td>\n",
       "    </tr>\n",
       "  </tbody>\n",
       "</table>\n",
       "</div>"
      ],
      "text/plain": [
       "    Offense Count(B)  Year(B)\n",
       "11            585312     2011\n",
       "0             586634     2012\n",
       "29            537536     2013\n",
       "22            482371     2014\n",
       "21            462537     2015\n",
       "9             462509     2016\n",
       "1             441958     2017\n",
       "28            434631     2018\n",
       "19            494159     2019\n",
       "18            522426     2020"
      ]
     },
     "execution_count": 5,
     "metadata": {},
     "output_type": "execute_result"
    }
   ],
   "source": [
    "#formatting the dataframe (used in stacked bar graph)\n",
    "fbi_burglary_ct_df = pd.read_csv('fbi_unformed_bur_ct_csv.csv')\n",
    "fbi_burglary_ct_df = fbi_burglary_ct_df[[\"offense_count\", \"data_year\"]]\n",
    "fbi_burglary_ct_df.rename(columns={\"data_year\":\"Year(B)\", \"offense_count\":\"Offense Count(B)\"}, inplace=True)\n",
    "fbi_burglary_ct_df_srt = fbi_burglary_ct_df.sort_values(\"Year(B)\")\n",
    "\n",
    "fbi_burglary_ct_df_set = fbi_burglary_ct_df_srt[fbi_burglary_ct_df_srt[\"Year(B)\"] > 2010]\n",
    "fbi_burglary_ct_df_set"
   ]
  },
  {
   "cell_type": "markdown",
   "id": "8a97334b",
   "metadata": {},
   "source": [
    "### Burglary Data Line Plot"
   ]
  },
  {
   "cell_type": "code",
   "execution_count": 20,
   "id": "79f3301e",
   "metadata": {},
   "outputs": [
    {
     "data": {
      "image/png": "[encoded data removed]",
      "text/plain": [
       "<Figure size 432x288 with 1 Axes>"
      ]
     },
     "metadata": {},
     "output_type": "display_data"
    }
   ],
   "source": [
    "#creating the plot\n",
    "fig,ax=plt.subplots()\n",
    "sns.set_style(\"darkgrid\")\n",
    "\n",
    "ax.plot(fbi_burglary_ct_df_set[\"Year(B)\"], fbi_burglary_ct_df_set[\"Offense Count(B)\"], marker = 'o',  color = 'green')\n",
    "ax.set_xlabel(\"Year\")\n",
    "ax.set_ylabel(\"Number of Offenses\")\n",
    "ax.set_title('FBI Crime Data: Burglary')\n",
    "\n",
    "plt.show()"
   ]
  },
  {
   "cell_type": "markdown",
   "id": "b4d6d325",
   "metadata": {},
   "source": [
    "### Burglary trend summary:\n",
    "There was a long downward trend in burglaries from 2012 to 2018, but 2018 to 2020 saw an increase, the greatest of which was during 2018."
   ]
  },
  {
   "cell_type": "markdown",
   "id": "fb347923",
   "metadata": {},
   "source": [
    "## Robbery Data"
   ]
  },
  {
   "cell_type": "code",
   "execution_count": 21,
   "id": "c34595c1",
   "metadata": {},
   "outputs": [],
   "source": [
    "#robbery, count\n",
    "fbi_robbery_ct = requests.get('https://api.usa.gov/crime/fbi/sapi/api/data/nibrs/robbery/offense/national/count/?limit=1&api_key=HXzuNSaaIO46x38N0iVVKpMDgrP6GG3mxBcacgRH')\n",
    "fbi_json_robbery_ct = json.loads(fbi_robbery_ct.text)"
   ]
  },
  {
   "cell_type": "code",
   "execution_count": 22,
   "id": "cacd1d41",
   "metadata": {},
   "outputs": [],
   "source": [
    "#cleaning and reformatting the data (used in stacked bar graph)\n",
    "raw_fbi_robbery_ct = []\n",
    "raw_fbi_robbery_ct.append(fbi_json_robbery_ct)\n",
    "fbi_unformed_robbery_ct = pd.json_normalize(raw_fbi_robbery_ct, record_path = [\"results\"])\n",
    "fbi_unformed_robbery_ct.to_csv('fbi_unformed_robbery_ct_csv.csv')"
   ]
  },
  {
   "cell_type": "code",
   "execution_count": 23,
   "id": "e17d8e86",
   "metadata": {},
   "outputs": [
    {
     "data": {
      "text/html": [
       "<div>\n",
       "<style scoped>\n",
       "    .dataframe tbody tr th:only-of-type {\n",
       "        vertical-align: middle;\n",
       "    }\n",
       "\n",
       "    .dataframe tbody tr th {\n",
       "        vertical-align: top;\n",
       "    }\n",
       "\n",
       "    .dataframe thead th {\n",
       "        text-align: right;\n",
       "    }\n",
       "</style>\n",
       "<table border=\"1\" class=\"dataframe\">\n",
       "  <thead>\n",
       "    <tr style=\"text-align: right;\">\n",
       "      <th></th>\n",
       "      <th>Offense Count(R)</th>\n",
       "      <th>Year(R)</th>\n",
       "    </tr>\n",
       "  </thead>\n",
       "  <tbody>\n",
       "    <tr>\n",
       "      <th>15</th>\n",
       "      <td>72942</td>\n",
       "      <td>2011</td>\n",
       "    </tr>\n",
       "    <tr>\n",
       "      <th>3</th>\n",
       "      <td>74626</td>\n",
       "      <td>2012</td>\n",
       "    </tr>\n",
       "    <tr>\n",
       "      <th>26</th>\n",
       "      <td>72200</td>\n",
       "      <td>2013</td>\n",
       "    </tr>\n",
       "    <tr>\n",
       "      <th>23</th>\n",
       "      <td>68471</td>\n",
       "      <td>2014</td>\n",
       "    </tr>\n",
       "    <tr>\n",
       "      <th>25</th>\n",
       "      <td>70713</td>\n",
       "      <td>2015</td>\n",
       "    </tr>\n",
       "    <tr>\n",
       "      <th>10</th>\n",
       "      <td>73328</td>\n",
       "      <td>2016</td>\n",
       "    </tr>\n",
       "    <tr>\n",
       "      <th>4</th>\n",
       "      <td>72311</td>\n",
       "      <td>2017</td>\n",
       "    </tr>\n",
       "    <tr>\n",
       "      <th>28</th>\n",
       "      <td>78559</td>\n",
       "      <td>2018</td>\n",
       "    </tr>\n",
       "    <tr>\n",
       "      <th>19</th>\n",
       "      <td>95627</td>\n",
       "      <td>2019</td>\n",
       "    </tr>\n",
       "    <tr>\n",
       "      <th>20</th>\n",
       "      <td>102677</td>\n",
       "      <td>2020</td>\n",
       "    </tr>\n",
       "  </tbody>\n",
       "</table>\n",
       "</div>"
      ],
      "text/plain": [
       "    Offense Count(R)  Year(R)\n",
       "15             72942     2011\n",
       "3              74626     2012\n",
       "26             72200     2013\n",
       "23             68471     2014\n",
       "25             70713     2015\n",
       "10             73328     2016\n",
       "4              72311     2017\n",
       "28             78559     2018\n",
       "19             95627     2019\n",
       "20            102677     2020"
      ]
     },
     "execution_count": 23,
     "metadata": {},
     "output_type": "execute_result"
    }
   ],
   "source": [
    "#formatting the dataframe (used in stacked bar graph)\n",
    "fbi_robbery_ct_df = pd.read_csv('fbi_unformed_robbery_ct_csv.csv')\n",
    "fbi_robbery_ct_df = fbi_robbery_ct_df[[\"offense_count\", \"data_year\"]]\n",
    "fbi_robbery_ct_df.rename(columns={\"data_year\":\"Year(R)\", \"offense_count\":\"Offense Count(R)\"}, inplace=True)\n",
    "fbi_robbery_ct_df_srt = fbi_robbery_ct_df.sort_values(\"Year(R)\")\n",
    "fbi_robbery_ct_df_set = fbi_robbery_ct_df_srt[fbi_robbery_ct_df_srt[\"Year(R)\"] > 2010]\n",
    "fbi_robbery_ct_df_set"
   ]
  },
  {
   "cell_type": "markdown",
   "id": "bb03a4f8",
   "metadata": {},
   "source": [
    "### Robbery Data Line Plot"
   ]
  },
  {
   "cell_type": "code",
   "execution_count": 24,
   "id": "3c729495",
   "metadata": {},
   "outputs": [
    {
     "data": {
      "image/png": "[encoded data removed]",
      "text/plain": [
       "<Figure size 432x288 with 1 Axes>"
      ]
     },
     "metadata": {},
     "output_type": "display_data"
    }
   ],
   "source": [
    "# creating the plot\n",
    "fig,ax=plt.subplots()\n",
    "\n",
    "ax.plot(fbi_robbery_ct_df_set[\"Year(R)\"], fbi_robbery_ct_df_set[\"Offense Count(R)\"], marker = 'o',  color = 'orange')\n",
    "ax.set_xlabel(\"Year\")\n",
    "ax.set_ylabel(\"Number of Offenses\")\n",
    "ax.set_title('FBI Crime Data: Robbery')\n",
    "\n",
    "plt.show()"
   ]
  },
  {
   "cell_type": "markdown",
   "id": "d7de9c08",
   "metadata": {},
   "source": [
    "### Robbery trend summary:\n",
    "Numbers remained low from 2011 to 2017, then rose pretty steeply from 2018 to 2020, similarly to burglaries."
   ]
  },
  {
   "cell_type": "markdown",
   "id": "a0e44e69",
   "metadata": {},
   "source": [
    "## Larceny Data"
   ]
  },
  {
   "cell_type": "code",
   "execution_count": 26,
   "id": "0adf5570",
   "metadata": {},
   "outputs": [],
   "source": [
    "#larceny, count\n",
    "fbi_larceny_ct = requests.get('https://api.usa.gov/crime/fbi/sapi/api/data/nibrs/larceny-theft-offenses/offense/national/count/?limit=1&api_key=HXzuNSaaIO46x38N0iVVKpMDgrP6GG3mxBcacgRH')\n",
    "fbi_json_larceny_ct = json.loads(fbi_larceny_ct.text)"
   ]
  },
  {
   "cell_type": "code",
   "execution_count": 27,
   "id": "552a1aa2",
   "metadata": {},
   "outputs": [],
   "source": [
    "#cleaning and reformatting the data (used in stacked bar graph)\n",
    "raw_fbi_larceny_ct = []\n",
    "raw_fbi_larceny_ct.append(fbi_json_larceny_ct)\n",
    "fbi_unformed_larceny_ct = pd.json_normalize(raw_fbi_larceny_ct, record_path = [\"results\"])\n",
    "fbi_unformed_larceny_ct.to_csv('fbi_unformed_larceny_ct_csv.csv')"
   ]
  },
  {
   "cell_type": "code",
   "execution_count": 28,
   "id": "2332bc73",
   "metadata": {},
   "outputs": [
    {
     "data": {
      "text/html": [
       "<div>\n",
       "<style scoped>\n",
       "    .dataframe tbody tr th:only-of-type {\n",
       "        vertical-align: middle;\n",
       "    }\n",
       "\n",
       "    .dataframe tbody tr th {\n",
       "        vertical-align: top;\n",
       "    }\n",
       "\n",
       "    .dataframe thead th {\n",
       "        text-align: right;\n",
       "    }\n",
       "</style>\n",
       "<table border=\"1\" class=\"dataframe\">\n",
       "  <thead>\n",
       "    <tr style=\"text-align: right;\">\n",
       "      <th></th>\n",
       "      <th>Year(L)</th>\n",
       "      <th>Offense Count(L)</th>\n",
       "    </tr>\n",
       "  </thead>\n",
       "  <tbody>\n",
       "    <tr>\n",
       "      <th>20</th>\n",
       "      <td>2011</td>\n",
       "      <td>1715009</td>\n",
       "    </tr>\n",
       "    <tr>\n",
       "      <th>21</th>\n",
       "      <td>2012</td>\n",
       "      <td>1792213</td>\n",
       "    </tr>\n",
       "    <tr>\n",
       "      <th>22</th>\n",
       "      <td>2013</td>\n",
       "      <td>1760951</td>\n",
       "    </tr>\n",
       "    <tr>\n",
       "      <th>23</th>\n",
       "      <td>2014</td>\n",
       "      <td>1722483</td>\n",
       "    </tr>\n",
       "    <tr>\n",
       "      <th>24</th>\n",
       "      <td>2015</td>\n",
       "      <td>1741204</td>\n",
       "    </tr>\n",
       "    <tr>\n",
       "      <th>25</th>\n",
       "      <td>2016</td>\n",
       "      <td>1789788</td>\n",
       "    </tr>\n",
       "    <tr>\n",
       "      <th>26</th>\n",
       "      <td>2017</td>\n",
       "      <td>1816210</td>\n",
       "    </tr>\n",
       "    <tr>\n",
       "      <th>27</th>\n",
       "      <td>2018</td>\n",
       "      <td>1902857</td>\n",
       "    </tr>\n",
       "    <tr>\n",
       "      <th>28</th>\n",
       "      <td>2019</td>\n",
       "      <td>2271350</td>\n",
       "    </tr>\n",
       "    <tr>\n",
       "      <th>29</th>\n",
       "      <td>2020</td>\n",
       "      <td>2453533</td>\n",
       "    </tr>\n",
       "  </tbody>\n",
       "</table>\n",
       "</div>"
      ],
      "text/plain": [
       "    Year(L)  Offense Count(L)\n",
       "20     2011           1715009\n",
       "21     2012           1792213\n",
       "22     2013           1760951\n",
       "23     2014           1722483\n",
       "24     2015           1741204\n",
       "25     2016           1789788\n",
       "26     2017           1816210\n",
       "27     2018           1902857\n",
       "28     2019           2271350\n",
       "29     2020           2453533"
      ]
     },
     "execution_count": 28,
     "metadata": {},
     "output_type": "execute_result"
    }
   ],
   "source": [
    "#formatting the dataframe (used in stacked bar graph)\n",
    "fbi_larceny_ct_df = pd.read_csv('fbi_unformed_larceny_ct_csv.csv')\n",
    "fbi_larceny_ct_df = fbi_larceny_ct_df[[\"offense_count\", \"data_year\"]]\n",
    "fbi_larceny_ct_df.rename(columns={\"data_year\":\"Year(L)\", \"offense_count\":\"Offense Count(L)\"}, inplace=True)\n",
    "fbi_larceny_ct_df_srt = fbi_larceny_ct_df.sort_values(\"Year(L)\")\n",
    "fbi_larceny_ct_df_final = fbi_larceny_ct_df_srt.groupby(\"Year(L)\").sum()\n",
    "fbi_larceny_ct_df_final.reset_index()\n",
    "fbi_larceny_ct_df_final.reset_index(inplace = True) \n",
    "fbi_larceny_ct_df_final_set = fbi_larceny_ct_df_final[fbi_larceny_ct_df_final[\"Year(L)\"] > 2010]\n",
    "fbi_larceny_ct_df_final_set"
   ]
  },
  {
   "cell_type": "markdown",
   "id": "7c3de89a",
   "metadata": {},
   "source": [
    "### Larceny Line Plot"
   ]
  },
  {
   "cell_type": "code",
   "execution_count": 29,
   "id": "d55688b2",
   "metadata": {},
   "outputs": [
    {
     "data": {
      "image/png": "[encoded data removed]",
      "text/plain": [
       "<Figure size 432x288 with 1 Axes>"
      ]
     },
     "metadata": {},
     "output_type": "display_data"
    }
   ],
   "source": [
    "#creating the plot\n",
    "fig,ax=plt.subplots()\n",
    "\n",
    "ax.plot(fbi_larceny_ct_df_final_set[\"Year(L)\"], fbi_larceny_ct_df_final_set[\"Offense Count(L)\"], marker = 'o',  color = 'purple')\n",
    "ax.set_xlabel(\"Year\")\n",
    "ax.set_ylabel(\"Number of Offenses\")\n",
    "ax.set_title('FBI Crime Data: Larceny')\n",
    "\n",
    "plt.show()"
   ]
  },
  {
   "cell_type": "markdown",
   "id": "96960d73",
   "metadata": {},
   "source": [
    "### Larceny trend summary:\n",
    "Larcenies followed a similar trend to robberies, in that the numbers stayed relatively level until they rose steeply from 2018 to 2020."
   ]
  },
  {
   "cell_type": "markdown",
   "id": "276a7b28",
   "metadata": {},
   "source": [
    "### Counts of Burglary, Robbery, and Larceny Over 10 Years"
   ]
  },
  {
   "cell_type": "code",
   "execution_count": 30,
   "id": "4d7411f6",
   "metadata": {},
   "outputs": [
    {
     "data": {
      "image/png": "[encoded data removed]",
      "text/plain": [
       "<Figure size 432x288 with 1 Axes>"
      ]
     },
     "metadata": {},
     "output_type": "display_data"
    }
   ],
   "source": [
    "#merging databases\n",
    "#merged_inner = pd.merge(left=survey_sub, right=species_sub, left_on='species_id', right_on='species_id')\n",
    "fbi_twototals_df = pd.merge(left=fbi_larceny_ct_df_final_set, right=fbi_robbery_ct_df_set, left_on='Year(L)', right_on='Year(R)') \n",
    "fbi_totals_df = pd.merge(left=fbi_twototals_df, right=fbi_burglary_ct_df_set, left_on='Year(L)', right_on='Year(B)')\n",
    "fbi_totals_df = fbi_totals_df[['Year(L)', 'Offense Count(L)', 'Offense Count(R)', 'Offense Count(B)']]\n",
    "fbi_totals_df\n",
    "\n",
    "#plotting the data\n",
    "fig,ax=plt.subplots()\n",
    "ax.bar(fbi_totals_df[\"Year(L)\"], fbi_totals_df[\"Offense Count(L)\"], label=\"Larcenies\")\n",
    "ax.bar(fbi_totals_df[\"Year(L)\"], fbi_totals_df[\"Offense Count(R)\"], bottom=fbi_totals_df[\"Offense Count(L)\"], label=\"Robberies\")\n",
    "ax.bar(fbi_totals_df[\"Year(L)\"], fbi_totals_df[\"Offense Count(B)\"], bottom = fbi_totals_df[\"Offense Count(L)\"]+fbi_totals_df[\"Offense Count(R)\"], label = \"Burglaries\")\n",
    "\n",
    "ax.set_title(\"Burglary, Robbery, Larceny Totals by Year\")\n",
    "#ax.set_xticklabels(fbi_totals_df[\"Year(L)\"], rotation=90)\n",
    "ax.set_ylabel(\"Number of Thefts (in millions)\")\n",
    "ax.legend()\n",
    "\n",
    "plt.show()"
   ]
  },
  {
   "cell_type": "markdown",
   "id": "c9362d12",
   "metadata": {},
   "source": [
    "## Unemployment Rate"
   ]
  },
  {
   "cell_type": "code",
   "execution_count": 32,
   "id": "02909303",
   "metadata": {},
   "outputs": [],
   "source": [
    "#API call - BLS\n",
    "base_url=\"https://api.bls.gov/publicAPI/v2/timeseries/data/?registrationkey=\"+BLS_api_key+\"&catalog=false&startyear=2011&endyear=2020&calculations=true&annualaverage=true&aspects=true\"\n",
    "\n",
    "new_list =[]\n",
    "\n",
    "headers = {'Content-type': 'application/json'}\n",
    "data = json.dumps({\"seriesid\": ['LNS14000000'],\"startyear\":\"2011\", \"endyear\":\"2020\"})\n",
    "p = requests.post('https://api.bls.gov/publicAPI/v2/timeseries/data/', data=data, headers=headers)\n",
    "bls_json_unemp_ct = json.loads(p.text)\n",
    "for series in bls_json_unemp_ct['Results']['series']:\n",
    "    x=prettytable.PrettyTable([\"series id\",\"year\",\"period\",\"value\",\"footnotes\"])\n",
    "    seriesId = series['seriesID']\n",
    "    for item in series['data']:\n",
    "        year = item['year']\n",
    "        period = item['period']\n",
    "        value = item['value']\n",
    "        footnotes=\"\"\n",
    "        for footnote in item['footnotes']:\n",
    "            if footnote:\n",
    "                footnotes = footnotes + footnote['text'] + ','\n",
    "        if 'M01' <= period <= 'M12':\n",
    "            x.add_row([seriesId,year,period,value,footnotes[0:-1]])\n",
    "            unemp_list=[seriesId,year,period,value,footnotes[0:-1]]\n",
    "            new_list.append(unemp_list)\n",
    "    output = open(seriesId + '.txt','w')\n",
    "    output.write (x.get_string())\n",
    "    output.close()\n"
   ]
  },
  {
   "cell_type": "code",
   "execution_count": 34,
   "id": "59aef716",
   "metadata": {},
   "outputs": [
    {
     "name": "stdout",
     "output_type": "stream",
     "text": [
      "        seriesID  year month rate footnotes\n",
      "0    LNS14000000  2020   M12  6.7          \n",
      "1    LNS14000000  2020   M11  6.7          \n",
      "2    LNS14000000  2020   M10  6.9          \n",
      "3    LNS14000000  2020   M09  7.8          \n",
      "4    LNS14000000  2020   M08  8.4          \n",
      "..           ...   ...   ...  ...       ...\n",
      "115  LNS14000000  2011   M05  9.0          \n",
      "116  LNS14000000  2011   M04  9.1          \n",
      "117  LNS14000000  2011   M03  9.0          \n",
      "118  LNS14000000  2011   M02  9.0          \n",
      "119  LNS14000000  2011   M01  9.1          \n",
      "\n",
      "[120 rows x 5 columns]\n"
     ]
    }
   ],
   "source": [
    "#data from json to df to csv\n",
    "unemp_df=pd.DataFrame(new_list)\n",
    "unemp_df=unemp_df.rename(columns={0:'seriesID',1:'year',2:'month',3:'rate', 4:'footnotes'})\n",
    "unemp_df.to_csv('unemp_df_csv.csv') \n",
    "print(unemp_df)"
   ]
  },
  {
   "cell_type": "code",
   "execution_count": 35,
   "id": "6f682ce0",
   "metadata": {},
   "outputs": [
    {
     "name": "stdout",
     "output_type": "stream",
     "text": [
      "   year      rate\n",
      "0  2011  8.933333\n",
      "1  2012  8.075000\n",
      "2  2013  7.358333\n",
      "3  2014  6.158333\n",
      "4  2015  5.275000\n",
      "5  2016  4.875000\n",
      "6  2017  4.350000\n",
      "7  2018  3.891667\n",
      "8  2019  3.683333\n",
      "9  2020  8.108333\n"
     ]
    }
   ],
   "source": [
    "# change value types from strings to integer & float to calc annual avg\n",
    "convert_dict = {'year': int,\n",
    "                'rate': float}\n",
    "unemp_df = unemp_df.astype(convert_dict)\n",
    "unemp_mean=unemp_df.groupby(['year'])['rate'].mean().reset_index()\n",
    "print(unemp_mean)"
   ]
  },
  {
   "cell_type": "markdown",
   "id": "f68c6dc4",
   "metadata": {},
   "source": [
    "### Unemployment Rate Line Plot"
   ]
  },
  {
   "cell_type": "code",
   "execution_count": 36,
   "id": "ac4f0841",
   "metadata": {},
   "outputs": [
    {
     "data": {
      "image/png": "[encoded data removed]",
      "text/plain": [
       "<Figure size 432x288 with 1 Axes>"
      ]
     },
     "metadata": {},
     "output_type": "display_data"
    }
   ],
   "source": [
    "#creating the plot\n",
    "fig,ax=plt.subplots()\n",
    "\n",
    "ax.plot(unemp_mean[\"year\"], unemp_mean[\"rate\"], marker = 'o',  color = 'black')\n",
    "ax.set_xlabel(\"Year\")\n",
    "ax.set_ylabel(\"Rate (%)\")\n",
    "ax.set_title('BLS Unemployment Data')\n",
    "\n",
    "plt.show()"
   ]
  },
  {
   "cell_type": "markdown",
   "id": "775b3d50",
   "metadata": {},
   "source": [
    "### Unemployment trend summary:\n",
    "The unemployment rate was steadily decreasing from 2011 to 2019, but in 2020 we saw the rate jump back up to 2012 levels."
   ]
  },
  {
   "cell_type": "markdown",
   "id": "1bb58d4a",
   "metadata": {},
   "source": [
    "## Comparing Property Theft and Unemployment Over 10 Years"
   ]
  },
  {
   "cell_type": "markdown",
   "id": "37bebf1b",
   "metadata": {},
   "source": [
    "In general, during the period 2018 to 2020, both property crime counts and the unemployment rate went up fairly sharply. We can't draw any conclusions on causation between the two, although we might speculate that the 2020 data is affected by the COVID pandemic. This period of time might be a good nexus of information to explore in more depth, with more information about the offenders' employment status at the time of committing the crime, and whether they are repeat offenders.\n",
    "\n",
    "It bears mentioning too, that these are not complete pictures of the property crime counts, because many people do not report thefts to the police, many of those crimes remain unsolved, and agencies like police departments do not necessarily report consistently to the FBI."
   ]
  },
  {
   "cell_type": "markdown",
   "id": "09238907",
   "metadata": {},
   "source": [
    "## Lessons Learned"
   ]
  },
  {
   "cell_type": "markdown",
   "id": "e9757572",
   "metadata": {},
   "source": [
    "1) Be careful of data that isn't labeled clearly; for example, \"value\" in the unemployment data was extremely vague\n",
    "and required extra research.\n",
    "\n",
    "2) It follows from the first point, but information literacy is important. It's not enough to be able to manipulate the data; we have to be able to figure out what data has been included and whether the labels are accurate (in the course of the project, some data were represented as is more usual in the statistics and economics fields as a way of abbreviating large numbers \"normalized x100,000\").\n",
    "\n",
    "3) Sometimes data will be stored using unfamiliar python modules, like \"prettytable,\" which needs to be downloaded in addition to the usual suspects."
   ]
  },
  {
   "cell_type": "markdown",
   "id": "c1049fcb",
   "metadata": {},
   "source": [
    "### Resources:\n",
    "Information on Legal Definitions and Relationships Between Types of Property Crimes\n",
    "\n",
    "https://www.atlantapd.org/home/showpublisheddocument/2881/637062879602730000\n",
    "\n",
    "Pew Research Center article on crime in the U.S.\n",
    "\n",
    "https://www.pewresearch.org/fact-tank/2020/11/20/facts-about-crime-in-the-u-s/"
   ]
  }
 ],
 "metadata": {
  "kernelspec": {
   "display_name": "Python 3 (ipykernel)",
   "language": "python",
   "name": "python3"
  },
  "language_info": {
   "codemirror_mode": {
    "name": "ipython",
    "version": 3
   },
   "file_extension": ".py",
   "mimetype": "text/x-python",
   "name": "python",
   "nbconvert_exporter": "python",
   "pygments_lexer": "ipython3",
   "version": "3.9.7"
  }
 },
 "nbformat": 4,
 "nbformat_minor": 5
}
