{
 "cells": [
  {
   "cell_type": "markdown",
   "id": "ee4822e5",
   "metadata": {},
   "source": [
    "# Group API Project: Crime Rates and Unemployment Rates\n",
    "\n",
    "## November 10, 2021 -- Jamie Mortensen, Heather Leighton-Dick\n",
    "\n",
    "\n",
    "What if any relationship is there between national property crimes rates versus unemployment rates in 2010? in 2020?\n",
    "\n",
    "Is there a noticeable difference between the years? Is there a potential correlation between crime and unemployment rates? Is there a stronger correlation in one subgroup of property crimes than the others?"
   ]
  },
  {
   "cell_type": "markdown",
   "id": "a966b59c",
   "metadata": {},
   "source": [
    "### Definitions:\n",
    "\n",
    "property crime: a category of crime, usually involving private property, that includes burglary, larceny, theft, motor vehicle theft, arson, shoplifting, and vandalism\n",
    "\n",
    "burglary: entry into a building with the intent to commit a crime, most often theft, robbery, or murder\n",
    "\n",
    "robbery: taking property unlawfully from a person or place by force or threat of force\n",
    "\n",
    "larceny: the theft of physical items that are personal property, without threat of force (theft includes all variations on stealing property from another person or entity)"
   ]
  },
  {
   "cell_type": "markdown",
   "id": "d02aaaba",
   "metadata": {},
   "source": [
    "### Set-Up and Importing Modules"
   ]
  },
  {
   "cell_type": "code",
   "execution_count": 1,
   "id": "1a627afd",
   "metadata": {},
   "outputs": [],
   "source": [
    "import requests\n",
    "import pandas as pd\n",
    "import matplotlib.pyplot as plt\n",
    "import numpy as np\n",
    "import time\n",
    "from pprint import pprint\n",
    "import citipy\n",
    "import json\n",
    "from citipy import citipy\n",
    "import seaborn as sns\n",
    "import prettytable"
   ]
  },
  {
   "cell_type": "markdown",
   "id": "6e846a6b",
   "metadata": {},
   "source": [
    "## Performing the API Calls and Collecting the Data"
   ]
  },
  {
   "cell_type": "markdown",
   "id": "d456539f",
   "metadata": {},
   "source": [
    "## Burglary Data"
   ]
  },
  {
   "cell_type": "code",
   "execution_count": null,
   "id": "bac85993",
   "metadata": {},
   "outputs": [],
   "source": [
    "#API call"
   ]
  },
  {
   "cell_type": "code",
   "execution_count": null,
   "id": "1b9e0fdb",
   "metadata": {},
   "outputs": [],
   "source": [
    "#data to json to csv"
   ]
  },
  {
   "cell_type": "code",
   "execution_count": null,
   "id": "d0ceee30",
   "metadata": {},
   "outputs": [],
   "source": [
    "#csv to dataframe"
   ]
  },
  {
   "cell_type": "markdown",
   "id": "397a4141",
   "metadata": {},
   "source": [
    "### Burglary Data Line Plot"
   ]
  },
  {
   "cell_type": "code",
   "execution_count": null,
   "id": "fe729be0",
   "metadata": {},
   "outputs": [],
   "source": [
    "#relplot"
   ]
  },
  {
   "cell_type": "markdown",
   "id": "b4d6d325",
   "metadata": {},
   "source": [
    "Burglary trend summary:"
   ]
  },
  {
   "cell_type": "markdown",
   "id": "fb347923",
   "metadata": {},
   "source": [
    "## Robbery Data"
   ]
  },
  {
   "cell_type": "code",
   "execution_count": null,
   "id": "c34595c1",
   "metadata": {},
   "outputs": [],
   "source": [
    "#API call"
   ]
  },
  {
   "cell_type": "code",
   "execution_count": null,
   "id": "cacd1d41",
   "metadata": {},
   "outputs": [],
   "source": [
    "#data to json to csv"
   ]
  },
  {
   "cell_type": "code",
   "execution_count": null,
   "id": "e17d8e86",
   "metadata": {},
   "outputs": [],
   "source": [
    "#csv to dataframe"
   ]
  },
  {
   "cell_type": "markdown",
   "id": "c866a6ae",
   "metadata": {},
   "source": [
    "### Robbery Data Line Plot"
   ]
  },
  {
   "cell_type": "code",
   "execution_count": null,
   "id": "8abb8054",
   "metadata": {},
   "outputs": [],
   "source": []
  },
  {
   "cell_type": "markdown",
   "id": "d7de9c08",
   "metadata": {},
   "source": [
    "Robbery trend summary:"
   ]
  },
  {
   "cell_type": "markdown",
   "id": "a0e44e69",
   "metadata": {},
   "source": [
    "## Larceny Data"
   ]
  },
  {
   "cell_type": "code",
   "execution_count": null,
   "id": "0adf5570",
   "metadata": {},
   "outputs": [],
   "source": [
    "#API call"
   ]
  },
  {
   "cell_type": "code",
   "execution_count": null,
   "id": "552a1aa2",
   "metadata": {},
   "outputs": [],
   "source": [
    "#data to json to csv"
   ]
  },
  {
   "cell_type": "code",
   "execution_count": null,
   "id": "2332bc73",
   "metadata": {},
   "outputs": [],
   "source": [
    "#csv to dataframe"
   ]
  },
  {
   "cell_type": "markdown",
   "id": "f90089e8",
   "metadata": {},
   "source": [
    "### Larceny Line Plot"
   ]
  },
  {
   "cell_type": "code",
   "execution_count": null,
   "id": "0e492344",
   "metadata": {},
   "outputs": [],
   "source": []
  },
  {
   "cell_type": "markdown",
   "id": "96960d73",
   "metadata": {},
   "source": [
    "Larceny trend summary:"
   ]
  },
  {
   "cell_type": "markdown",
   "id": "c9362d12",
   "metadata": {},
   "source": [
    "## Unemployment Rate"
   ]
  },
  {
   "cell_type": "code",
   "execution_count": null,
   "id": "02909303",
   "metadata": {},
   "outputs": [],
   "source": [
    "#API call"
   ]
  },
  {
   "cell_type": "code",
   "execution_count": null,
   "id": "59aef716",
   "metadata": {},
   "outputs": [],
   "source": [
    "#data to json to csv"
   ]
  },
  {
   "cell_type": "code",
   "execution_count": null,
   "id": "6f682ce0",
   "metadata": {},
   "outputs": [],
   "source": [
    "#csv to dataframe"
   ]
  },
  {
   "cell_type": "markdown",
   "id": "f68c6dc4",
   "metadata": {},
   "source": [
    "### Unemployment Rate Line Plot"
   ]
  },
  {
   "cell_type": "code",
   "execution_count": null,
   "id": "ac4f0841",
   "metadata": {},
   "outputs": [],
   "source": []
  },
  {
   "cell_type": "markdown",
   "id": "775b3d50",
   "metadata": {},
   "source": [
    "Unemployment trend summary:"
   ]
  },
  {
   "cell_type": "markdown",
   "id": "1bb58d4a",
   "metadata": {},
   "source": [
    "## Comparing Property Theft and Unemployment Over 10 Years"
   ]
  },
  {
   "cell_type": "code",
   "execution_count": null,
   "id": "c2ea2e18",
   "metadata": {},
   "outputs": [],
   "source": [
    "#relplot"
   ]
  },
  {
   "cell_type": "markdown",
   "id": "eebb5d8a",
   "metadata": {},
   "source": [
    "Comparisons, trends, notable features of the data"
   ]
  },
  {
   "cell_type": "markdown",
   "id": "09238907",
   "metadata": {},
   "source": [
    "## Lessons Learned"
   ]
  },
  {
   "cell_type": "markdown",
   "id": "e9757572",
   "metadata": {},
   "source": [
    "1) Be careful of data that isn't labeled clearly; for example, \"value\" in the unemployment data was extremely vague\n",
    "and required extra research.\n",
    "\n",
    "2) It follows from the first point, but information literacy is important. It's not enough to be able to manipulate the data; we have to be able to figure out what data has been included and whether the labels are accurate (in the course of the project, some data were represented as is more usual in the statistics and economics fields as a way of abbreviating large numbers \"normalized x100,000\").\n",
    "\n",
    "3) Sometimes data will be stored using unfamiliar python modules, like \"prettytable,\" which needs to be downloaded in addition to the usual suspects."
   ]
  }
 ],
 "metadata": {
  "kernelspec": {
   "display_name": "Python 3 (ipykernel)",
   "language": "python",
   "name": "python3"
  },
  "language_info": {
   "codemirror_mode": {
    "name": "ipython",
    "version": 3
   },
   "file_extension": ".py",
   "mimetype": "text/x-python",
   "name": "python",
   "nbconvert_exporter": "python",
   "pygments_lexer": "ipython3",
   "version": "3.9.7"
  }
 },
 "nbformat": 4,
 "nbformat_minor": 5
}
