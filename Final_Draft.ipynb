{
 "cells": [
  {
   "cell_type": "markdown",
   "id": "ee4822e5",
   "metadata": {},
   "source": [
    "# Group API Project: Crime Rates and Unemployment Rates\n",
    "\n",
    "## November 10, 2021 -- Jamie Mortensen, Heather Leighton-Dick\n",
    "\n",
    "\n",
    "What if any relationship is there between national property crimes rates versus unemployment rates in 2010? in 2020?\n",
    "\n",
    "Is there a noticeable difference between the years? Is there a potential correlation between crime and unemployment rates? Is there a stronger correlation in one subgroup of property crimes than the others?"
   ]
  },
  {
   "cell_type": "markdown",
   "id": "a966b59c",
   "metadata": {},
   "source": [### Sources & Definitions:

We extracted data from the FBI's Crime Data Explorer API and the Bureau of Labor Statistics' Public Data API.

The CDE API is the FBI’s Uniform Crime Reporting (UCR) Program's effort to report the nation's crime data in a more timely and detailed way. It estimates national and state data and agency-level crime statistics based on the National Incident-Based Reporting System (NIBRS). The UCR has been operating since 1930, and has transitioned fully this year from the Summary Reporting System (started in 1979) to the NIBRS format. As of January 1, 2021, NIBRS will be used exclusively; some of the data will be reported in SRS standard to maintain continuity and compatibility of data.

-- https://crime-data-explorer.fr.cloud.gov/pages/about

The BLS's Public Data API provides access to ...
    "### Definitions:\n",
    "\n",
    "property crime: a category of crime, usually involving private property, that includes burglary, larceny, theft, motor vehicle theft, arson, shoplifting, and vandalism\n",
    "\n",
    "burglary: entry into a building with the intent to commit a crime, most often theft, robbery, or murder\n",
    "\n",
    "robbery: taking property unlawfully from a person or place by force or threat of force\n",
    "\n",
    "larceny: the theft of physical items that are personal property, without threat of force (theft includes all variations on stealing property from another person or entity)"
   ]
  },
  {
   "cell_type": "markdown",
   "id": "d02aaaba",
   "metadata": {},
   "source": [
    "### Set-Up and Importing Modules"
   ]
  },
  {
   "cell_type": "code",
   "execution_count": 5,
   "id": "1a627afd",
   "metadata": {},
   "outputs": [],
   "source": [
    "import requests\n",
    "import pandas as pd\n",
    "import matplotlib.pyplot as plt\n",
    "import numpy as np\n",
    "import time\n",
    "from pprint import pprint\n",
    "import citipy\n",
    "import json\n",
    "from citipy import citipy\n",
    "import seaborn as sns\n",
    "import prettytable\n",
    "import API_Keys\n",
    "\n",
    "from API_Keys import FBI_api_key, BLS_api_key"
   ]
  },
  {
   "cell_type": "markdown",
   "id": "6e846a6b",
   "metadata": {},
   "source": [
    "## Performing the API Calls and Collecting the Data"
   ]
  },
  {
   "cell_type": "markdown",
   "id": "d456539f",
   "metadata": {},
   "source": [
    "## Burglary Data"
   ]
  },
  {
   "cell_type": "code",
   "execution_count": 8,
   "id": "bac85993",
   "metadata": {},
   "outputs": [],
   "source": [
    "#API call\n",
    "headers = {\"Incident\": \"incident_count\", \"Offense\": \"offense_count\", \"Year\": \"data_year\"}\n",
    "fbi_burglary_ct = requests.get('https://api.usa.gov/crime/fbi/sapi/api/data/nibrs/burglary-breaking-and-entering/offense/national/count/?limit=1&api_key='+FBI_api_key)\n",
    "fbi_json_bur_ct = json.loads(fbi_burglary_ct.text)"
   ]
  },
  {
   "cell_type": "code",
   "execution_count": 9,
   "id": "1b9e0fdb",
   "metadata": {},
   "outputs": [],
   "source": [
    "#data to json to csv\n",
    "raw_fbi_bur_ct = []\n",
    "raw_fbi_bur_ct.append(fbi_json_bur_ct)\n",
    "fbi_unformed_bur_ct = pd.json_normalize(raw_fbi_bur_ct, record_path = [\"results\"])\n",
    "fbi_unformed_bur_ct.to_csv('fbi_unformed_bur_ct_csv.csv')"
   ]
  },
  {
   "cell_type": "code",
   "execution_count": 21,
   "id": "d0ceee30",
   "metadata": {},
   "outputs": [
    {
     "data": {
      "text/html": [
       "<div>\n",
       "<style scoped>\n",
       "    .dataframe tbody tr th:only-of-type {\n",
       "        vertical-align: middle;\n",
       "    }\n",
       "\n",
       "    .dataframe tbody tr th {\n",
       "        vertical-align: top;\n",
       "    }\n",
       "\n",
       "    .dataframe thead th {\n",
       "        text-align: right;\n",
       "    }\n",
       "</style>\n",
       "<table border=\"1\" class=\"dataframe\">\n",
       "  <thead>\n",
       "    <tr style=\"text-align: right;\">\n",
       "      <th></th>\n",
       "      <th>incident_count</th>\n",
       "      <th>offense_count</th>\n",
       "      <th>data_year</th>\n",
       "    </tr>\n",
       "  </thead>\n",
       "  <tbody>\n",
       "    <tr>\n",
       "      <th>0</th>\n",
       "      <td>585312</td>\n",
       "      <td>585312</td>\n",
       "      <td>2011</td>\n",
       "    </tr>\n",
       "    <tr>\n",
       "      <th>1</th>\n",
       "      <td>586634</td>\n",
       "      <td>586634</td>\n",
       "      <td>2012</td>\n",
       "    </tr>\n",
       "    <tr>\n",
       "      <th>2</th>\n",
       "      <td>537536</td>\n",
       "      <td>537536</td>\n",
       "      <td>2013</td>\n",
       "    </tr>\n",
       "    <tr>\n",
       "      <th>3</th>\n",
       "      <td>482371</td>\n",
       "      <td>482371</td>\n",
       "      <td>2014</td>\n",
       "    </tr>\n",
       "    <tr>\n",
       "      <th>4</th>\n",
       "      <td>462537</td>\n",
       "      <td>462537</td>\n",
       "      <td>2015</td>\n",
       "    </tr>\n",
       "    <tr>\n",
       "      <th>5</th>\n",
       "      <td>462509</td>\n",
       "      <td>462509</td>\n",
       "      <td>2016</td>\n",
       "    </tr>\n",
       "    <tr>\n",
       "      <th>6</th>\n",
       "      <td>441958</td>\n",
       "      <td>441958</td>\n",
       "      <td>2017</td>\n",
       "    </tr>\n",
       "    <tr>\n",
       "      <th>7</th>\n",
       "      <td>434631</td>\n",
       "      <td>434631</td>\n",
       "      <td>2018</td>\n",
       "    </tr>\n",
       "    <tr>\n",
       "      <th>8</th>\n",
       "      <td>494159</td>\n",
       "      <td>494159</td>\n",
       "      <td>2019</td>\n",
       "    </tr>\n",
       "    <tr>\n",
       "      <th>9</th>\n",
       "      <td>522426</td>\n",
       "      <td>522426</td>\n",
       "      <td>2020</td>\n",
       "    </tr>\n",
       "  </tbody>\n",
       "</table>\n",
       "</div>"
      ],
      "text/plain": [
       "   incident_count  offense_count  data_year\n",
       "0          585312         585312       2011\n",
       "1          586634         586634       2012\n",
       "2          537536         537536       2013\n",
       "3          482371         482371       2014\n",
       "4          462537         462537       2015\n",
       "5          462509         462509       2016\n",
       "6          441958         441958       2017\n",
       "7          434631         434631       2018\n",
       "8          494159         494159       2019\n",
       "9          522426         522426       2020"
      ]
     },
     "execution_count": 21,
     "metadata": {},
     "output_type": "execute_result"
    }
   ],
   "source": [
    "#csv to dataframe\n",
    "burg_df = pd.DataFrame(fbi_unformed_bur_ct)\n",
    "# Sort df by year\n",
    "burg_sorted = burg_df.sort_values('data_year')\n",
    "# Filter for 2011-2020 data\n",
    "burg_by_yr = burg_sorted[burg_sorted['data_year']>=2011]\n",
    "# Reset index and drop old one\n",
    "burg_reset = burg_by_yr.reset_index(drop=True)\n",
    "pd.DataFrame(burg_reset)"
   ]
  },
  {
   "cell_type": "markdown",
   "id": "397a4141",
   "metadata": {},
   "source": [
    "### Burglary Data Line Plot"
   ]
  },
  {
   "cell_type": "code",
   "execution_count": 32,
   "id": "fe729be0",
   "metadata": {},
   "outputs": [
    {
     "data": {
      "image/png": "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\n",
      "text/plain": [
       "<Figure size 432x288 with 1 Axes>"
      ]
     },
     "metadata": {},
     "output_type": "display_data"
    }
   ],
   "source": [
    "sns.set_style(\"darkgrid\")\n",
    "fig,ax=plt.subplots()\n",
    "ax.plot(burg_reset['data_year'], burg_reset['offense_count'], marker='o', color = 'green')\n",
    "ax.set_xlabel('Year')\n",
    "ax.set_ylabel(\"Number of Offenses\")\n",
    "ax.set_title('FBI Crime Data:  Burglary')\n",
    "plt.show()"
   ]
  },
  {
   "cell_type": "markdown",
   "id": "b4d6d325",
   "metadata": {},
   "source": [
    "Burglary trend summary:"
   ]
  },
  {
   "cell_type": "markdown",
   "id": "fb347923",
   "metadata": {},
   "source": [
    "## Robbery Data"
   ]
  },
  {
   "cell_type": "code",
   "execution_count": 35,
   "id": "c34595c1",
   "metadata": {},
   "outputs": [],
   "source": [
    "#API call\n",
    "fbi_robbery_ct = requests.get('https://api.usa.gov/crime/fbi/sapi/api/data/nibrs/robbery/offense/national/count/?limit=1&api_key='+FBI_api_key)"
   ]
  },
  {
   "cell_type": "code",
   "execution_count": 36,
   "id": "cacd1d41",
   "metadata": {},
   "outputs": [],
   "source": [
    "#data to json to csv\n",
    "fbi_json_robbery_ct = json.loads(fbi_robbery_ct.text)\n",
    "raw_fbi_robbery_ct = []\n",
    "raw_fbi_robbery_ct.append(fbi_json_robbery_ct)\n",
    "fbi_unformed_robbery_ct = pd.json_normalize(raw_fbi_robbery_ct, record_path = [\"results\"])\n",
    "fbi_unformed_robbery_ct.to_csv('fbi_unformed_robbery_ct_csv.csv')"
   ]
  },
  {
   "cell_type": "code",
   "execution_count": 40,
   "id": "e17d8e86",
   "metadata": {},
   "outputs": [
    {
     "data": {
      "text/html": [
       "<div>\n",
       "<style scoped>\n",
       "    .dataframe tbody tr th:only-of-type {\n",
       "        vertical-align: middle;\n",
       "    }\n",
       "\n",
       "    .dataframe tbody tr th {\n",
       "        vertical-align: top;\n",
       "    }\n",
       "\n",
       "    .dataframe thead th {\n",
       "        text-align: right;\n",
       "    }\n",
       "</style>\n",
       "<table border=\"1\" class=\"dataframe\">\n",
       "  <thead>\n",
       "    <tr style=\"text-align: right;\">\n",
       "      <th></th>\n",
       "      <th>incident_count</th>\n",
       "      <th>offense_count</th>\n",
       "      <th>data_year</th>\n",
       "    </tr>\n",
       "  </thead>\n",
       "  <tbody>\n",
       "    <tr>\n",
       "      <th>0</th>\n",
       "      <td>72942</td>\n",
       "      <td>72942</td>\n",
       "      <td>2011</td>\n",
       "    </tr>\n",
       "    <tr>\n",
       "      <th>1</th>\n",
       "      <td>74626</td>\n",
       "      <td>74626</td>\n",
       "      <td>2012</td>\n",
       "    </tr>\n",
       "    <tr>\n",
       "      <th>2</th>\n",
       "      <td>72200</td>\n",
       "      <td>72200</td>\n",
       "      <td>2013</td>\n",
       "    </tr>\n",
       "    <tr>\n",
       "      <th>3</th>\n",
       "      <td>68471</td>\n",
       "      <td>68471</td>\n",
       "      <td>2014</td>\n",
       "    </tr>\n",
       "    <tr>\n",
       "      <th>4</th>\n",
       "      <td>70713</td>\n",
       "      <td>70713</td>\n",
       "      <td>2015</td>\n",
       "    </tr>\n",
       "    <tr>\n",
       "      <th>5</th>\n",
       "      <td>73328</td>\n",
       "      <td>73328</td>\n",
       "      <td>2016</td>\n",
       "    </tr>\n",
       "    <tr>\n",
       "      <th>6</th>\n",
       "      <td>72311</td>\n",
       "      <td>72311</td>\n",
       "      <td>2017</td>\n",
       "    </tr>\n",
       "    <tr>\n",
       "      <th>7</th>\n",
       "      <td>78559</td>\n",
       "      <td>78559</td>\n",
       "      <td>2018</td>\n",
       "    </tr>\n",
       "    <tr>\n",
       "      <th>8</th>\n",
       "      <td>95627</td>\n",
       "      <td>95627</td>\n",
       "      <td>2019</td>\n",
       "    </tr>\n",
       "    <tr>\n",
       "      <th>9</th>\n",
       "      <td>102677</td>\n",
       "      <td>102677</td>\n",
       "      <td>2020</td>\n",
       "    </tr>\n",
       "  </tbody>\n",
       "</table>\n",
       "</div>"
      ],
      "text/plain": [
       "   incident_count  offense_count  data_year\n",
       "0           72942          72942       2011\n",
       "1           74626          74626       2012\n",
       "2           72200          72200       2013\n",
       "3           68471          68471       2014\n",
       "4           70713          70713       2015\n",
       "5           73328          73328       2016\n",
       "6           72311          72311       2017\n",
       "7           78559          78559       2018\n",
       "8           95627          95627       2019\n",
       "9          102677         102677       2020"
      ]
     },
     "execution_count": 40,
     "metadata": {},
     "output_type": "execute_result"
    }
   ],
   "source": [
    "#csv to dataframe\n",
    "robb_df = pd.DataFrame(fbi_unformed_robbery_ct)\n",
    "\n",
    "# Sort df by year\n",
    "robb_sorted = robb_df.sort_values('data_year')\n",
    "\n",
    "# Filter for 2011-2020 data\n",
    "robb_by_yr = robb_sorted[robb_sorted['data_year']>=2011]\n",
    "\n",
    "# Reset index and drop old one\n",
    "robb_reset = robb_by_yr.reset_index(drop=True)\n",
    "pd.DataFrame(robb_reset)"
   ]
  },
  {
   "cell_type": "markdown",
   "id": "c866a6ae",
   "metadata": {},
   "source": [
    "### Robbery Data Line Plot"
   ]
  },
  {
   "cell_type": "code",
   "execution_count": 43,
   "id": "8abb8054",
   "metadata": {},
   "outputs": [
    {
     "data": {
      "image/png": "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\n",
      "text/plain": [
       "<Figure size 432x288 with 1 Axes>"
      ]
     },
     "metadata": {},
     "output_type": "display_data"
    }
   ],
   "source": [
    "fig,ax=plt.subplots()\n",
    "ax.plot(robb_reset['data_year'], robb_reset['offense_count'], marker='o', color = 'orange')\n",
    "ax.set_xlabel('Year')\n",
    "ax.set_ylabel(\"Number of Offenses\")\n",
    "ax.set_title('FBI Crime Data:  Robbery')\n",
    "plt.show()"
   ]
  },
  {
   "cell_type": "markdown",
   "id": "d7de9c08",
   "metadata": {},
   "source": [
    "Robbery trend summary:"
   ]
  },
  {
   "cell_type": "markdown",
   "id": "a0e44e69",
   "metadata": {},
   "source": [
    "## Larceny Data"
   ]
  },
  {
   "cell_type": "code",
   "execution_count": 46,
   "id": "0adf5570",
   "metadata": {},
   "outputs": [],
   "source": [
    "#API call\n",
    "fbi_larceny_ct = requests.get('https://api.usa.gov/crime/fbi/sapi/api/data/nibrs/larceny-theft-offenses/offense/national/count/?limit=1&api_key='+FBI_api_key)\n",
    "fbi_json_larceny_ct = json.loads(fbi_larceny_ct.text)"
   ]
  },
  {
   "cell_type": "code",
   "execution_count": 47,
   "id": "552a1aa2",
   "metadata": {},
   "outputs": [],
   "source": [
    "#data to json to csv\n",
    "raw_fbi_larceny_ct = []\n",
    "raw_fbi_larceny_ct.append(fbi_json_larceny_ct)\n",
    "fbi_unformed_larceny_ct = pd.json_normalize(raw_fbi_larceny_ct, record_path = [\"results\"])\n",
    "fbi_unformed_larceny_ct.to_csv('fbi_unformed_larceny_ct_csv.csv')"
   ]
  },
  {
   "cell_type": "code",
   "execution_count": 55,
   "id": "2332bc73",
   "metadata": {},
   "outputs": [
    {
     "data": {
      "text/html": [
       "<div>\n",
       "<style scoped>\n",
       "    .dataframe tbody tr th:only-of-type {\n",
       "        vertical-align: middle;\n",
       "    }\n",
       "\n",
       "    .dataframe tbody tr th {\n",
       "        vertical-align: top;\n",
       "    }\n",
       "\n",
       "    .dataframe thead th {\n",
       "        text-align: right;\n",
       "    }\n",
       "</style>\n",
       "<table border=\"1\" class=\"dataframe\">\n",
       "  <thead>\n",
       "    <tr style=\"text-align: right;\">\n",
       "      <th></th>\n",
       "      <th>data_year</th>\n",
       "      <th>offense_count</th>\n",
       "    </tr>\n",
       "  </thead>\n",
       "  <tbody>\n",
       "    <tr>\n",
       "      <th>0</th>\n",
       "      <td>2011</td>\n",
       "      <td>1715009</td>\n",
       "    </tr>\n",
       "    <tr>\n",
       "      <th>1</th>\n",
       "      <td>2012</td>\n",
       "      <td>1792213</td>\n",
       "    </tr>\n",
       "    <tr>\n",
       "      <th>2</th>\n",
       "      <td>2013</td>\n",
       "      <td>1760951</td>\n",
       "    </tr>\n",
       "    <tr>\n",
       "      <th>3</th>\n",
       "      <td>2014</td>\n",
       "      <td>1722483</td>\n",
       "    </tr>\n",
       "    <tr>\n",
       "      <th>4</th>\n",
       "      <td>2015</td>\n",
       "      <td>1741204</td>\n",
       "    </tr>\n",
       "    <tr>\n",
       "      <th>5</th>\n",
       "      <td>2016</td>\n",
       "      <td>1789788</td>\n",
       "    </tr>\n",
       "    <tr>\n",
       "      <th>6</th>\n",
       "      <td>2017</td>\n",
       "      <td>1816210</td>\n",
       "    </tr>\n",
       "    <tr>\n",
       "      <th>7</th>\n",
       "      <td>2018</td>\n",
       "      <td>1902857</td>\n",
       "    </tr>\n",
       "    <tr>\n",
       "      <th>8</th>\n",
       "      <td>2019</td>\n",
       "      <td>2271350</td>\n",
       "    </tr>\n",
       "    <tr>\n",
       "      <th>9</th>\n",
       "      <td>2020</td>\n",
       "      <td>2453533</td>\n",
       "    </tr>\n",
       "  </tbody>\n",
       "</table>\n",
       "</div>"
      ],
      "text/plain": [
       "   data_year  offense_count\n",
       "0       2011        1715009\n",
       "1       2012        1792213\n",
       "2       2013        1760951\n",
       "3       2014        1722483\n",
       "4       2015        1741204\n",
       "5       2016        1789788\n",
       "6       2017        1816210\n",
       "7       2018        1902857\n",
       "8       2019        2271350\n",
       "9       2020        2453533"
      ]
     },
     "execution_count": 55,
     "metadata": {},
     "output_type": "execute_result"
    }
   ],
   "source": [
    "#csv to dataframe\n",
    "larc_df = pd.DataFrame(fbi_unformed_larceny_ct)\n",
    "\n",
    "# Sort df by year\n",
    "larc_sorted = larc_df.sort_values('data_year')\n",
    "\n",
    "# Filter for 2011-2020 data\n",
    "larc_by_yr = larc_sorted[larc_sorted['data_year']>=2011]\n",
    "\n",
    "# Sum count types by year\n",
    "larc_totals = larc_by_yr.groupby('data_year')['offense_count'].sum()\n",
    "\n",
    "# Reset index and keep data_year as a column\n",
    "larc_reset = larc_totals.reset_index()\n",
    "\n",
    "pd.DataFrame(larc_reset)"
   ]
  },
  {
   "cell_type": "markdown",
   "id": "f90089e8",
   "metadata": {},
   "source": [
    "### Larceny Line Plot"
   ]
  },
  {
   "cell_type": "code",
   "execution_count": 65,
   "id": "0e492344",
   "metadata": {},
   "outputs": [
    {
     "data": {
      "image/png": "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\n",
      "text/plain": [
       "<Figure size 432x288 with 1 Axes>"
      ]
     },
     "metadata": {},
     "output_type": "display_data"
    }
   ],
   "source": [
    "fig,ax=plt.subplots()\n",
    "ax.plot(larc_reset['data_year'], larc_reset['offense_count'], marker='o', color = 'purple')\n",
    "ax.set_xlabel('Year')\n",
    "ax.set_ylabel(\"Number of Offenses (in millions)\")\n",
    "ax.set_title('FBI Crime Data:  Larceny')\n",
    "plt.show()"
   ]
  },
  {
   "cell_type": "markdown",
   "id": "96960d73",
   "metadata": {},
   "source": [
    "Larceny trend summary:"
   ]
  },
  {
   "cell_type": "markdown",
   "id": "d9f2f63a",
   "metadata": {},
   "source": [
    "## Stolen Property Data"
   ]
  },
  {
   "cell_type": "code",
   "execution_count": 57,
   "id": "ca684f23",
   "metadata": {},
   "outputs": [],
   "source": [
    "#API call\n",
    "fbi_stolprop_ct = requests.get('https://api.usa.gov/crime/fbi/sapi/api/data/nibrs/stolen-property-offenses/offense/national/count/?limit=1&api_key='+FBI_api_key)\n",
    "fbi_json_stolprop_ct = json.loads(fbi_stolprop_ct.text)"
   ]
  },
  {
   "cell_type": "code",
   "execution_count": 58,
   "id": "d60fc68a",
   "metadata": {},
   "outputs": [],
   "source": [
    "#data to json to csv\n",
    "raw_fbi_stolprop_ct = []\n",
    "raw_fbi_stolprop_ct.append(fbi_json_stolprop_ct)\n",
    "fbi_unformed_stolprop_ct = pd.json_normalize(raw_fbi_stolprop_ct, record_path = [\"results\"])\n",
    "fbi_unformed_stolprop_ct.to_csv('fbi_unformed_stolprop_ct_csv.csv')"
   ]
  },
  {
   "cell_type": "code",
   "execution_count": 63,
   "id": "931c6867",
   "metadata": {},
   "outputs": [
    {
     "data": {
      "text/html": [
       "<div>\n",
       "<style scoped>\n",
       "    .dataframe tbody tr th:only-of-type {\n",
       "        vertical-align: middle;\n",
       "    }\n",
       "\n",
       "    .dataframe tbody tr th {\n",
       "        vertical-align: top;\n",
       "    }\n",
       "\n",
       "    .dataframe thead th {\n",
       "        text-align: right;\n",
       "    }\n",
       "</style>\n",
       "<table border=\"1\" class=\"dataframe\">\n",
       "  <thead>\n",
       "    <tr style=\"text-align: right;\">\n",
       "      <th></th>\n",
       "      <th>index</th>\n",
       "      <th>incident_count</th>\n",
       "      <th>offense_count</th>\n",
       "      <th>data_year</th>\n",
       "    </tr>\n",
       "  </thead>\n",
       "  <tbody>\n",
       "    <tr>\n",
       "      <th>0</th>\n",
       "      <td>1</td>\n",
       "      <td>32951</td>\n",
       "      <td>32951</td>\n",
       "      <td>2011</td>\n",
       "    </tr>\n",
       "    <tr>\n",
       "      <th>1</th>\n",
       "      <td>12</td>\n",
       "      <td>36594</td>\n",
       "      <td>36594</td>\n",
       "      <td>2012</td>\n",
       "    </tr>\n",
       "    <tr>\n",
       "      <th>2</th>\n",
       "      <td>17</td>\n",
       "      <td>37367</td>\n",
       "      <td>37367</td>\n",
       "      <td>2013</td>\n",
       "    </tr>\n",
       "    <tr>\n",
       "      <th>3</th>\n",
       "      <td>21</td>\n",
       "      <td>37273</td>\n",
       "      <td>37273</td>\n",
       "      <td>2014</td>\n",
       "    </tr>\n",
       "    <tr>\n",
       "      <th>4</th>\n",
       "      <td>22</td>\n",
       "      <td>39088</td>\n",
       "      <td>39088</td>\n",
       "      <td>2015</td>\n",
       "    </tr>\n",
       "    <tr>\n",
       "      <th>5</th>\n",
       "      <td>6</td>\n",
       "      <td>45781</td>\n",
       "      <td>45781</td>\n",
       "      <td>2016</td>\n",
       "    </tr>\n",
       "    <tr>\n",
       "      <th>6</th>\n",
       "      <td>11</td>\n",
       "      <td>49301</td>\n",
       "      <td>49301</td>\n",
       "      <td>2017</td>\n",
       "    </tr>\n",
       "    <tr>\n",
       "      <th>7</th>\n",
       "      <td>18</td>\n",
       "      <td>53094</td>\n",
       "      <td>53094</td>\n",
       "      <td>2018</td>\n",
       "    </tr>\n",
       "    <tr>\n",
       "      <th>8</th>\n",
       "      <td>27</td>\n",
       "      <td>62034</td>\n",
       "      <td>62034</td>\n",
       "      <td>2019</td>\n",
       "    </tr>\n",
       "    <tr>\n",
       "      <th>9</th>\n",
       "      <td>25</td>\n",
       "      <td>72323</td>\n",
       "      <td>72323</td>\n",
       "      <td>2020</td>\n",
       "    </tr>\n",
       "  </tbody>\n",
       "</table>\n",
       "</div>"
      ],
      "text/plain": [
       "   index  incident_count  offense_count  data_year\n",
       "0      1           32951          32951       2011\n",
       "1     12           36594          36594       2012\n",
       "2     17           37367          37367       2013\n",
       "3     21           37273          37273       2014\n",
       "4     22           39088          39088       2015\n",
       "5      6           45781          45781       2016\n",
       "6     11           49301          49301       2017\n",
       "7     18           53094          53094       2018\n",
       "8     27           62034          62034       2019\n",
       "9     25           72323          72323       2020"
      ]
     },
     "execution_count": 63,
     "metadata": {},
     "output_type": "execute_result"
    }
   ],
   "source": [
    "#csv to dataframe\n",
    "stolprop_df = pd.DataFrame(fbi_unformed_stolprop_ct)\n",
    "\n",
    "# Sort df by year\n",
    "stolprop_sorted = stolprop_df.sort_values('data_year')\n",
    "\n",
    "# Filter for 2011-2020 data\n",
    "stolprop_by_yr = stolprop_sorted[stolprop_sorted['data_year']>=2011]\n",
    "\n",
    "# Reset index and keep data_year as a column\n",
    "stolprop_reset = stolprop_by_yr.reset_index()\n",
    "\n",
    "pd.DataFrame(stolprop_reset)"
   ]
  },
  {
   "cell_type": "markdown",
   "id": "8700a772",
   "metadata": {},
   "source": [
    "### Stolen Property Line Plot"
   ]
  },
  {
   "cell_type": "code",
   "execution_count": 64,
   "id": "98f7bf7f",
   "metadata": {},
   "outputs": [
    {
     "data": {
      "image/png": "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\n",
      "text/plain": [
       "<Figure size 432x288 with 1 Axes>"
      ]
     },
     "metadata": {},
     "output_type": "display_data"
    }
   ],
   "source": [
    "fig,ax=plt.subplots()\n",
    "ax.plot(stolprop_reset['data_year'], stolprop_reset['offense_count'], marker='o', color = 'red')\n",
    "ax.set_xlabel('Year')\n",
    "ax.set_ylabel(\"Number of Offenses\")\n",
    "ax.set_title('FBI Crime Data:  Stolen Property')\n",
    "plt.show()"
   ]
  },
  {
   "cell_type": "markdown",
   "id": "c9362d12",
   "metadata": {},
   "source": [
    "## Unemployment Rate"
   ]
  },
  {
   "cell_type": "code",
   "execution_count": 67,
   "id": "02909303",
   "metadata": {},
   "outputs": [],
   "source": [
    "#BLA API call\n",
    "base_url=\"https://api.bls.gov/publicAPI/v2/timeseries/data/?registrationkey=\"+BLS_api_key+\"&catalog=true&startyear=2011&endyear=2020&calculations=true&annualaverage=true&aspects=true\"\n",
    "\n",
    "headers = {'Content-type': 'application/json'}\n",
    "data = json.dumps({\"seriesid\": ['LNS14000000'],\"startyear\":\"2011\", \"endyear\":\"2020\"})\n",
    "p = requests.post('https://api.bls.gov/publicAPI/v2/timeseries/data/', data=data, headers=headers)\n",
    "json_data = json.loads(p.text)\n",
    "for series in json_data['Results']['series']:\n",
    "    x=prettytable.PrettyTable([\"series id\",\"year\",\"period\",\"value\",\"footnotes\"])\n",
    "    seriesId = series['seriesID']\n",
    "    for item in series['data']:\n",
    "        year = item['year']\n",
    "        period = item['period']\n",
    "        value = item['value']\n",
    "        footnotes=\"\"\n",
    "        for footnote in item['footnotes']:\n",
    "            if footnote:\n",
    "                footnotes = footnotes + footnote['text'] + ','\n",
    "        if 'M01' <= period <= 'M12':\n",
    "            x.add_row([seriesId,year,period,value,footnotes[0:-1]])\n",
    "    output = open(seriesId + '.txt','w')\n",
    "    output.write (x.get_string())\n",
    "    output.close()"
   ]
  },
  {
   "cell_type": "code",
   "execution_count": null,
   "id": "59aef716",
   "metadata": {},
   "outputs": [],
   "source": [
    "#data to json to csv\n",
    "bls_unformed_unemp_ct.to_csv('bls_unformed_unemp_ct_csv.csv')"
   ]
  },
  {
   "cell_type": "code",
   "execution_count": null,
   "id": "6f682ce0",
   "metadata": {},
   "outputs": [],
   "source": [
    "#csv to dataframe\n",
    "unemp_df = pd.DataFrame(bls_unformed_unemp_ct)\n",
    "\n",
    "# Sort df by year\n",
    "stolprop_sorted = stolprop_df.sort_values('data_year')\n",
    "\n",
    "# Filter for 2011-2020 data\n",
    "stolprop_by_yr = stolprop_sorted[stolprop_sorted['data_year']>=2011]\n",
    "\n",
    "# Reset index and keep data_year as a column\n",
    "stolprop_reset = stolprop_by_yr.reset_index()\n",
    "\n",
    "pd.DataFrame(stolprop_reset)"
   ]
  },
  {
   "cell_type": "markdown",
   "id": "f68c6dc4",
   "metadata": {},
   "source": [
    "### Unemployment Rate Line Plot"
   ]
  },
  {
   "cell_type": "code",
   "execution_count": null,
   "id": "ac4f0841",
   "metadata": {},
   "outputs": [],
   "source": []
  },
  {
   "cell_type": "markdown",
   "id": "775b3d50",
   "metadata": {},
   "source": [
    "Unemployment trend summary:"
   ]
  },
  {
   "cell_type": "markdown",
   "id": "1bb58d4a",
   "metadata": {},
   "source": [
    "## Comparing Property Theft and Unemployment Over 10 Years"
   ]
  },
  {
   "cell_type": "code",
   "execution_count": null,
   "id": "c2ea2e18",
   "metadata": {},
   "outputs": [],
   "source": [
    "#relplot"
   ]
  },
  {
   "cell_type": "markdown",
   "id": "eebb5d8a",
   "metadata": {},
   "source": [
    "Comparisons, trends, notable features of the data"
   ]
  },
  {
   "cell_type": "markdown",
   "id": "09238907",
   "metadata": {},
   "source": [
    "## Lessons Learned"
   ]
  },
  {
   "cell_type": "markdown",
   "id": "e9757572",
   "metadata": {},
   "source": [
    "1) Be careful of data that isn't labeled clearly; for example, \"value\" in the unemployment data was extremely vague\n",
    "and required extra research.\n",
    "\n",
    "2) It follows from the first point, but information literacy is important. It's not enough to be able to manipulate the data; we have to be able to figure out what data has been included and whether the labels are accurate (in the course of the project, some data were represented as is more usual in the statistics and economics fields as a way of abbreviating large numbers \"normalized x100,000\").\n",
    "\n",
    "3) Sometimes data will be stored using unfamiliar python modules, like \"prettytable,\" which needs to be downloaded in addition to the usual suspects."
   ]
  }
 ],
 "metadata": {
  "kernelspec": {
   "display_name": "Python 3 (ipykernel)",
   "language": "python",
   "name": "python3"
  },
  "language_info": {
   "codemirror_mode": {
    "name": "ipython",
    "version": 3
   },
   "file_extension": ".py",
   "mimetype": "text/x-python",
   "name": "python",
   "nbconvert_exporter": "python",
   "pygments_lexer": "ipython3",
   "version": "3.9.7"
  }
 },
 "nbformat": 4,
 "nbformat_minor": 5
}
