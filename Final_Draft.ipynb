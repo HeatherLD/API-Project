{
 "cells": [
  {
   "cell_type": "markdown",
   "id": "ee4822e5",
   "metadata": {},
   "source": [
    "# Group API Project: Crime Rates and Unemployment Rates\n",
    "\n",
    "## November 10, 2021 -- Jamie Mortensen, Heather Leighton-Dick\n",
    "\n",
    "\n",
    "What if any relationship is there between national property crimes rates versus unemployment rates in 2010? in 2020?\n",
    "\n",
    "Is there a noticeable difference between the years? Is there a potential correlation between crime and unemployment rates? Is there a stronger correlation in one subgroup of property crimes than the others?"
   ]
  },
  {
   "cell_type": "markdown",
   "id": "a966b59c",
   "metadata": {},
   "source": [
    "### Definitions:\n",
    "\n",
    "property crime: a category of crime, usually involving private property, that includes burglary, larceny, theft, motor vehicle theft, arson, shoplifting, and vandalism\n",
    "\n",
    "burglary: entry into a building with the intent to commit a crime, most often theft, robbery, or murder\n",
    "\n",
    "robbery: taking property unlawfully from a person or place by force or threat of force\n",
    "\n",
    "larceny: the theft of physical items that are personal property, without threat of force (theft includes all variations on stealing property from another person or entity)"
   ]
  },
  {
   "cell_type": "markdown",
   "id": "d02aaaba",
   "metadata": {},
   "source": [
    "### Set-Up and Importing Modules"
   ]
  },
  {
   "cell_type": "code",
   "execution_count": 5,
   "id": "1a627afd",
   "metadata": {},
   "outputs": [
    {
     "ename": "ModuleNotFoundError",
     "evalue": "No module named 'API_Keys'",
     "output_type": "error",
     "traceback": [
      "\u001b[0;31m---------------------------------------------------------------------------\u001b[0m",
      "\u001b[0;31mModuleNotFoundError\u001b[0m                       Traceback (most recent call last)",
      "\u001b[0;32m/var/folders/_g/ndr230vr8xj4_h001s7lzdlh0000gp/T/ipykernel_34226/3689671885.py\u001b[0m in \u001b[0;36m<module>\u001b[0;34m\u001b[0m\n\u001b[1;32m     10\u001b[0m \u001b[0;32mimport\u001b[0m \u001b[0mseaborn\u001b[0m \u001b[0;32mas\u001b[0m \u001b[0msns\u001b[0m\u001b[0;34m\u001b[0m\u001b[0;34m\u001b[0m\u001b[0m\n\u001b[1;32m     11\u001b[0m \u001b[0;32mimport\u001b[0m \u001b[0mprettytable\u001b[0m\u001b[0;34m\u001b[0m\u001b[0;34m\u001b[0m\u001b[0m\n\u001b[0;32m---> 12\u001b[0;31m \u001b[0;32mimport\u001b[0m \u001b[0mAPI_Keys\u001b[0m\u001b[0;34m\u001b[0m\u001b[0;34m\u001b[0m\u001b[0m\n\u001b[0m\u001b[1;32m     13\u001b[0m \u001b[0;34m\u001b[0m\u001b[0m\n\u001b[1;32m     14\u001b[0m \u001b[0;32mfrom\u001b[0m \u001b[0mAPI_Keys\u001b[0m \u001b[0;32mimport\u001b[0m \u001b[0mFBI_api_key\u001b[0m\u001b[0;34m,\u001b[0m \u001b[0mBLS_api_key\u001b[0m\u001b[0;34m\u001b[0m\u001b[0;34m\u001b[0m\u001b[0m\n",
      "\u001b[0;31mModuleNotFoundError\u001b[0m: No module named 'API_Keys'"
     ]
    }
   ],
   "source": [
    "import requests\n",
    "import pandas as pd\n",
    "import matplotlib.pyplot as plt\n",
    "import numpy as np\n",
    "import time\n",
    "from pprint import pprint\n",
    "import citipy\n",
    "import json\n",
    "from citipy import citipy\n",
    "import seaborn as sns\n",
    "import prettytable\n",
    "import API_Keys\n",
    "\n",
    "from API_Keys import FBI_api_key, BLS_api_key"
   ]
  },
  {
   "cell_type": "markdown",
   "id": "6e846a6b",
   "metadata": {},
   "source": [
    "## Performing the API Calls and Collecting the Data"
   ]
  },
  {
   "cell_type": "markdown",
   "id": "d456539f",
   "metadata": {},
   "source": [
    "## Burglary Data"
   ]
  },
  {
   "cell_type": "code",
   "execution_count": null,
   "id": "bac85993",
   "metadata": {},
   "outputs": [],
   "source": [
    "#API call\n",
    "headers = {\"Incident\": \"incident_count\", \"Offense\": \"offense_count\", \"Year\": \"data_year\"}\n",
    "fbi_burglary_ct = requests.get('https://api.usa.gov/crime/fbi/sapi/api/data/nibrs/burglary-breaking-and-entering/offense/national/count/?limit=1&api_key='+FBI_api_key)\n",
    "fbi_json_bur_ct = json.loads(fbi_burglary_ct.text)"
   ]
  },
  {
   "cell_type": "code",
   "execution_count": null,
   "id": "1b9e0fdb",
   "metadata": {},
   "outputs": [],
   "source": [
    "#data to json to csv\n",
    "raw_fbi_bur_ct = []\n",
    "raw_fbi_bur_ct.append(fbi_json_bur_ct)\n",
    "fbi_unformed_bur_ct = pd.json_normalize(raw_fbi_bur_ct, record_path = [\"results\"])\n",
    "fbi_unformed_bur_ct.to_csv('fbi_unformed_bur_ct_csv.csv')"
   ]
  },
  {
   "cell_type": "code",
   "execution_count": null,
   "id": "d0ceee30",
   "metadata": {},
   "outputs": [],
   "source": [
    "#csv to dataframe\n",
    "burg_df = pd.DataFrame(fbi_unformed_bur_ct)\n",
    "# Sort df by year\n",
    "burg_sorted = burg_df.sort_values('data_year')\n",
    "# Filter for 2011-2020 data\n",
    "burg_by_yr = burg_sorted[burg_sorted['data_year']>=2011]\n",
    "# Reset index and drop old one\n",
    "burg_reset = burg_by_yr.reset_index(drop=True)\n",
    "pd.DataFrame(burg_reset)"
   ]
  },
  {
   "cell_type": "markdown",
   "id": "397a4141",
   "metadata": {},
   "source": [
    "### Burglary Data Line Plot"
   ]
  },
  {
   "cell_type": "code",
   "execution_count": null,
   "id": "fe729be0",
   "metadata": {},
   "outputs": [],
   "source": [
    "sns.set_style(\"darkgrid\")\n",
    "fig,ax=plt.subplots()\n",
    "ax.plot(burg_reset['data_year'], burg_reset['offense_count'], marker='o', color = 'green')\n",
    "ax.set_xlabel('Year')\n",
    "ax.set_ylabel(\"Number of Offenses\")\n",
    "ax.set_title('FBI Crime Data:  Burglary')\n",
    "plt.show()"
   ]
  },
  {
   "cell_type": "markdown",
   "id": "b4d6d325",
   "metadata": {},
   "source": [
    "Burglary trend summary:"
   ]
  },
  {
   "cell_type": "markdown",
   "id": "fb347923",
   "metadata": {},
   "source": [
    "## Robbery Data"
   ]
  },
  {
   "cell_type": "code",
   "execution_count": null,
   "id": "c34595c1",
   "metadata": {},
   "outputs": [],
   "source": [
    "#API call\n",
    "fbi_robbery_ct = requests.get('https://api.usa.gov/crime/fbi/sapi/api/data/nibrs/robbery/offense/national/count/?limit=1&api_key='+FBI_api_key)"
   ]
  },
  {
   "cell_type": "code",
   "execution_count": null,
   "id": "cacd1d41",
   "metadata": {},
   "outputs": [],
   "source": [
    "#data to json to csv\n",
    "fbi_json_robbery_ct = json.loads(fbi_robbery_ct.text)\n",
    "raw_fbi_robbery_ct = []\n",
    "raw_fbi_robbery_ct.append(fbi_json_robbery_ct)\n",
    "fbi_unformed_robbery_ct = pd.json_normalize(raw_fbi_robbery_ct, record_path = [\"results\"])\n",
    "fbi_unformed_robbery_ct.to_csv('fbi_unformed_robbery_ct_csv.csv')"
   ]
  },
  {
   "cell_type": "code",
   "execution_count": null,
   "id": "e17d8e86",
   "metadata": {},
   "outputs": [],
   "source": [
    "#csv to dataframe\n",
    "robb_df = pd.DataFrame(fbi_unformed_robbery_ct)\n",
    "\n",
    "# Sort df by year\n",
    "robb_sorted = robb_df.sort_values('data_year')\n",
    "\n",
    "# Filter for 2011-2020 data\n",
    "robb_by_yr = robb_sorted[robb_sorted['data_year']>=2011]\n",
    "\n",
    "# Reset index and drop old one\n",
    "robb_reset = robb_by_yr.reset_index(drop=True)\n",
    "pd.DataFrame(robb_reset)"
   ]
  },
  {
   "cell_type": "markdown",
   "id": "c866a6ae",
   "metadata": {},
   "source": [
    "### Robbery Data Line Plot"
   ]
  },
  {
   "cell_type": "code",
   "execution_count": null,
   "id": "8abb8054",
   "metadata": {},
   "outputs": [],
   "source": [
    "fig,ax=plt.subplots()\n",
    "ax.plot(robb_reset['data_year'], robb_reset['offense_count'], marker='o', color = 'orange')\n",
    "ax.set_xlabel('Year')\n",
    "ax.set_ylabel(\"Number of Offenses\")\n",
    "ax.set_title('FBI Crime Data:  Robbery')\n",
    "plt.show()"
   ]
  },
  {
   "cell_type": "markdown",
   "id": "d7de9c08",
   "metadata": {},
   "source": [
    "Robbery trend summary:"
   ]
  },
  {
   "cell_type": "markdown",
   "id": "a0e44e69",
   "metadata": {},
   "source": [
    "## Larceny Data"
   ]
  },
  {
   "cell_type": "code",
   "execution_count": null,
   "id": "0adf5570",
   "metadata": {},
   "outputs": [],
   "source": [
    "#API call\n",
    "fbi_larceny_ct = requests.get('https://api.usa.gov/crime/fbi/sapi/api/data/nibrs/larceny-theft-offenses/offense/national/count/?limit=1&api_key='+FBI_api_key)\n",
    "fbi_json_larceny_ct = json.loads(fbi_larceny_ct.text)"
   ]
  },
  {
   "cell_type": "code",
   "execution_count": null,
   "id": "552a1aa2",
   "metadata": {},
   "outputs": [],
   "source": [
    "#data to json to csv\n",
    "raw_fbi_larceny_ct = []\n",
    "raw_fbi_larceny_ct.append(fbi_json_larceny_ct)\n",
    "fbi_unformed_larceny_ct = pd.json_normalize(raw_fbi_larceny_ct, record_path = [\"results\"])\n",
    "fbi_unformed_larceny_ct.to_csv('fbi_unformed_larceny_ct_csv.csv')"
   ]
  },
  {
   "cell_type": "code",
   "execution_count": null,
   "id": "2332bc73",
   "metadata": {},
   "outputs": [],
   "source": [
    "#csv to dataframe\n",
    "larc_df = pd.DataFrame(fbi_unformed_larceny_ct)\n",
    "\n",
    "# Sort df by year\n",
    "larc_sorted = larc_df.sort_values('data_year')\n",
    "\n",
    "# Filter for 2011-2020 data\n",
    "larc_by_yr = larc_sorted[larc_sorted['data_year']>=2011]\n",
    "\n",
    "# Sum count types by year\n",
    "larc_totals = larc_by_yr.groupby('data_year')['offense_count'].sum()\n",
    "\n",
    "# Reset index and keep data_year as a column\n",
    "larc_reset = larc_totals.reset_index()\n",
    "\n",
    "pd.DataFrame(larc_reset)"
   ]
  },
  {
   "cell_type": "markdown",
   "id": "f90089e8",
   "metadata": {},
   "source": [
    "### Larceny Line Plot"
   ]
  },
  {
   "cell_type": "code",
   "execution_count": null,
   "id": "0e492344",
   "metadata": {},
   "outputs": [],
   "source": [
    "fig,ax=plt.subplots()\n",
    "ax.plot(larc_reset['data_year'], larc_reset['offense_count'], marker='o', color = 'purple')\n",
    "ax.set_xlabel('Year')\n",
    "ax.set_ylabel(\"Number of Offenses (in millions)\")\n",
    "ax.set_title('FBI Crime Data:  Larceny')\n",
    "plt.show()"
   ]
  },
  {
   "cell_type": "markdown",
   "id": "96960d73",
   "metadata": {},
   "source": [
    "Larceny trend summary:"
   ]
  },
  {
   "cell_type": "markdown",
   "id": "e41c22fa",
   "metadata": {},
   "source": [
    "## Stolen Property Data"
   ]
  },
  {
   "cell_type": "code",
   "execution_count": null,
   "id": "2aedc537",
   "metadata": {},
   "outputs": [],
   "source": [
    "#API call\n",
    "fbi_stolprop_ct = requests.get('https://api.usa.gov/crime/fbi/sapi/api/data/nibrs/stolen-property-offenses/offense/national/count/?limit=1&api_key='+FBI_api_key)\n",
    "fbi_json_stolprop_ct = json.loads(fbi_stolprop_ct.text)"
   ]
  },
  {
   "cell_type": "code",
   "execution_count": null,
   "id": "9c24ec15",
   "metadata": {},
   "outputs": [],
   "source": [
    "#data to json to csv\n",
    "raw_fbi_stolprop_ct = []\n",
    "raw_fbi_stolprop_ct.append(fbi_json_stolprop_ct)\n",
    "fbi_unformed_stolprop_ct = pd.json_normalize(raw_fbi_stolprop_ct, record_path = [\"results\"])\n",
    "fbi_unformed_stolprop_ct.to_csv('fbi_unformed_stolprop_ct_csv.csv')"
   ]
  },
  {
   "cell_type": "code",
   "execution_count": 4,
   "id": "1c48976d",
   "metadata": {},
   "outputs": [
    {
     "ename": "NameError",
     "evalue": "name 'fbi_unformed_stolprop_ct' is not defined",
     "output_type": "error",
     "traceback": [
      "\u001b[0;31m---------------------------------------------------------------------------\u001b[0m",
      "\u001b[0;31mNameError\u001b[0m                                 Traceback (most recent call last)",
      "\u001b[0;32m/var/folders/_g/ndr230vr8xj4_h001s7lzdlh0000gp/T/ipykernel_34226/1338513226.py\u001b[0m in \u001b[0;36m<module>\u001b[0;34m\u001b[0m\n\u001b[1;32m      1\u001b[0m \u001b[0;31m#csv to dataframe\u001b[0m\u001b[0;34m\u001b[0m\u001b[0;34m\u001b[0m\u001b[0m\n\u001b[0;32m----> 2\u001b[0;31m \u001b[0mstolprop_df\u001b[0m \u001b[0;34m=\u001b[0m \u001b[0mpd\u001b[0m\u001b[0;34m.\u001b[0m\u001b[0mDataFrame\u001b[0m\u001b[0;34m(\u001b[0m\u001b[0mfbi_unformed_stolprop_ct\u001b[0m\u001b[0;34m)\u001b[0m\u001b[0;34m\u001b[0m\u001b[0;34m\u001b[0m\u001b[0m\n\u001b[0m\u001b[1;32m      3\u001b[0m \u001b[0;34m\u001b[0m\u001b[0m\n\u001b[1;32m      4\u001b[0m \u001b[0;31m# Sort df by year\u001b[0m\u001b[0;34m\u001b[0m\u001b[0;34m\u001b[0m\u001b[0m\n\u001b[1;32m      5\u001b[0m \u001b[0mstolprop_sorted\u001b[0m \u001b[0;34m=\u001b[0m \u001b[0mstolprop_df\u001b[0m\u001b[0;34m.\u001b[0m\u001b[0msort_values\u001b[0m\u001b[0;34m(\u001b[0m\u001b[0;34m'data_year'\u001b[0m\u001b[0;34m)\u001b[0m\u001b[0;34m\u001b[0m\u001b[0;34m\u001b[0m\u001b[0m\n",
      "\u001b[0;31mNameError\u001b[0m: name 'fbi_unformed_stolprop_ct' is not defined"
     ]
    }
   ],
   "source": [
    "#csv to dataframe\n",
    "stolprop_df = pd.DataFrame(fbi_unformed_stolprop_ct)\n",
    "\n",
    "# Sort df by year\n",
    "stolprop_sorted = stolprop_df.sort_values('data_year')\n",
    "\n",
    "# Filter for 2011-2020 data\n",
    "stolprop_by_yr = stolprop_sorted[stolprop_sorted['data_year']>=2011]\n",
    "\n",
    "# Reset index and keep data_year as a column\n",
    "stolprop_reset = stolprop_by_yr.reset_index()\n",
    "\n",
    "pd.DataFrame(stolprop_reset)"
   ]
  },
  {
   "cell_type": "markdown",
   "id": "3e838657",
   "metadata": {},
   "source": [
    "### Stolen Property Line Plot"
   ]
  },
  {
   "cell_type": "code",
   "execution_count": null,
   "id": "a49b8ba6",
   "metadata": {},
   "outputs": [],
   "source": [
    "fig,ax=plt.subplots()\n",
    "ax.plot(stolprop_reset['data_year'], stolprop_reset['offense_count'], marker='o', color = 'red')\n",
    "ax.set_xlabel('Year')\n",
    "ax.set_ylabel(\"Number of Offenses\")\n",
    "ax.set_title('FBI Crime Data:  Stolen Property')\n",
    "plt.show()"
   ]
  },
  {
   "cell_type": "markdown",
   "id": "c9362d12",
   "metadata": {},
   "source": [
    "## Unemployment Rate"
   ]
  },
  {
   "cell_type": "code",
   "execution_count": null,
   "id": "02909303",
   "metadata": {},
   "outputs": [],
   "source": [
    "#BLS API call\n",
    "base_url=\"https://api.bls.gov/publicAPI/v2/timeseries/data/?registrationkey=\"+BLS_api_key+\"&catalog=true&startyear=2011&endyear=2020&calculations=true&annualaverage=true&aspects=true\"\n",
    "\n",
    "headers = {'Content-type': 'application/json'}\n",
    "data = json.dumps({\"seriesid\": ['LNS14000000'],\"startyear\":\"2011\", \"endyear\":\"2020\"})\n",
    "unemp_ct = requests.post('https://api.bls.gov/publicAPI/v2/timeseries/data/', data=data, headers=headers)\n",
    "bls_json_unemp_ct = json.loads(unemp_ct.text)\n",
    "for series in json_data['Results']['series']:\n",
    "    x=prettytable.PrettyTable([\"series id\",\"year\",\"period\",\"value\",\"footnotes\"])\n",
    "    seriesId = series['seriesID']\n",
    "    for item in series['data']:\n",
    "        year = item['year']\n",
    "        period = item['period']\n",
    "        value = item['value']\n",
    "        footnotes=\"\"\n",
    "        for footnote in item['footnotes']:\n",
    "            if footnote:\n",
    "                footnotes = footnotes + footnote['text'] + ','\n",
    "        if 'M01' <= period <= 'M12':\n",
    "            x.add_row([seriesId,year,period,value,footnotes[0:-1]])\n",
    "    output = open(seriesId + '.txt','w')\n",
    "    output.write (x.get_string())\n",
    "    output.close()"
   ]
  },
  {
   "cell_type": "code",
   "execution_count": null,
   "id": "59aef716",
   "metadata": {},
   "outputs": [],
   "source": [
    "#data to json to csv\n",
    "raw_bls_unemp_ct = []\n",
    "raw_bls_unemp_ct.append(bls_json_unemp_ct)\n",
    "bls_unformed_unemp_ct = pd.json_normalize(raw_bls_unemp_ct)\n",
    "bls_unformed_unemp_ct.to_csv('bls_unformed_unemp_ct_csv.csv')"
   ]
  },
  {
   "cell_type": "code",
   "execution_count": null,
   "id": "6f682ce0",
   "metadata": {},
   "outputs": [],
   "source": [
    "#csv to dataframe\n",
    "unemp_df = pd.DataFrame(bls_unformed_unemp_ct)\n",
    "\n",
    "# Sort df by year\n",
    "unemp_sorted = unemp_df.sort_values('data_year')\n",
    "\n",
    "# Filter for 2011-2020 data\n",
    "unemp_by_yr = unemp_sorted[unemp_sorted['data_year']>=2011]\n",
    "\n",
    "# Reset index and keep data_year as a column\n",
    "unemp_reset = unemp_by_yr.reset_index()\n",
    "\n",
    "pd.DataFrame(unemp_reset)"
   ]
  },
  {
   "cell_type": "markdown",
   "id": "f68c6dc4",
   "metadata": {},
   "source": [
    "### Unemployment Rate Line Plot"
   ]
  },
  {
   "cell_type": "code",
   "execution_count": null,
   "id": "ac4f0841",
   "metadata": {},
   "outputs": [],
   "source": []
  },
  {
   "cell_type": "markdown",
   "id": "775b3d50",
   "metadata": {},
   "source": [
    "Unemployment trend summary:"
   ]
  },
  {
   "cell_type": "markdown",
   "id": "1bb58d4a",
   "metadata": {},
   "source": [
    "### All Thefts 2011–2020"
   ]
  },
  {
   "cell_type": "code",
   "execution_count": null,
   "id": "c2ea2e18",
   "metadata": {},
   "outputs": [],
   "source": [
    "#fbi_stolprop_ct_df.rename(columns={\"data_year\":\"Year(L)\", \"offense_count\":\"Offense Count(L)\"}, inplace=True)\n",
    "#fbi_burglary_ct_df_set\n",
    "#], ignore_index=True, sort=False)\n",
    "#merged_inner = pd.merge(left=survey_sub, right=species_sub, left_on='species_id', right_on='species_id')\n",
    "fbi_twototals_df = pd.merge(left=larc_reset, right=robb_reset, left_on='data_year', right_on='data_year') \n",
    "fbi_totals_df = pd.merge(left=fbi_twototals_df, right=burg_reset, left_on='data_year', right_on='data_year')\n",
    "fbi_totals_df = fbi_totals_df[['data_year', 'Offense Count(L)', 'Offense Count(R)', 'Offense Count(B)']]\n",
    "fbi_totals_df"
   ]
  },
  {
   "cell_type": "code",
   "execution_count": null,
   "id": "67216398",
   "metadata": {},
   "outputs": [],
   "source": [
    "fig,ax=plt.subplots()\n",
    "ax.bar(fbi_totals_df[\"Year(L)\"], fbi_totals_df[\"Offense Count(L)\"], label=\"Larcenies\")\n",
    "ax.bar(fbi_totals_df[\"Year(L)\"], fbi_totals_df[\"Offense Count(R)\"], bottom=fbi_totals_df[\"Offense Count(L)\"], label=\"Robberies\")\n",
    "ax.bar(fbi_totals_df[\"Year(L)\"], fbi_totals_df[\"Offense Count(B)\"], bottom = fbi_totals_df[\"Offense Count(L)\"]+fbi_totals_df[\"Offense Count(R)\"], label = \"Burglaries\")\n",
    "\n",
    "ax.set_xticklabels(fbi_totals_df[\"Year(L)\"], rotation=90)\n",
    "ax.set_ylabel(\"Number of Thefts (in millions)\")\n",
    "ax.legend()\n",
    "\n",
    "plt.show()"
   ]
  },
  {
   "cell_type": "markdown",
   "id": "eebb5d8a",
   "metadata": {},
   "source": [
    "Comparisons, trends, notable features of the data"
   ]
  },
  {
   "cell_type": "markdown",
   "id": "09238907",
   "metadata": {},
   "source": [
    "## Lessons Learned"
   ]
  },
  {
   "cell_type": "markdown",
   "id": "e9757572",
   "metadata": {},
   "source": [
    "1) Be careful of data that isn't labeled clearly; for example, \"value\" in the unemployment data was extremely vague\n",
    "and required extra research.\n",
    "\n",
    "2) It follows from the first point, but information literacy is important. It's not enough to be able to manipulate the data; we have to be able to figure out what data has been included and whether the labels are accurate (in the course of the project, some data were represented as is more usual in the statistics and economics fields as a way of abbreviating large numbers \"normalized x100,000\").\n",
    "\n",
    "3) Sometimes data will be stored using unfamiliar python modules, like \"prettytable,\" which needs to be downloaded in addition to the usual suspects."
   ]
  }
 ],
 "metadata": {
  "kernelspec": {
   "display_name": "Python 3 (ipykernel)",
   "language": "python",
   "name": "python3"
  },
  "language_info": {
   "codemirror_mode": {
    "name": "ipython",
    "version": 3
   },
   "file_extension": ".py",
   "mimetype": "text/x-python",
   "name": "python",
   "nbconvert_exporter": "python",
   "pygments_lexer": "ipython3",
   "version": "3.9.7"
  }
 },
 "nbformat": 4,
 "nbformat_minor": 5
}
