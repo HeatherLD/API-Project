{
 "cells": [
  {
   "cell_type": "markdown",
   "id": "01d333e1",
   "metadata": {},
   "source": [
    "# Group API Project\n",
    "Crime vs. Unemployment Rates"
   ]
  },
  {
   "cell_type": "markdown",
   "id": "2d17bfc3",
   "metadata": {},
   "source": [
    "What, if any, relationship is there between national property crimes rates versus unemployment rates from 2010 to 2020?\n",
    "\n",
    "Is there a noticeable difference between the years? Is there a potential correlation between crime and unemployment rates? Is there a stronger correlation in one subgroup of property crimes than the others?"
   ]
  },
  {
   "cell_type": "code",
   "execution_count": 81,
   "id": "f7c18aec",
   "metadata": {},
   "outputs": [],
   "source": [
    "import requests\n",
    "import pandas as pd\n",
    "import matplotlib.pyplot as plt\n",
    "import numpy as np\n",
    "import time\n",
    "from pprint import pprint\n",
    "import citipy\n",
    "import json\n",
    "from citipy import citipy\n",
    "import seaborn as sns\n",
    "import prettytable\n",
    "\n",
    "import API_Keys\n",
    "\n",
    "from API_Keys import FBI_api_key, BLS_api_key"
   ]
  },
  {
   "cell_type": "markdown",
   "id": "5ceba2f8",
   "metadata": {},
   "source": [
    "## Performing the API Calls and Collecting the Data"
   ]
  },
  {
   "cell_type": "code",
   "execution_count": 82,
   "id": "adade7a3",
   "metadata": {},
   "outputs": [],
   "source": [
    "#FBI JSON request\n",
    "#base_url: https://api.usa.gov/crime/fbi/sapi/api/data/nibrs/{burglary}/offense/national/{count}\n",
    "headers = {\"Incident\": \"incident_count\", \"Offense\": \"offense_count\", \"Year\": \"data_year\"}\n",
    "\n",
    "#burglary, count\n",
    "fbi_burglary_ct = requests.get('https://api.usa.gov/crime/fbi/sapi/api/data/nibrs/burglary-breaking-and-entering/offense/national/count/?limit=1&api_key=HXzuNSaaIO46x38N0iVVKpMDgrP6GG3mxBcacgRH', data=data, headers=headers)\n",
    "fbi_json_bur_ct = json.loads(fbi_burglary_ct.text)"
   ]
  },
  {
   "cell_type": "code",
   "execution_count": 83,
   "id": "3f572acf",
   "metadata": {},
   "outputs": [],
   "source": [
    "#cleaning and reformatting the burglary data\n",
    "raw_fbi_bur_ct = []\n",
    "raw_fbi_bur_ct.append(fbi_json_bur_ct)\n",
    "fbi_unformed_bur_ct = pd.json_normalize(raw_fbi_bur_ct, record_path = [\"results\"])\n",
    "fbi_unformed_bur_ct.to_csv('fbi_unformed_bur_ct_csv.csv')"
   ]
  },
  {
   "cell_type": "code",
   "execution_count": 121,
   "id": "f4892362",
   "metadata": {},
   "outputs": [
    {
     "data": {
      "text/html": [
       "<div>\n",
       "<style scoped>\n",
       "    .dataframe tbody tr th:only-of-type {\n",
       "        vertical-align: middle;\n",
       "    }\n",
       "\n",
       "    .dataframe tbody tr th {\n",
       "        vertical-align: top;\n",
       "    }\n",
       "\n",
       "    .dataframe thead th {\n",
       "        text-align: right;\n",
       "    }\n",
       "</style>\n",
       "<table border=\"1\" class=\"dataframe\">\n",
       "  <thead>\n",
       "    <tr style=\"text-align: right;\">\n",
       "      <th></th>\n",
       "      <th>incident_count</th>\n",
       "      <th>offense_count</th>\n",
       "      <th>data_year</th>\n",
       "    </tr>\n",
       "  </thead>\n",
       "  <tbody>\n",
       "    <tr>\n",
       "      <th>11</th>\n",
       "      <td>585312</td>\n",
       "      <td>585312</td>\n",
       "      <td>2011</td>\n",
       "    </tr>\n",
       "    <tr>\n",
       "      <th>0</th>\n",
       "      <td>586634</td>\n",
       "      <td>586634</td>\n",
       "      <td>2012</td>\n",
       "    </tr>\n",
       "    <tr>\n",
       "      <th>29</th>\n",
       "      <td>537536</td>\n",
       "      <td>537536</td>\n",
       "      <td>2013</td>\n",
       "    </tr>\n",
       "    <tr>\n",
       "      <th>22</th>\n",
       "      <td>482371</td>\n",
       "      <td>482371</td>\n",
       "      <td>2014</td>\n",
       "    </tr>\n",
       "    <tr>\n",
       "      <th>21</th>\n",
       "      <td>462537</td>\n",
       "      <td>462537</td>\n",
       "      <td>2015</td>\n",
       "    </tr>\n",
       "    <tr>\n",
       "      <th>9</th>\n",
       "      <td>462509</td>\n",
       "      <td>462509</td>\n",
       "      <td>2016</td>\n",
       "    </tr>\n",
       "    <tr>\n",
       "      <th>1</th>\n",
       "      <td>441958</td>\n",
       "      <td>441958</td>\n",
       "      <td>2017</td>\n",
       "    </tr>\n",
       "    <tr>\n",
       "      <th>28</th>\n",
       "      <td>434631</td>\n",
       "      <td>434631</td>\n",
       "      <td>2018</td>\n",
       "    </tr>\n",
       "    <tr>\n",
       "      <th>19</th>\n",
       "      <td>494159</td>\n",
       "      <td>494159</td>\n",
       "      <td>2019</td>\n",
       "    </tr>\n",
       "    <tr>\n",
       "      <th>18</th>\n",
       "      <td>522426</td>\n",
       "      <td>522426</td>\n",
       "      <td>2020</td>\n",
       "    </tr>\n",
       "  </tbody>\n",
       "</table>\n",
       "</div>"
      ],
      "text/plain": [
       "    incident_count  offense_count  data_year\n",
       "11          585312         585312       2011\n",
       "0           586634         586634       2012\n",
       "29          537536         537536       2013\n",
       "22          482371         482371       2014\n",
       "21          462537         462537       2015\n",
       "9           462509         462509       2016\n",
       "1           441958         441958       2017\n",
       "28          434631         434631       2018\n",
       "19          494159         494159       2019\n",
       "18          522426         522426       2020"
      ]
     },
     "execution_count": 121,
     "metadata": {},
     "output_type": "execute_result"
    }
   ],
   "source": [
    "# creating a burglary DataFrame\n",
    "#creating dataframe\n",
    "burg_df = pd.DataFrame(fbi_json_bur_ct['results'])\n",
    "\n",
    "# sorting by year \n",
    "burg_sorted=burg_df.sort_values(by='data_year')\n",
    "\n",
    "# filtering for 2011-2020\n",
    "burg_yr_filtered = burg_sorted.loc[burg_sorted['data_year'] >= 2011]\n",
    "pd.DataFrame(burg_yr_filtered)\n"
   ]
  },
  {
   "cell_type": "code",
   "execution_count": 168,
   "id": "2ba31a25",
   "metadata": {},
   "outputs": [
    {
     "data": {
      "image/png": "[encoded data removed]",
      "text/plain": [
       "<Figure size 432x288 with 1 Axes>"
      ]
     },
     "metadata": {},
     "output_type": "display_data"
    }
   ],
   "source": [
    "# creating a burglary line plot\n",
    "sns.set_style('darkgrid')\n",
    "b=sns.lineplot(x='data_year',\n",
    "               y='offense_count',\n",
    "               color='green',\n",
    "               data=burg_yr_filtered,\n",
    "               markers=True)\n",
    "b.set(xlabel = 'Year', ylabel = 'Number of Offenses', title = 'FBI Crime Data:  Burglary')\n",
    "\n",
    "plt.show()"
   ]
  },
  {
   "cell_type": "code",
   "execution_count": 86,
   "id": "855acf80",
   "metadata": {},
   "outputs": [],
   "source": [
    "#robbery, count\n",
    "fbi_robbery_ct = requests.get('https://api.usa.gov/crime/fbi/sapi/api/data/nibrs/robbery/offense/national/count/?limit=1&api_key=HXzuNSaaIO46x38N0iVVKpMDgrP6GG3mxBcacgRH')\n",
    "fbi_json_robbery_ct = json.loads(fbi_robbery_ct.text)\n"
   ]
  },
  {
   "cell_type": "code",
   "execution_count": 87,
   "id": "178229aa",
   "metadata": {},
   "outputs": [],
   "source": [
    "#cleaning and reformatting the robbery data\n",
    "raw_fbi_robbery_ct = []\n",
    "raw_fbi_robbery_ct.append(fbi_json_robbery_ct)\n",
    "fbi_unformed_robbery_ct = pd.json_normalize(raw_fbi_robbery_ct, record_path = [\"results\"])\n",
    "fbi_unformed_robbery_ct.to_csv('fbi_unformed_robbery_ct_csv.csv')"
   ]
  },
  {
   "cell_type": "code",
   "execution_count": 88,
   "id": "354e9f52",
   "metadata": {},
   "outputs": [
    {
     "data": {
      "text/html": [
       "<div>\n",
       "<style scoped>\n",
       "    .dataframe tbody tr th:only-of-type {\n",
       "        vertical-align: middle;\n",
       "    }\n",
       "\n",
       "    .dataframe tbody tr th {\n",
       "        vertical-align: top;\n",
       "    }\n",
       "\n",
       "    .dataframe thead th {\n",
       "        text-align: right;\n",
       "    }\n",
       "</style>\n",
       "<table border=\"1\" class=\"dataframe\">\n",
       "  <thead>\n",
       "    <tr style=\"text-align: right;\">\n",
       "      <th></th>\n",
       "      <th>incident_count</th>\n",
       "      <th>offense_count</th>\n",
       "      <th>data_year</th>\n",
       "    </tr>\n",
       "  </thead>\n",
       "  <tbody>\n",
       "    <tr>\n",
       "      <th>15</th>\n",
       "      <td>72942</td>\n",
       "      <td>72942</td>\n",
       "      <td>2011</td>\n",
       "    </tr>\n",
       "    <tr>\n",
       "      <th>3</th>\n",
       "      <td>74626</td>\n",
       "      <td>74626</td>\n",
       "      <td>2012</td>\n",
       "    </tr>\n",
       "    <tr>\n",
       "      <th>26</th>\n",
       "      <td>72200</td>\n",
       "      <td>72200</td>\n",
       "      <td>2013</td>\n",
       "    </tr>\n",
       "    <tr>\n",
       "      <th>23</th>\n",
       "      <td>68471</td>\n",
       "      <td>68471</td>\n",
       "      <td>2014</td>\n",
       "    </tr>\n",
       "    <tr>\n",
       "      <th>25</th>\n",
       "      <td>70713</td>\n",
       "      <td>70713</td>\n",
       "      <td>2015</td>\n",
       "    </tr>\n",
       "    <tr>\n",
       "      <th>10</th>\n",
       "      <td>73328</td>\n",
       "      <td>73328</td>\n",
       "      <td>2016</td>\n",
       "    </tr>\n",
       "    <tr>\n",
       "      <th>4</th>\n",
       "      <td>72311</td>\n",
       "      <td>72311</td>\n",
       "      <td>2017</td>\n",
       "    </tr>\n",
       "    <tr>\n",
       "      <th>28</th>\n",
       "      <td>78559</td>\n",
       "      <td>78559</td>\n",
       "      <td>2018</td>\n",
       "    </tr>\n",
       "    <tr>\n",
       "      <th>19</th>\n",
       "      <td>95627</td>\n",
       "      <td>95627</td>\n",
       "      <td>2019</td>\n",
       "    </tr>\n",
       "    <tr>\n",
       "      <th>20</th>\n",
       "      <td>102677</td>\n",
       "      <td>102677</td>\n",
       "      <td>2020</td>\n",
       "    </tr>\n",
       "  </tbody>\n",
       "</table>\n",
       "</div>"
      ],
      "text/plain": [
       "    incident_count  offense_count  data_year\n",
       "15           72942          72942       2011\n",
       "3            74626          74626       2012\n",
       "26           72200          72200       2013\n",
       "23           68471          68471       2014\n",
       "25           70713          70713       2015\n",
       "10           73328          73328       2016\n",
       "4            72311          72311       2017\n",
       "28           78559          78559       2018\n",
       "19           95627          95627       2019\n",
       "20          102677         102677       2020"
      ]
     },
     "execution_count": 88,
     "metadata": {},
     "output_type": "execute_result"
    }
   ],
   "source": [
    "# creating a robbery DataFrame\n",
    "#creating dataframe\n",
    "robb_df = pd.DataFrame(fbi_json_robbery_ct['results'])\n",
    "\n",
    "# sorting by year \n",
    "robb_sorted=robb_df.sort_values(by='data_year')\n",
    "\n",
    "# filtering for 2011-2020\n",
    "robb_yr_filtered = robb_sorted.loc[robb_sorted['data_year'] >= 2011]\n",
    "pd.DataFrame(robb_yr_filtered)"
   ]
  },
  {
   "cell_type": "code",
   "execution_count": 169,
   "id": "66739b7d",
   "metadata": {},
   "outputs": [
    {
     "data": {
      "image/png": "[encoded data removed]",
      "text/plain": [
       "<Figure size 432x288 with 1 Axes>"
      ]
     },
     "metadata": {},
     "output_type": "display_data"
    }
   ],
   "source": [
    "# creating a robbery line plot\n",
    "b=sns.lineplot(x='data_year',\n",
    "               y='offense_count',\n",
    "               color='orange',\n",
    "               data=robb_yr_filtered,\n",
    "               markers=True)\n",
    "b.set(xlabel = 'Year', ylabel = 'Number of Offenses', title = 'FBI Crime Data:  Robbery')\n",
    "\n",
    "plt.show()"
   ]
  },
  {
   "cell_type": "code",
   "execution_count": 90,
   "id": "23a8c888",
   "metadata": {},
   "outputs": [],
   "source": [
    "#larceny, count\n",
    "fbi_larceny_ct = requests.get('https://api.usa.gov/crime/fbi/sapi/api/data/nibrs/larceny-theft-offenses/offense/national/count/?limit=1&api_key=HXzuNSaaIO46x38N0iVVKpMDgrP6GG3mxBcacgRH')\n",
    "fbi_json_larceny_ct = json.loads(fbi_larceny_ct.text)\n"
   ]
  },
  {
   "cell_type": "code",
   "execution_count": 91,
   "id": "ea19375d",
   "metadata": {},
   "outputs": [],
   "source": [
    "#cleaning and reformatting the larceny data\n",
    "raw_fbi_larceny_ct = []\n",
    "raw_fbi_larceny_ct.append(fbi_json_larceny_ct)\n",
    "fbi_unformed_larceny_ct = pd.json_normalize(raw_fbi_larceny_ct, record_path = [\"results\"])\n",
    "fbi_unformed_larceny_ct.to_csv('fbi_unformed_larceny_ct_csv.csv')"
   ]
  },
  {
   "cell_type": "code",
   "execution_count": 182,
   "id": "9db4d5f7",
   "metadata": {},
   "outputs": [
    {
     "data": {
      "text/html": [
       "<div>\n",
       "<style scoped>\n",
       "    .dataframe tbody tr th:only-of-type {\n",
       "        vertical-align: middle;\n",
       "    }\n",
       "\n",
       "    .dataframe tbody tr th {\n",
       "        vertical-align: top;\n",
       "    }\n",
       "\n",
       "    .dataframe thead th {\n",
       "        text-align: right;\n",
       "    }\n",
       "</style>\n",
       "<table border=\"1\" class=\"dataframe\">\n",
       "  <thead>\n",
       "    <tr style=\"text-align: right;\">\n",
       "      <th></th>\n",
       "      <th>incident_count</th>\n",
       "      <th>offense_count</th>\n",
       "    </tr>\n",
       "    <tr>\n",
       "      <th>data_year</th>\n",
       "      <th></th>\n",
       "      <th></th>\n",
       "    </tr>\n",
       "  </thead>\n",
       "  <tbody>\n",
       "    <tr>\n",
       "      <th>2011</th>\n",
       "      <td>1715009</td>\n",
       "      <td>1715009</td>\n",
       "    </tr>\n",
       "    <tr>\n",
       "      <th>2012</th>\n",
       "      <td>1792213</td>\n",
       "      <td>1792213</td>\n",
       "    </tr>\n",
       "    <tr>\n",
       "      <th>2013</th>\n",
       "      <td>1760951</td>\n",
       "      <td>1760951</td>\n",
       "    </tr>\n",
       "    <tr>\n",
       "      <th>2014</th>\n",
       "      <td>1722483</td>\n",
       "      <td>1722483</td>\n",
       "    </tr>\n",
       "    <tr>\n",
       "      <th>2015</th>\n",
       "      <td>1741204</td>\n",
       "      <td>1741204</td>\n",
       "    </tr>\n",
       "    <tr>\n",
       "      <th>2016</th>\n",
       "      <td>1789788</td>\n",
       "      <td>1789788</td>\n",
       "    </tr>\n",
       "    <tr>\n",
       "      <th>2017</th>\n",
       "      <td>1816210</td>\n",
       "      <td>1816210</td>\n",
       "    </tr>\n",
       "    <tr>\n",
       "      <th>2018</th>\n",
       "      <td>1902857</td>\n",
       "      <td>1902857</td>\n",
       "    </tr>\n",
       "    <tr>\n",
       "      <th>2019</th>\n",
       "      <td>2271350</td>\n",
       "      <td>2271350</td>\n",
       "    </tr>\n",
       "    <tr>\n",
       "      <th>2020</th>\n",
       "      <td>2453533</td>\n",
       "      <td>2453533</td>\n",
       "    </tr>\n",
       "  </tbody>\n",
       "</table>\n",
       "</div>"
      ],
      "text/plain": [
       "           incident_count  offense_count\n",
       "data_year                               \n",
       "2011              1715009        1715009\n",
       "2012              1792213        1792213\n",
       "2013              1760951        1760951\n",
       "2014              1722483        1722483\n",
       "2015              1741204        1741204\n",
       "2016              1789788        1789788\n",
       "2017              1816210        1816210\n",
       "2018              1902857        1902857\n",
       "2019              2271350        2271350\n",
       "2020              2453533        2453533"
      ]
     },
     "execution_count": 182,
     "metadata": {},
     "output_type": "execute_result"
    }
   ],
   "source": [
    "# creating a larceny DataFrame\n",
    "#creating dataframe\n",
    "larc_df = pd.DataFrame(fbi_json_larceny_ct['results'])\n",
    "\n",
    "# sorting by year \n",
    "larc_sorted=larc_df.sort_values(by='data_year')\n",
    "\n",
    "# filtering for 2011-2020\n",
    "larc_yr_filtered = larc_sorted.loc[larc_sorted['data_year'] >= 2011]\n",
    "pd.DataFrame(larc_yr_filtered)\n",
    "\n",
    "# sum offense counts by year\n",
    "larc_by_yr=larc_yr_filtered.groupby('data_year').sum('offense_count')\n",
    "pd.DataFrame(larc_by_yr)"
   ]
  },
  {
   "cell_type": "code",
   "execution_count": 183,
   "id": "7d1173a8",
   "metadata": {},
   "outputs": [
    {
     "data": {
      "image/png": "[encoded data removed]",
      "text/plain": [
       "<Figure size 432x288 with 1 Axes>"
      ]
     },
     "metadata": {},
     "output_type": "display_data"
    }
   ],
   "source": [
    "# creating a robbery line plot\n",
    "b=sns.lineplot(x='data_year',\n",
    "               y='offense_count',\n",
    "               color='red',\n",
    "               data=larc_by_yr,\n",
    "               markers=True)\n",
    "b.set(xlabel = 'Year', ylabel = 'Number of Offenses (in millions)', title = 'FBI Crime Data:  Larceny')\n",
    "\n",
    "plt.show()"
   ]
  },
  {
   "cell_type": "code",
   "execution_count": 147,
   "id": "bafbad29",
   "metadata": {},
   "outputs": [
    {
     "name": "stdout",
     "output_type": "stream",
     "text": [
      "{'results': [{'incident_count': 29977, 'offense_count': 29977, 'data_year': 2008}, {'incident_count': 32951, 'offense_count': 32951, 'data_year': 2011}, {'incident_count': 21697, 'offense_count': 21697, 'data_year': 2003}, {'incident_count': 30547, 'offense_count': 30547, 'data_year': 2006}, {'incident_count': 30736, 'offense_count': 30736, 'data_year': 2009}, {'incident_count': 2230, 'offense_count': 2230, 'data_year': 1994}, {'incident_count': 45781, 'offense_count': 45781, 'data_year': 2016}, {'incident_count': 20097, 'offense_count': 20097, 'data_year': 2002}, {'incident_count': 31740, 'offense_count': 31740, 'data_year': 2005}, {'incident_count': 8128, 'offense_count': 8128, 'data_year': 1997}, {'incident_count': 10916, 'offense_count': 10916, 'data_year': 1998}, {'incident_count': 49301, 'offense_count': 49301, 'data_year': 2017}, {'incident_count': 36594, 'offense_count': 36594, 'data_year': 2012}, {'incident_count': 14906, 'offense_count': 14906, 'data_year': 2000}, {'incident_count': 31071, 'offense_count': 31071, 'data_year': 2007}, {'incident_count': 5638, 'offense_count': 5638, 'data_year': 1996}, {'incident_count': 3971, 'offense_count': 3971, 'data_year': 1995}, {'incident_count': 37367, 'offense_count': 37367, 'data_year': 2013}, {'incident_count': 53094, 'offense_count': 53094, 'data_year': 2018}, {'incident_count': 30912, 'offense_count': 30912, 'data_year': 2010}, {'incident_count': 2034, 'offense_count': 2034, 'data_year': 1992}, {'incident_count': 37273, 'offense_count': 37273, 'data_year': 2014}, {'incident_count': 39088, 'offense_count': 39088, 'data_year': 2015}, {'incident_count': 18815, 'offense_count': 18815, 'data_year': 2001}, {'incident_count': 1485, 'offense_count': 1485, 'data_year': 1991}, {'incident_count': 72323, 'offense_count': 72323, 'data_year': 2020}, {'incident_count': 11788, 'offense_count': 11788, 'data_year': 1999}, {'incident_count': 62034, 'offense_count': 62034, 'data_year': 2019}, {'incident_count': 26987, 'offense_count': 26987, 'data_year': 2004}, {'incident_count': 1573, 'offense_count': 1573, 'data_year': 1993}], 'pagination': {'count': 30, 'page': 0, 'pages': 1, 'per_page': 0}}\n"
     ]
    }
   ],
   "source": [
    "#stolen property, offense count\n",
    "fbi_stolprop_ct = requests.get('https://api.usa.gov/crime/fbi/sapi/api/data/nibrs/stolen-property-offenses/offense/national/count/?limit=1&api_key=HXzuNSaaIO46x38N0iVVKpMDgrP6GG3mxBcacgRH')\n",
    "fbi_json_stolprop_ct = json.loads(fbi_stolprop_ct.text)\n",
    "print(fbi_json_stolprop_ct)\n"
   ]
  },
  {
   "cell_type": "code",
   "execution_count": 148,
   "id": "0bca838e",
   "metadata": {},
   "outputs": [],
   "source": [
    "#cleaning and reformatting the stolen property data\n",
    "raw_fbi_stolprop_ct = []\n",
    "raw_fbi_stolprop_ct.append(fbi_json_stolprop_ct)\n",
    "fbi_unformed_stolprop_ct = pd.json_normalize(raw_fbi_stolprop_ct, record_path = [\"results\"])\n",
    "fbi_unformed_stolprop_ct.to_csv('fbi_unformed_stolptop_ct_csv.csv')"
   ]
  },
  {
   "cell_type": "code",
   "execution_count": 173,
   "id": "8dfe00bd",
   "metadata": {},
   "outputs": [
    {
     "data": {
      "text/html": [
       "<div>\n",
       "<style scoped>\n",
       "    .dataframe tbody tr th:only-of-type {\n",
       "        vertical-align: middle;\n",
       "    }\n",
       "\n",
       "    .dataframe tbody tr th {\n",
       "        vertical-align: top;\n",
       "    }\n",
       "\n",
       "    .dataframe thead th {\n",
       "        text-align: right;\n",
       "    }\n",
       "</style>\n",
       "<table border=\"1\" class=\"dataframe\">\n",
       "  <thead>\n",
       "    <tr style=\"text-align: right;\">\n",
       "      <th></th>\n",
       "      <th>incident_count</th>\n",
       "      <th>offense_count</th>\n",
       "    </tr>\n",
       "    <tr>\n",
       "      <th>data_year</th>\n",
       "      <th></th>\n",
       "      <th></th>\n",
       "    </tr>\n",
       "  </thead>\n",
       "  <tbody>\n",
       "    <tr>\n",
       "      <th>2011</th>\n",
       "      <td>32951</td>\n",
       "      <td>32951</td>\n",
       "    </tr>\n",
       "    <tr>\n",
       "      <th>2012</th>\n",
       "      <td>36594</td>\n",
       "      <td>36594</td>\n",
       "    </tr>\n",
       "    <tr>\n",
       "      <th>2013</th>\n",
       "      <td>37367</td>\n",
       "      <td>37367</td>\n",
       "    </tr>\n",
       "    <tr>\n",
       "      <th>2014</th>\n",
       "      <td>37273</td>\n",
       "      <td>37273</td>\n",
       "    </tr>\n",
       "    <tr>\n",
       "      <th>2015</th>\n",
       "      <td>39088</td>\n",
       "      <td>39088</td>\n",
       "    </tr>\n",
       "    <tr>\n",
       "      <th>2016</th>\n",
       "      <td>45781</td>\n",
       "      <td>45781</td>\n",
       "    </tr>\n",
       "    <tr>\n",
       "      <th>2017</th>\n",
       "      <td>49301</td>\n",
       "      <td>49301</td>\n",
       "    </tr>\n",
       "    <tr>\n",
       "      <th>2018</th>\n",
       "      <td>53094</td>\n",
       "      <td>53094</td>\n",
       "    </tr>\n",
       "    <tr>\n",
       "      <th>2019</th>\n",
       "      <td>62034</td>\n",
       "      <td>62034</td>\n",
       "    </tr>\n",
       "    <tr>\n",
       "      <th>2020</th>\n",
       "      <td>72323</td>\n",
       "      <td>72323</td>\n",
       "    </tr>\n",
       "  </tbody>\n",
       "</table>\n",
       "</div>"
      ],
      "text/plain": [
       "           incident_count  offense_count\n",
       "data_year                               \n",
       "2011                32951          32951\n",
       "2012                36594          36594\n",
       "2013                37367          37367\n",
       "2014                37273          37273\n",
       "2015                39088          39088\n",
       "2016                45781          45781\n",
       "2017                49301          49301\n",
       "2018                53094          53094\n",
       "2019                62034          62034\n",
       "2020                72323          72323"
      ]
     },
     "execution_count": 173,
     "metadata": {},
     "output_type": "execute_result"
    }
   ],
   "source": [
    "# creating a stolen property DataFrame\n",
    "#creating dataframe\n",
    "stolprop_df = pd.DataFrame(fbi_json_stolprop_ct['results'])\n",
    "\n",
    "# sorting by year \n",
    "stolprop_sorted=stolprop_df.sort_values(by='data_year')\n",
    "\n",
    "# filtering for 2011-2020\n",
    "stolprop_yr_filtered = stolprop_sorted.loc[stolprop_sorted['data_year'] >= 2011]\n",
    "pd.DataFrame(stolprop_yr_filtered)\n",
    "\n",
    "# sum offense counts by year\n",
    "stolprop_by_yr=stolprop_yr_filtered.groupby('data_year').sum('offense_count')\n",
    "pd.DataFrame(stolprop_by_yr)"
   ]
  },
  {
   "cell_type": "code",
   "execution_count": 174,
   "id": "7dc310a9",
   "metadata": {},
   "outputs": [
    {
     "data": {
      "image/png": "[encoded data removed]",
      "text/plain": [
       "<Figure size 432x288 with 1 Axes>"
      ]
     },
     "metadata": {},
     "output_type": "display_data"
    }
   ],
   "source": [
    "# creating a stolen property line plot\n",
    "b=sns.lineplot(x='data_year',\n",
    "               y='offense_count',\n",
    "               color='purple',\n",
    "               data=stolprop_by_yr,\n",
    "               markers=True)\n",
    "b.set(xlabel = 'Year', ylabel = 'Number of Offenses', title = 'FBI Crime Data:  Stolen Property')\n",
    "\n",
    "plt.show()"
   ]
  },
  {
   "cell_type": "code",
   "execution_count": 185,
   "id": "4ddc5805",
   "metadata": {},
   "outputs": [],
   "source": [
    "# get summary data for four individual theft subgroups\n",
    "burg_sum = burg_yr_filtered['offense_count'].sum()\n",
    "robb_sum = robb_yr_filtered['offense_count'].sum()\n",
    "larc_sum = larc_by_yr['offense_count'].sum()\n",
    "stolprop_sum = stolprop_by_yr['offense_count'].sum()"
   ]
  },
  {
   "cell_type": "code",
   "execution_count": 190,
   "id": "4e6e3d11",
   "metadata": {},
   "outputs": [
    {
     "data": {
      "image/png": "[encoded data removed]",
      "text/plain": [
       "<Figure size 432x288 with 1 Axes>"
      ]
     },
     "metadata": {},
     "output_type": "display_data"
    }
   ],
   "source": [
    "# creating a bar graph for four individual theft subgroups\n",
    "\n",
    "b=sns.barplot(x=['Burglary','Robbery', 'Larceny', 'Stolen Property'],\n",
    "              y=[burg_sum, robb_sum, larc_sum, stolprop_sum])\n",
    "b.set(xlabel = 'Year', ylabel = 'Total Number of Offenses (x 10,000,000)', title = 'Comparison of Theft Subgroups')\n",
    "\n",
    "plt.show()"
   ]
  },
  {
   "cell_type": "code",
   "execution_count": null,
   "id": "97e7ed64",
   "metadata": {},
   "outputs": [],
   "source": []
  },
  {
   "cell_type": "code",
   "execution_count": null,
   "id": "0173228c",
   "metadata": {},
   "outputs": [],
   "source": []
  },
  {
   "cell_type": "code",
   "execution_count": null,
   "id": "1d204820",
   "metadata": {},
   "outputs": [],
   "source": []
  },
  {
   "cell_type": "code",
   "execution_count": null,
   "id": "5169e33a",
   "metadata": {},
   "outputs": [],
   "source": []
  },
  {
   "cell_type": "code",
   "execution_count": 97,
   "id": "42aec446",
   "metadata": {},
   "outputs": [],
   "source": [
    "#BLS JSON request\n",
    "base_url=\"https://api.bls.gov/publicAPI/v2/timeseries/data/?registrationkey=\"+BLS_api_key+\"&catalog=false&startyear=2011&endyear=2020&calculations=true&annualaverage=true&aspects=true\"\n",
    "\n",
    "\n",
    "headers = {'Content-type': 'application/json'}\n",
    "data = json.dumps({\"seriesid\": ['LNS14000000'],\"startyear\":\"2011\", \"endyear\":\"2020\"})\n",
    "bls_unemp = requests.post('https://api.bls.gov/publicAPI/v2/timeseries/data/', data=data, headers=headers)\n",
    "bls_json_data_unemp = json.loads(bls_unemp.text)\n",
    "for series in bls_json_data_unemp['Results']['series']:\n",
    "    x=prettytable.PrettyTable([\"series id\",\"year\",\"period\",\"value\",\"footnotes\"])\n",
    "    seriesId = series['seriesID']\n",
    "    for item in series['data']:\n",
    "        year = item['year']\n",
    "        period = item['period']\n",
    "        value = item['value']\n",
    "        footnotes=\"\"\n",
    "        for footnote in item['footnotes']:\n",
    "            if footnote:\n",
    "                footnotes = footnotes + footnote['text'] + ','\n",
    "        if 'M01' <= period <= 'M12':\n",
    "            x.add_row([seriesId,year,period,value,footnotes[0:-1]])\n",
    "    output = open(seriesId + '.txt','w')\n",
    "    output.write (x.get_string())\n",
    "    output.close()"
   ]
  },
  {
   "cell_type": "code",
   "execution_count": 98,
   "id": "6574a4ae",
   "metadata": {},
   "outputs": [
    {
     "name": "stdout",
     "output_type": "stream",
     "text": [
      "{'status': 'REQUEST_SUCCEEDED', 'responseTime': 216, 'message': [], 'Results': {'series': [{'seriesID': 'LNS14000000', 'data': [{'year': '2020', 'period': 'M12', 'periodName': 'December', 'value': '6.7', 'footnotes': [{}]}, {'year': '2020', 'period': 'M11', 'periodName': 'November', 'value': '6.7', 'footnotes': [{}]}, {'year': '2020', 'period': 'M10', 'periodName': 'October', 'value': '6.9', 'footnotes': [{}]}, {'year': '2020', 'period': 'M09', 'periodName': 'September', 'value': '7.8', 'footnotes': [{}]}, {'year': '2020', 'period': 'M08', 'periodName': 'August', 'value': '8.4', 'footnotes': [{}]}, {'year': '2020', 'period': 'M07', 'periodName': 'July', 'value': '10.2', 'footnotes': [{}]}, {'year': '2020', 'period': 'M06', 'periodName': 'June', 'value': '11.1', 'footnotes': [{}]}, {'year': '2020', 'period': 'M05', 'periodName': 'May', 'value': '13.3', 'footnotes': [{}]}, {'year': '2020', 'period': 'M04', 'periodName': 'April', 'value': '14.8', 'footnotes': [{}]}, {'year': '2020', 'period': 'M03', 'periodName': 'March', 'value': '4.4', 'footnotes': [{}]}, {'year': '2020', 'period': 'M02', 'periodName': 'February', 'value': '3.5', 'footnotes': [{}]}, {'year': '2020', 'period': 'M01', 'periodName': 'January', 'value': '3.5', 'footnotes': [{}]}, {'year': '2019', 'period': 'M12', 'periodName': 'December', 'value': '3.6', 'footnotes': [{}]}, {'year': '2019', 'period': 'M11', 'periodName': 'November', 'value': '3.6', 'footnotes': [{}]}, {'year': '2019', 'period': 'M10', 'periodName': 'October', 'value': '3.6', 'footnotes': [{}]}, {'year': '2019', 'period': 'M09', 'periodName': 'September', 'value': '3.5', 'footnotes': [{}]}, {'year': '2019', 'period': 'M08', 'periodName': 'August', 'value': '3.7', 'footnotes': [{}]}, {'year': '2019', 'period': 'M07', 'periodName': 'July', 'value': '3.6', 'footnotes': [{}]}, {'year': '2019', 'period': 'M06', 'periodName': 'June', 'value': '3.6', 'footnotes': [{}]}, {'year': '2019', 'period': 'M05', 'periodName': 'May', 'value': '3.7', 'footnotes': [{}]}, {'year': '2019', 'period': 'M04', 'periodName': 'April', 'value': '3.7', 'footnotes': [{}]}, {'year': '2019', 'period': 'M03', 'periodName': 'March', 'value': '3.8', 'footnotes': [{}]}, {'year': '2019', 'period': 'M02', 'periodName': 'February', 'value': '3.8', 'footnotes': [{}]}, {'year': '2019', 'period': 'M01', 'periodName': 'January', 'value': '4.0', 'footnotes': [{}]}, {'year': '2018', 'period': 'M12', 'periodName': 'December', 'value': '3.9', 'footnotes': [{}]}, {'year': '2018', 'period': 'M11', 'periodName': 'November', 'value': '3.8', 'footnotes': [{}]}, {'year': '2018', 'period': 'M10', 'periodName': 'October', 'value': '3.8', 'footnotes': [{}]}, {'year': '2018', 'period': 'M09', 'periodName': 'September', 'value': '3.7', 'footnotes': [{}]}, {'year': '2018', 'period': 'M08', 'periodName': 'August', 'value': '3.8', 'footnotes': [{}]}, {'year': '2018', 'period': 'M07', 'periodName': 'July', 'value': '3.8', 'footnotes': [{}]}, {'year': '2018', 'period': 'M06', 'periodName': 'June', 'value': '4.0', 'footnotes': [{}]}, {'year': '2018', 'period': 'M05', 'periodName': 'May', 'value': '3.8', 'footnotes': [{}]}, {'year': '2018', 'period': 'M04', 'periodName': 'April', 'value': '4.0', 'footnotes': [{}]}, {'year': '2018', 'period': 'M03', 'periodName': 'March', 'value': '4.0', 'footnotes': [{}]}, {'year': '2018', 'period': 'M02', 'periodName': 'February', 'value': '4.1', 'footnotes': [{}]}, {'year': '2018', 'period': 'M01', 'periodName': 'January', 'value': '4.0', 'footnotes': [{}]}, {'year': '2017', 'period': 'M12', 'periodName': 'December', 'value': '4.1', 'footnotes': [{}]}, {'year': '2017', 'period': 'M11', 'periodName': 'November', 'value': '4.2', 'footnotes': [{}]}, {'year': '2017', 'period': 'M10', 'periodName': 'October', 'value': '4.1', 'footnotes': [{}]}, {'year': '2017', 'period': 'M09', 'periodName': 'September', 'value': '4.2', 'footnotes': [{}]}, {'year': '2017', 'period': 'M08', 'periodName': 'August', 'value': '4.4', 'footnotes': [{}]}, {'year': '2017', 'period': 'M07', 'periodName': 'July', 'value': '4.3', 'footnotes': [{}]}, {'year': '2017', 'period': 'M06', 'periodName': 'June', 'value': '4.3', 'footnotes': [{}]}, {'year': '2017', 'period': 'M05', 'periodName': 'May', 'value': '4.4', 'footnotes': [{}]}, {'year': '2017', 'period': 'M04', 'periodName': 'April', 'value': '4.5', 'footnotes': [{}]}, {'year': '2017', 'period': 'M03', 'periodName': 'March', 'value': '4.4', 'footnotes': [{}]}, {'year': '2017', 'period': 'M02', 'periodName': 'February', 'value': '4.6', 'footnotes': [{}]}, {'year': '2017', 'period': 'M01', 'periodName': 'January', 'value': '4.7', 'footnotes': [{}]}, {'year': '2016', 'period': 'M12', 'periodName': 'December', 'value': '4.7', 'footnotes': [{}]}, {'year': '2016', 'period': 'M11', 'periodName': 'November', 'value': '4.7', 'footnotes': [{}]}, {'year': '2016', 'period': 'M10', 'periodName': 'October', 'value': '4.9', 'footnotes': [{}]}, {'year': '2016', 'period': 'M09', 'periodName': 'September', 'value': '5.0', 'footnotes': [{}]}, {'year': '2016', 'period': 'M08', 'periodName': 'August', 'value': '4.9', 'footnotes': [{}]}, {'year': '2016', 'period': 'M07', 'periodName': 'July', 'value': '4.8', 'footnotes': [{}]}, {'year': '2016', 'period': 'M06', 'periodName': 'June', 'value': '4.9', 'footnotes': [{}]}, {'year': '2016', 'period': 'M05', 'periodName': 'May', 'value': '4.8', 'footnotes': [{}]}, {'year': '2016', 'period': 'M04', 'periodName': 'April', 'value': '5.1', 'footnotes': [{}]}, {'year': '2016', 'period': 'M03', 'periodName': 'March', 'value': '5.0', 'footnotes': [{}]}, {'year': '2016', 'period': 'M02', 'periodName': 'February', 'value': '4.9', 'footnotes': [{}]}, {'year': '2016', 'period': 'M01', 'periodName': 'January', 'value': '4.8', 'footnotes': [{}]}, {'year': '2015', 'period': 'M12', 'periodName': 'December', 'value': '5.0', 'footnotes': [{}]}, {'year': '2015', 'period': 'M11', 'periodName': 'November', 'value': '5.1', 'footnotes': [{}]}, {'year': '2015', 'period': 'M10', 'periodName': 'October', 'value': '5.0', 'footnotes': [{}]}, {'year': '2015', 'period': 'M09', 'periodName': 'September', 'value': '5.0', 'footnotes': [{}]}, {'year': '2015', 'period': 'M08', 'periodName': 'August', 'value': '5.1', 'footnotes': [{}]}, {'year': '2015', 'period': 'M07', 'periodName': 'July', 'value': '5.2', 'footnotes': [{}]}, {'year': '2015', 'period': 'M06', 'periodName': 'June', 'value': '5.3', 'footnotes': [{}]}, {'year': '2015', 'period': 'M05', 'periodName': 'May', 'value': '5.6', 'footnotes': [{}]}, {'year': '2015', 'period': 'M04', 'periodName': 'April', 'value': '5.4', 'footnotes': [{}]}, {'year': '2015', 'period': 'M03', 'periodName': 'March', 'value': '5.4', 'footnotes': [{}]}, {'year': '2015', 'period': 'M02', 'periodName': 'February', 'value': '5.5', 'footnotes': [{}]}, {'year': '2015', 'period': 'M01', 'periodName': 'January', 'value': '5.7', 'footnotes': [{}]}, {'year': '2014', 'period': 'M12', 'periodName': 'December', 'value': '5.6', 'footnotes': [{}]}, {'year': '2014', 'period': 'M11', 'periodName': 'November', 'value': '5.8', 'footnotes': [{}]}, {'year': '2014', 'period': 'M10', 'periodName': 'October', 'value': '5.7', 'footnotes': [{}]}, {'year': '2014', 'period': 'M09', 'periodName': 'September', 'value': '5.9', 'footnotes': [{}]}, {'year': '2014', 'period': 'M08', 'periodName': 'August', 'value': '6.1', 'footnotes': [{}]}, {'year': '2014', 'period': 'M07', 'periodName': 'July', 'value': '6.2', 'footnotes': [{}]}, {'year': '2014', 'period': 'M06', 'periodName': 'June', 'value': '6.1', 'footnotes': [{}]}, {'year': '2014', 'period': 'M05', 'periodName': 'May', 'value': '6.3', 'footnotes': [{}]}, {'year': '2014', 'period': 'M04', 'periodName': 'April', 'value': '6.2', 'footnotes': [{}]}, {'year': '2014', 'period': 'M03', 'periodName': 'March', 'value': '6.7', 'footnotes': [{}]}, {'year': '2014', 'period': 'M02', 'periodName': 'February', 'value': '6.7', 'footnotes': [{}]}, {'year': '2014', 'period': 'M01', 'periodName': 'January', 'value': '6.6', 'footnotes': [{}]}, {'year': '2013', 'period': 'M12', 'periodName': 'December', 'value': '6.7', 'footnotes': [{}]}, {'year': '2013', 'period': 'M11', 'periodName': 'November', 'value': '6.9', 'footnotes': [{}]}, {'year': '2013', 'period': 'M10', 'periodName': 'October', 'value': '7.2', 'footnotes': [{}]}, {'year': '2013', 'period': 'M09', 'periodName': 'September', 'value': '7.2', 'footnotes': [{}]}, {'year': '2013', 'period': 'M08', 'periodName': 'August', 'value': '7.2', 'footnotes': [{}]}, {'year': '2013', 'period': 'M07', 'periodName': 'July', 'value': '7.3', 'footnotes': [{}]}, {'year': '2013', 'period': 'M06', 'periodName': 'June', 'value': '7.5', 'footnotes': [{}]}, {'year': '2013', 'period': 'M05', 'periodName': 'May', 'value': '7.5', 'footnotes': [{}]}, {'year': '2013', 'period': 'M04', 'periodName': 'April', 'value': '7.6', 'footnotes': [{}]}, {'year': '2013', 'period': 'M03', 'periodName': 'March', 'value': '7.5', 'footnotes': [{}]}, {'year': '2013', 'period': 'M02', 'periodName': 'February', 'value': '7.7', 'footnotes': [{}]}, {'year': '2013', 'period': 'M01', 'periodName': 'January', 'value': '8.0', 'footnotes': [{}]}, {'year': '2012', 'period': 'M12', 'periodName': 'December', 'value': '7.9', 'footnotes': [{}]}, {'year': '2012', 'period': 'M11', 'periodName': 'November', 'value': '7.7', 'footnotes': [{}]}, {'year': '2012', 'period': 'M10', 'periodName': 'October', 'value': '7.8', 'footnotes': [{}]}, {'year': '2012', 'period': 'M09', 'periodName': 'September', 'value': '7.8', 'footnotes': [{}]}, {'year': '2012', 'period': 'M08', 'periodName': 'August', 'value': '8.1', 'footnotes': [{}]}, {'year': '2012', 'period': 'M07', 'periodName': 'July', 'value': '8.2', 'footnotes': [{}]}, {'year': '2012', 'period': 'M06', 'periodName': 'June', 'value': '8.2', 'footnotes': [{}]}, {'year': '2012', 'period': 'M05', 'periodName': 'May', 'value': '8.2', 'footnotes': [{}]}, {'year': '2012', 'period': 'M04', 'periodName': 'April', 'value': '8.2', 'footnotes': [{}]}, {'year': '2012', 'period': 'M03', 'periodName': 'March', 'value': '8.2', 'footnotes': [{}]}, {'year': '2012', 'period': 'M02', 'periodName': 'February', 'value': '8.3', 'footnotes': [{}]}, {'year': '2012', 'period': 'M01', 'periodName': 'January', 'value': '8.3', 'footnotes': [{}]}, {'year': '2011', 'period': 'M12', 'periodName': 'December', 'value': '8.5', 'footnotes': [{}]}, {'year': '2011', 'period': 'M11', 'periodName': 'November', 'value': '8.6', 'footnotes': [{}]}, {'year': '2011', 'period': 'M10', 'periodName': 'October', 'value': '8.8', 'footnotes': [{}]}, {'year': '2011', 'period': 'M09', 'periodName': 'September', 'value': '9.0', 'footnotes': [{}]}, {'year': '2011', 'period': 'M08', 'periodName': 'August', 'value': '9.0', 'footnotes': [{}]}, {'year': '2011', 'period': 'M07', 'periodName': 'July', 'value': '9.0', 'footnotes': [{}]}, {'year': '2011', 'period': 'M06', 'periodName': 'June', 'value': '9.1', 'footnotes': [{}]}, {'year': '2011', 'period': 'M05', 'periodName': 'May', 'value': '9.0', 'footnotes': [{}]}, {'year': '2011', 'period': 'M04', 'periodName': 'April', 'value': '9.1', 'footnotes': [{}]}, {'year': '2011', 'period': 'M03', 'periodName': 'March', 'value': '9.0', 'footnotes': [{}]}, {'year': '2011', 'period': 'M02', 'periodName': 'February', 'value': '9.0', 'footnotes': [{}]}, {'year': '2011', 'period': 'M01', 'periodName': 'January', 'value': '9.1', 'footnotes': [{}]}]}]}}\n"
     ]
    }
   ],
   "source": [
    "print(bls_json_data_unemp)"
   ]
  },
  {
   "cell_type": "code",
   "execution_count": 193,
   "id": "18f859e6",
   "metadata": {},
   "outputs": [],
   "source": [
    "#creating unemployment dataframe\n",
    "unemp_df=pd.DataFrame(bls_json['Results']['series'][0]['data'])\n",
    "\n",
    "# convert 'value' column from strings to floats\n",
    "unemp_df['value'] = unemp_df['value'].astype(float)\n",
    "\n",
    "#sort by year\n",
    "unemp_sorted=unemp_df.sort_values(by=['year','period'])\n",
    "pd.DataFrame(unemp_sorted)\n",
    "\n",
    "# average unemployment rates by year\n",
    "unemp_by_yr=unemp_sorted.groupby('year').mean('value')\n"
   ]
  },
  {
   "cell_type": "code",
   "execution_count": 194,
   "id": "477966dc",
   "metadata": {},
   "outputs": [
    {
     "data": {
      "image/png": "[encoded data removed]",
      "text/plain": [
       "<Figure size 360x360 with 1 Axes>"
      ]
     },
     "metadata": {},
     "output_type": "display_data"
    }
   ],
   "source": [
    "# creating an unemployment line plot\n",
    "sns.relplot(x='year', y='value', data=unemp_by_year, kind='line')\n",
    "\n",
    "# creating an unemployment line plot\n",
    "b=sns.lineplot(x='year',\n",
    "               y='value',\n",
    "               color='black',\n",
    "               data=unemp_by_yr,\n",
    "               markers=True)\n",
    "b.set(xlabel = 'Year', ylabel = 'Rate (%)', title = 'Bureau of Labor Statistics: Unemployment')\n",
    "\n",
    "\n",
    "plt.show()"
   ]
  },
  {
   "cell_type": "code",
   "execution_count": null,
   "id": "dda50067",
   "metadata": {},
   "outputs": [],
   "source": []
  }
 ],
 "metadata": {
  "kernelspec": {
   "display_name": "Python 3 (ipykernel)",
   "language": "python",
   "name": "python3"
  },
  "language_info": {
   "codemirror_mode": {
    "name": "ipython",
    "version": 3
   },
   "file_extension": ".py",
   "mimetype": "text/x-python",
   "name": "python",
   "nbconvert_exporter": "python",
   "pygments_lexer": "ipython3",
   "version": "3.9.7"
  }
 },
 "nbformat": 4,
 "nbformat_minor": 5
}
