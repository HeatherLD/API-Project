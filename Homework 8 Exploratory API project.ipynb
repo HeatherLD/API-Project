{
 "cells": [
  {
   "cell_type": "markdown",
   "id": "c0bef6a5",
   "metadata": {},
   "source": [
    "# Group API Project\n",
    "Crime vs. Unemployment Rates"
   ]
  },
  {
   "cell_type": "markdown",
   "id": "2d17bfc3",
   "metadata": {},
   "source": [
    "What if any relationship is there between national property crimes rates versus unemployment rates in 2010? in 2020?\n",
    "\n",
    "Is there a noticeable difference between the years? Is there a potential correlation between crime and unemployment rates? Is there a stronger correlation in one subgroup of property crimes than the others?"
   ]
  },
  {
   "cell_type": "code",
   "execution_count": 6,
   "id": "f7c18aec",
   "metadata": {},
   "outputs": [],
   "source": [
    "import requests\n",
    "import pandas as pd\n",
    "import matplotlib.pyplot as plt\n",
    "import numpy as np\n",
    "import time\n",
    "from pprint import pprint\n",
    "import citipy\n",
    "import json\n",
    "from citipy import citipy\n",
    "import seaborn as sns\n",
    "import prettytable\n",
    "\n",
    "#Federal Bureau of Investigation\n",
    "#Crime Data Explorer\n",
    "FBI_api_key=\"HXzuNSaaIO46x38N0iVVKpMDgrP6GG3mxBcacgRH\"\n",
    "\n",
    "#U.S. Bureau of Labor Statistics\n",
    "BLS_api_key=\"489c914f30b34dac8ebc65feb25a15df\""
   ]
  },
  {
   "cell_type": "markdown",
   "id": "46ab27d0",
   "metadata": {},
   "source": [
    "## Performing the API Calls and Collecting the Data"
   ]
  },
  {
   "cell_type": "code",
   "execution_count": null,
   "id": "650b39c7",
   "metadata": {},
   "outputs": [],
   "source": [
    "#FBI JSON request\n",
    "\n"
   ]
  },
  {
   "cell_type": "code",
   "execution_count": 7,
   "id": "42aec446",
   "metadata": {},
   "outputs": [],
   "source": [
    "#BLA JSON request\n",
    "#base_url=\"https://api.bls.gov/publicAPI/v2/timeseries/data/?registrationkey=489c914f30b34dac8ebc65feb25a15df&catalog=true&startyear=2010&endyear=2020&calculations=true&annualaverage=true&aspects=true\"\n",
    "\n",
    "headers = {'Content-type': 'application/json'}\n",
    "data = json.dumps({\"seriesid\": ['CUUR0000SA0','SUUR0000SA0'],\"startyear\":\"2010\", \"endyear\":\"2020\"})\n",
    "p = requests.post('https://api.bls.gov/publicAPI/v2/timeseries/data/', data=data, headers=headers)\n",
    "json_data = json.loads(p.text)\n",
    "for series in json_data['Results']['series']:\n",
    "    x=prettytable.PrettyTable([\"series id\",\"year\",\"period\",\"value\",\"footnotes\"])\n",
    "    seriesId = series['seriesID']\n",
    "    for item in series['data']:\n",
    "        year = item['year']\n",
    "        period = item['period']\n",
    "        value = item['value']\n",
    "        footnotes=\"\"\n",
    "        for footnote in item['footnotes']:\n",
    "            if footnote:\n",
    "                footnotes = footnotes + footnote['text'] + ','\n",
    "        if 'M01' <= period <= 'M12':\n",
    "            x.add_row([seriesId,year,period,value,footnotes[0:-1]])\n",
    "    output = open(seriesId + '.txt','w')\n",
    "    output.write (x.get_string())\n",
    "    output.close()"
   ]
  },
  {
   "cell_type": "code",
   "execution_count": 9,
   "id": "8b7728e6",
   "metadata": {},
   "outputs": [
    {
     "name": "stdout",
     "output_type": "stream",
     "text": [
      "{'status': 'REQUEST_SUCCEEDED', 'responseTime': 271, 'message': ['Year range has been reduced to the system-allowed limit of 10 years.'], 'Results': {'series': [{'seriesID': 'CUUR0000SA0', 'data': [{'year': '2019', 'period': 'M12', 'periodName': 'December', 'value': '256.974', 'footnotes': [{}]}, {'year': '2019', 'period': 'M11', 'periodName': 'November', 'value': '257.208', 'footnotes': [{}]}, {'year': '2019', 'period': 'M10', 'periodName': 'October', 'value': '257.346', 'footnotes': [{}]}, {'year': '2019', 'period': 'M09', 'periodName': 'September', 'value': '256.759', 'footnotes': [{}]}, {'year': '2019', 'period': 'M08', 'periodName': 'August', 'value': '256.558', 'footnotes': [{}]}, {'year': '2019', 'period': 'M07', 'periodName': 'July', 'value': '256.571', 'footnotes': [{}]}, {'year': '2019', 'period': 'M06', 'periodName': 'June', 'value': '256.143', 'footnotes': [{}]}, {'year': '2019', 'period': 'M05', 'periodName': 'May', 'value': '256.092', 'footnotes': [{}]}, {'year': '2019', 'period': 'M04', 'periodName': 'April', 'value': '255.548', 'footnotes': [{}]}, {'year': '2019', 'period': 'M03', 'periodName': 'March', 'value': '254.202', 'footnotes': [{}]}, {'year': '2019', 'period': 'M02', 'periodName': 'February', 'value': '252.776', 'footnotes': [{}]}, {'year': '2019', 'period': 'M01', 'periodName': 'January', 'value': '251.712', 'footnotes': [{}]}, {'year': '2018', 'period': 'M12', 'periodName': 'December', 'value': '251.233', 'footnotes': [{}]}, {'year': '2018', 'period': 'M11', 'periodName': 'November', 'value': '252.038', 'footnotes': [{}]}, {'year': '2018', 'period': 'M10', 'periodName': 'October', 'value': '252.885', 'footnotes': [{}]}, {'year': '2018', 'period': 'M09', 'periodName': 'September', 'value': '252.439', 'footnotes': [{}]}, {'year': '2018', 'period': 'M08', 'periodName': 'August', 'value': '252.146', 'footnotes': [{}]}, {'year': '2018', 'period': 'M07', 'periodName': 'July', 'value': '252.006', 'footnotes': [{}]}, {'year': '2018', 'period': 'M06', 'periodName': 'June', 'value': '251.989', 'footnotes': [{}]}, {'year': '2018', 'period': 'M05', 'periodName': 'May', 'value': '251.588', 'footnotes': [{}]}, {'year': '2018', 'period': 'M04', 'periodName': 'April', 'value': '250.546', 'footnotes': [{}]}, {'year': '2018', 'period': 'M03', 'periodName': 'March', 'value': '249.554', 'footnotes': [{}]}, {'year': '2018', 'period': 'M02', 'periodName': 'February', 'value': '248.991', 'footnotes': [{}]}, {'year': '2018', 'period': 'M01', 'periodName': 'January', 'value': '247.867', 'footnotes': [{}]}, {'year': '2017', 'period': 'M12', 'periodName': 'December', 'value': '246.524', 'footnotes': [{}]}, {'year': '2017', 'period': 'M11', 'periodName': 'November', 'value': '246.669', 'footnotes': [{}]}, {'year': '2017', 'period': 'M10', 'periodName': 'October', 'value': '246.663', 'footnotes': [{}]}, {'year': '2017', 'period': 'M09', 'periodName': 'September', 'value': '246.819', 'footnotes': [{}]}, {'year': '2017', 'period': 'M08', 'periodName': 'August', 'value': '245.519', 'footnotes': [{}]}, {'year': '2017', 'period': 'M07', 'periodName': 'July', 'value': '244.786', 'footnotes': [{}]}, {'year': '2017', 'period': 'M06', 'periodName': 'June', 'value': '244.955', 'footnotes': [{}]}, {'year': '2017', 'period': 'M05', 'periodName': 'May', 'value': '244.733', 'footnotes': [{}]}, {'year': '2017', 'period': 'M04', 'periodName': 'April', 'value': '244.524', 'footnotes': [{}]}, {'year': '2017', 'period': 'M03', 'periodName': 'March', 'value': '243.801', 'footnotes': [{}]}, {'year': '2017', 'period': 'M02', 'periodName': 'February', 'value': '243.603', 'footnotes': [{}]}, {'year': '2017', 'period': 'M01', 'periodName': 'January', 'value': '242.839', 'footnotes': [{}]}, {'year': '2016', 'period': 'M12', 'periodName': 'December', 'value': '241.432', 'footnotes': [{}]}, {'year': '2016', 'period': 'M11', 'periodName': 'November', 'value': '241.353', 'footnotes': [{}]}, {'year': '2016', 'period': 'M10', 'periodName': 'October', 'value': '241.729', 'footnotes': [{}]}, {'year': '2016', 'period': 'M09', 'periodName': 'September', 'value': '241.428', 'footnotes': [{}]}, {'year': '2016', 'period': 'M08', 'periodName': 'August', 'value': '240.849', 'footnotes': [{}]}, {'year': '2016', 'period': 'M07', 'periodName': 'July', 'value': '240.628', 'footnotes': [{}]}, {'year': '2016', 'period': 'M06', 'periodName': 'June', 'value': '241.018', 'footnotes': [{}]}, {'year': '2016', 'period': 'M05', 'periodName': 'May', 'value': '240.229', 'footnotes': [{}]}, {'year': '2016', 'period': 'M04', 'periodName': 'April', 'value': '239.261', 'footnotes': [{}]}, {'year': '2016', 'period': 'M03', 'periodName': 'March', 'value': '238.132', 'footnotes': [{}]}, {'year': '2016', 'period': 'M02', 'periodName': 'February', 'value': '237.111', 'footnotes': [{}]}, {'year': '2016', 'period': 'M01', 'periodName': 'January', 'value': '236.916', 'footnotes': [{}]}, {'year': '2015', 'period': 'M12', 'periodName': 'December', 'value': '236.525', 'footnotes': [{}]}, {'year': '2015', 'period': 'M11', 'periodName': 'November', 'value': '237.336', 'footnotes': [{}]}, {'year': '2015', 'period': 'M10', 'periodName': 'October', 'value': '237.838', 'footnotes': [{}]}, {'year': '2015', 'period': 'M09', 'periodName': 'September', 'value': '237.945', 'footnotes': [{}]}, {'year': '2015', 'period': 'M08', 'periodName': 'August', 'value': '238.316', 'footnotes': [{}]}, {'year': '2015', 'period': 'M07', 'periodName': 'July', 'value': '238.654', 'footnotes': [{}]}, {'year': '2015', 'period': 'M06', 'periodName': 'June', 'value': '238.638', 'footnotes': [{}]}, {'year': '2015', 'period': 'M05', 'periodName': 'May', 'value': '237.805', 'footnotes': [{}]}, {'year': '2015', 'period': 'M04', 'periodName': 'April', 'value': '236.599', 'footnotes': [{}]}, {'year': '2015', 'period': 'M03', 'periodName': 'March', 'value': '236.119', 'footnotes': [{}]}, {'year': '2015', 'period': 'M02', 'periodName': 'February', 'value': '234.722', 'footnotes': [{}]}, {'year': '2015', 'period': 'M01', 'periodName': 'January', 'value': '233.707', 'footnotes': [{}]}, {'year': '2014', 'period': 'M12', 'periodName': 'December', 'value': '234.812', 'footnotes': [{}]}, {'year': '2014', 'period': 'M11', 'periodName': 'November', 'value': '236.151', 'footnotes': [{}]}, {'year': '2014', 'period': 'M10', 'periodName': 'October', 'value': '237.433', 'footnotes': [{}]}, {'year': '2014', 'period': 'M09', 'periodName': 'September', 'value': '238.031', 'footnotes': [{}]}, {'year': '2014', 'period': 'M08', 'periodName': 'August', 'value': '237.852', 'footnotes': [{}]}, {'year': '2014', 'period': 'M07', 'periodName': 'July', 'value': '238.250', 'footnotes': [{}]}, {'year': '2014', 'period': 'M06', 'periodName': 'June', 'value': '238.343', 'footnotes': [{}]}, {'year': '2014', 'period': 'M05', 'periodName': 'May', 'value': '237.900', 'footnotes': [{}]}, {'year': '2014', 'period': 'M04', 'periodName': 'April', 'value': '237.072', 'footnotes': [{}]}, {'year': '2014', 'period': 'M03', 'periodName': 'March', 'value': '236.293', 'footnotes': [{}]}, {'year': '2014', 'period': 'M02', 'periodName': 'February', 'value': '234.781', 'footnotes': [{}]}, {'year': '2014', 'period': 'M01', 'periodName': 'January', 'value': '233.916', 'footnotes': [{}]}, {'year': '2013', 'period': 'M12', 'periodName': 'December', 'value': '233.049', 'footnotes': [{}]}, {'year': '2013', 'period': 'M11', 'periodName': 'November', 'value': '233.069', 'footnotes': [{}]}, {'year': '2013', 'period': 'M10', 'periodName': 'October', 'value': '233.546', 'footnotes': [{}]}, {'year': '2013', 'period': 'M09', 'periodName': 'September', 'value': '234.149', 'footnotes': [{}]}, {'year': '2013', 'period': 'M08', 'periodName': 'August', 'value': '233.877', 'footnotes': [{}]}, {'year': '2013', 'period': 'M07', 'periodName': 'July', 'value': '233.596', 'footnotes': [{}]}, {'year': '2013', 'period': 'M06', 'periodName': 'June', 'value': '233.504', 'footnotes': [{}]}, {'year': '2013', 'period': 'M05', 'periodName': 'May', 'value': '232.945', 'footnotes': [{}]}, {'year': '2013', 'period': 'M04', 'periodName': 'April', 'value': '232.531', 'footnotes': [{}]}, {'year': '2013', 'period': 'M03', 'periodName': 'March', 'value': '232.773', 'footnotes': [{}]}, {'year': '2013', 'period': 'M02', 'periodName': 'February', 'value': '232.166', 'footnotes': [{}]}, {'year': '2013', 'period': 'M01', 'periodName': 'January', 'value': '230.280', 'footnotes': [{}]}, {'year': '2012', 'period': 'M12', 'periodName': 'December', 'value': '229.601', 'footnotes': [{}]}, {'year': '2012', 'period': 'M11', 'periodName': 'November', 'value': '230.221', 'footnotes': [{}]}, {'year': '2012', 'period': 'M10', 'periodName': 'October', 'value': '231.317', 'footnotes': [{}]}, {'year': '2012', 'period': 'M09', 'periodName': 'September', 'value': '231.407', 'footnotes': [{}]}, {'year': '2012', 'period': 'M08', 'periodName': 'August', 'value': '230.379', 'footnotes': [{}]}, {'year': '2012', 'period': 'M07', 'periodName': 'July', 'value': '229.104', 'footnotes': [{}]}, {'year': '2012', 'period': 'M06', 'periodName': 'June', 'value': '229.478', 'footnotes': [{}]}, {'year': '2012', 'period': 'M05', 'periodName': 'May', 'value': '229.815', 'footnotes': [{}]}, {'year': '2012', 'period': 'M04', 'periodName': 'April', 'value': '230.085', 'footnotes': [{}]}, {'year': '2012', 'period': 'M03', 'periodName': 'March', 'value': '229.392', 'footnotes': [{}]}, {'year': '2012', 'period': 'M02', 'periodName': 'February', 'value': '227.663', 'footnotes': [{}]}, {'year': '2012', 'period': 'M01', 'periodName': 'January', 'value': '226.665', 'footnotes': [{}]}, {'year': '2011', 'period': 'M12', 'periodName': 'December', 'value': '225.672', 'footnotes': [{}]}, {'year': '2011', 'period': 'M11', 'periodName': 'November', 'value': '226.230', 'footnotes': [{}]}, {'year': '2011', 'period': 'M10', 'periodName': 'October', 'value': '226.421', 'footnotes': [{}]}, {'year': '2011', 'period': 'M09', 'periodName': 'September', 'value': '226.889', 'footnotes': [{}]}, {'year': '2011', 'period': 'M08', 'periodName': 'August', 'value': '226.545', 'footnotes': [{}]}, {'year': '2011', 'period': 'M07', 'periodName': 'July', 'value': '225.922', 'footnotes': [{}]}, {'year': '2011', 'period': 'M06', 'periodName': 'June', 'value': '225.722', 'footnotes': [{}]}, {'year': '2011', 'period': 'M05', 'periodName': 'May', 'value': '225.964', 'footnotes': [{}]}, {'year': '2011', 'period': 'M04', 'periodName': 'April', 'value': '224.906', 'footnotes': [{}]}, {'year': '2011', 'period': 'M03', 'periodName': 'March', 'value': '223.467', 'footnotes': [{}]}, {'year': '2011', 'period': 'M02', 'periodName': 'February', 'value': '221.309', 'footnotes': [{}]}, {'year': '2011', 'period': 'M01', 'periodName': 'January', 'value': '220.223', 'footnotes': [{}]}, {'year': '2010', 'period': 'M12', 'periodName': 'December', 'value': '219.179', 'footnotes': [{}]}, {'year': '2010', 'period': 'M11', 'periodName': 'November', 'value': '218.803', 'footnotes': [{}]}, {'year': '2010', 'period': 'M10', 'periodName': 'October', 'value': '218.711', 'footnotes': [{}]}, {'year': '2010', 'period': 'M09', 'periodName': 'September', 'value': '218.439', 'footnotes': [{}]}, {'year': '2010', 'period': 'M08', 'periodName': 'August', 'value': '218.312', 'footnotes': [{}]}, {'year': '2010', 'period': 'M07', 'periodName': 'July', 'value': '218.011', 'footnotes': [{}]}, {'year': '2010', 'period': 'M06', 'periodName': 'June', 'value': '217.965', 'footnotes': [{}]}, {'year': '2010', 'period': 'M05', 'periodName': 'May', 'value': '218.178', 'footnotes': [{}]}, {'year': '2010', 'period': 'M04', 'periodName': 'April', 'value': '218.009', 'footnotes': [{}]}, {'year': '2010', 'period': 'M03', 'periodName': 'March', 'value': '217.631', 'footnotes': [{}]}, {'year': '2010', 'period': 'M02', 'periodName': 'February', 'value': '216.741', 'footnotes': [{}]}, {'year': '2010', 'period': 'M01', 'periodName': 'January', 'value': '216.687', 'footnotes': [{}]}]}, {'seriesID': 'SUUR0000SA0', 'data': [{'year': '2019', 'period': 'M12', 'periodName': 'December', 'value': '144.251', 'footnotes': [{}]}, {'year': '2019', 'period': 'M11', 'periodName': 'November', 'value': '144.518', 'footnotes': [{}]}, {'year': '2019', 'period': 'M10', 'periodName': 'October', 'value': '144.629', 'footnotes': [{}]}, {'year': '2019', 'period': 'M09', 'periodName': 'September', 'value': '144.428', 'footnotes': [{}]}, {'year': '2019', 'period': 'M08', 'periodName': 'August', 'value': '144.388', 'footnotes': [{}]}, {'year': '2019', 'period': 'M07', 'periodName': 'July', 'value': '144.409', 'footnotes': [{}]}, {'year': '2019', 'period': 'M06', 'periodName': 'June', 'value': '144.243', 'footnotes': [{}]}, {'year': '2019', 'period': 'M05', 'periodName': 'May', 'value': '144.183', 'footnotes': [{}]}, {'year': '2019', 'period': 'M04', 'periodName': 'April', 'value': '143.926', 'footnotes': [{}]}, {'year': '2019', 'period': 'M03', 'periodName': 'March', 'value': '143.297', 'footnotes': [{}]}, {'year': '2019', 'period': 'M02', 'periodName': 'February', 'value': '142.571', 'footnotes': [{}]}, {'year': '2019', 'period': 'M01', 'periodName': 'January', 'value': '142.001', 'footnotes': [{}]}, {'year': '2018', 'period': 'M12', 'periodName': 'December', 'value': '141.699', 'footnotes': [{}]}, {'year': '2018', 'period': 'M11', 'periodName': 'November', 'value': '142.238', 'footnotes': [{}]}, {'year': '2018', 'period': 'M10', 'periodName': 'October', 'value': '142.700', 'footnotes': [{}]}, {'year': '2018', 'period': 'M09', 'periodName': 'September', 'value': '142.489', 'footnotes': [{}]}, {'year': '2018', 'period': 'M08', 'periodName': 'August', 'value': '142.317', 'footnotes': [{}]}, {'year': '2018', 'period': 'M07', 'periodName': 'July', 'value': '142.317', 'footnotes': [{}]}, {'year': '2018', 'period': 'M06', 'periodName': 'June', 'value': '142.349', 'footnotes': [{}]}, {'year': '2018', 'period': 'M05', 'periodName': 'May', 'value': '142.146', 'footnotes': [{}]}, {'year': '2018', 'period': 'M04', 'periodName': 'April', 'value': '141.662', 'footnotes': [{}]}, {'year': '2018', 'period': 'M03', 'periodName': 'March', 'value': '141.142', 'footnotes': [{}]}, {'year': '2018', 'period': 'M02', 'periodName': 'February', 'value': '140.805', 'footnotes': [{}]}, {'year': '2018', 'period': 'M01', 'periodName': 'January', 'value': '140.239', 'footnotes': [{}]}, {'year': '2017', 'period': 'M12', 'periodName': 'December', 'value': '139.546', 'footnotes': [{}]}, {'year': '2017', 'period': 'M11', 'periodName': 'November', 'value': '139.720', 'footnotes': [{}]}, {'year': '2017', 'period': 'M10', 'periodName': 'October', 'value': '139.782', 'footnotes': [{}]}, {'year': '2017', 'period': 'M09', 'periodName': 'September', 'value': '139.878', 'footnotes': [{}]}, {'year': '2017', 'period': 'M08', 'periodName': 'August', 'value': '139.128', 'footnotes': [{}]}, {'year': '2017', 'period': 'M07', 'periodName': 'July', 'value': '138.755', 'footnotes': [{}]}, {'year': '2017', 'period': 'M06', 'periodName': 'June', 'value': '138.989', 'footnotes': [{}]}, {'year': '2017', 'period': 'M05', 'periodName': 'May', 'value': '138.922', 'footnotes': [{}]}, {'year': '2017', 'period': 'M04', 'periodName': 'April', 'value': '138.810', 'footnotes': [{}]}, {'year': '2017', 'period': 'M03', 'periodName': 'March', 'value': '138.461', 'footnotes': [{}]}, {'year': '2017', 'period': 'M02', 'periodName': 'February', 'value': '138.403', 'footnotes': [{}]}, {'year': '2017', 'period': 'M01', 'periodName': 'January', 'value': '138.035', 'footnotes': [{}]}, {'year': '2016', 'period': 'M12', 'periodName': 'December', 'value': '137.221', 'footnotes': [{}]}, {'year': '2016', 'period': 'M11', 'periodName': 'November', 'value': '137.253', 'footnotes': [{}]}, {'year': '2016', 'period': 'M10', 'periodName': 'October', 'value': '137.536', 'footnotes': [{}]}, {'year': '2016', 'period': 'M09', 'periodName': 'September', 'value': '137.328', 'footnotes': [{}]}, {'year': '2016', 'period': 'M08', 'periodName': 'August', 'value': '137.026', 'footnotes': [{}]}, {'year': '2016', 'period': 'M07', 'periodName': 'July', 'value': '137.007', 'footnotes': [{}]}, {'year': '2016', 'period': 'M06', 'periodName': 'June', 'value': '137.329', 'footnotes': [{}]}, {'year': '2016', 'period': 'M05', 'periodName': 'May', 'value': '136.895', 'footnotes': [{}]}, {'year': '2016', 'period': 'M04', 'periodName': 'April', 'value': '136.332', 'footnotes': [{}]}, {'year': '2016', 'period': 'M03', 'periodName': 'March', 'value': '135.655', 'footnotes': [{}]}, {'year': '2016', 'period': 'M02', 'periodName': 'February', 'value': '134.953', 'footnotes': [{}]}, {'year': '2016', 'period': 'M01', 'periodName': 'January', 'value': '134.966', 'footnotes': [{}]}, {'year': '2015', 'period': 'M12', 'periodName': 'December', 'value': '134.788', 'footnotes': [{}]}, {'year': '2015', 'period': 'M11', 'periodName': 'November', 'value': '135.393', 'footnotes': [{}]}, {'year': '2015', 'period': 'M10', 'periodName': 'October', 'value': '135.735', 'footnotes': [{}]}, {'year': '2015', 'period': 'M09', 'periodName': 'September', 'value': '135.837', 'footnotes': [{}]}, {'year': '2015', 'period': 'M08', 'periodName': 'August', 'value': '136.125', 'footnotes': [{}]}, {'year': '2015', 'period': 'M07', 'periodName': 'July', 'value': '136.371', 'footnotes': [{}]}, {'year': '2015', 'period': 'M06', 'periodName': 'June', 'value': '136.391', 'footnotes': [{}]}, {'year': '2015', 'period': 'M05', 'periodName': 'May', 'value': '135.977', 'footnotes': [{}]}, {'year': '2015', 'period': 'M04', 'periodName': 'April', 'value': '135.222', 'footnotes': [{}]}, {'year': '2015', 'period': 'M03', 'periodName': 'March', 'value': '134.969', 'footnotes': [{}]}, {'year': '2015', 'period': 'M02', 'periodName': 'February', 'value': '134.053', 'footnotes': [{}]}, {'year': '2015', 'period': 'M01', 'periodName': 'January', 'value': '133.487', 'footnotes': [{}]}, {'year': '2014', 'period': 'M12', 'periodName': 'December', 'value': '134.207', 'footnotes': [{}]}, {'year': '2014', 'period': 'M11', 'periodName': 'November', 'value': '135.107', 'footnotes': [{}]}, {'year': '2014', 'period': 'M10', 'periodName': 'October', 'value': '135.891', 'footnotes': [{}]}, {'year': '2014', 'period': 'M09', 'periodName': 'September', 'value': '136.211', 'footnotes': [{}]}, {'year': '2014', 'period': 'M08', 'periodName': 'August', 'value': '136.127', 'footnotes': [{}]}, {'year': '2014', 'period': 'M07', 'periodName': 'July', 'value': '136.392', 'footnotes': [{}]}, {'year': '2014', 'period': 'M06', 'periodName': 'June', 'value': '136.433', 'footnotes': [{}]}, {'year': '2014', 'period': 'M05', 'periodName': 'May', 'value': '136.216', 'footnotes': [{}]}, {'year': '2014', 'period': 'M04', 'periodName': 'April', 'value': '135.771', 'footnotes': [{}]}, {'year': '2014', 'period': 'M03', 'periodName': 'March', 'value': '135.375', 'footnotes': [{}]}, {'year': '2014', 'period': 'M02', 'periodName': 'February', 'value': '134.542', 'footnotes': [{}]}, {'year': '2014', 'period': 'M01', 'periodName': 'January', 'value': '134.017', 'footnotes': [{}]}, {'year': '2013', 'period': 'M12', 'periodName': 'December', 'value': '133.509', 'footnotes': [{}]}, {'year': '2013', 'period': 'M11', 'periodName': 'November', 'value': '133.596', 'footnotes': [{}]}, {'year': '2013', 'period': 'M10', 'periodName': 'October', 'value': '133.876', 'footnotes': [{}]}, {'year': '2013', 'period': 'M09', 'periodName': 'September', 'value': '134.255', 'footnotes': [{}]}, {'year': '2013', 'period': 'M08', 'periodName': 'August', 'value': '134.098', 'footnotes': [{}]}, {'year': '2013', 'period': 'M07', 'periodName': 'July', 'value': '133.919', 'footnotes': [{}]}, {'year': '2013', 'period': 'M06', 'periodName': 'June', 'value': '133.900', 'footnotes': [{}]}, {'year': '2013', 'period': 'M05', 'periodName': 'May', 'value': '133.626', 'footnotes': [{}]}, {'year': '2013', 'period': 'M04', 'periodName': 'April', 'value': '133.421', 'footnotes': [{}]}, {'year': '2013', 'period': 'M03', 'periodName': 'March', 'value': '133.558', 'footnotes': [{}]}, {'year': '2013', 'period': 'M02', 'periodName': 'February', 'value': '133.204', 'footnotes': [{}]}, {'year': '2013', 'period': 'M01', 'periodName': 'January', 'value': '132.137', 'footnotes': [{}]}, {'year': '2012', 'period': 'M12', 'periodName': 'December', 'value': '131.770', 'footnotes': [{}]}, {'year': '2012', 'period': 'M11', 'periodName': 'November', 'value': '132.208', 'footnotes': [{}]}, {'year': '2012', 'period': 'M10', 'periodName': 'October', 'value': '132.892', 'footnotes': [{}]}, {'year': '2012', 'period': 'M09', 'periodName': 'September', 'value': '132.988', 'footnotes': [{}]}, {'year': '2012', 'period': 'M08', 'periodName': 'August', 'value': '132.430', 'footnotes': [{}]}, {'year': '2012', 'period': 'M07', 'periodName': 'July', 'value': '131.731', 'footnotes': [{}]}, {'year': '2012', 'period': 'M06', 'periodName': 'June', 'value': '131.956', 'footnotes': [{}]}, {'year': '2012', 'period': 'M05', 'periodName': 'May', 'value': '132.154', 'footnotes': [{}]}, {'year': '2012', 'period': 'M04', 'periodName': 'April', 'value': '132.284', 'footnotes': [{}]}, {'year': '2012', 'period': 'M03', 'periodName': 'March', 'value': '131.905', 'footnotes': [{}]}, {'year': '2012', 'period': 'M02', 'periodName': 'February', 'value': '130.953', 'footnotes': [{}]}, {'year': '2012', 'period': 'M01', 'periodName': 'January', 'value': '130.438', 'footnotes': [{}]}, {'year': '2011', 'period': 'M12', 'periodName': 'December', 'value': '129.844', 'footnotes': [{}]}, {'year': '2011', 'period': 'M11', 'periodName': 'November', 'value': '130.196', 'footnotes': [{}]}, {'year': '2011', 'period': 'M10', 'periodName': 'October', 'value': '130.373', 'footnotes': [{}]}, {'year': '2011', 'period': 'M09', 'periodName': 'September', 'value': '130.635', 'footnotes': [{}]}, {'year': '2011', 'period': 'M08', 'periodName': 'August', 'value': '130.351', 'footnotes': [{}]}, {'year': '2011', 'period': 'M07', 'periodName': 'July', 'value': '129.983', 'footnotes': [{}]}, {'year': '2011', 'period': 'M06', 'periodName': 'June', 'value': '129.846', 'footnotes': [{}]}, {'year': '2011', 'period': 'M05', 'periodName': 'May', 'value': '129.999', 'footnotes': [{}]}, {'year': '2011', 'period': 'M04', 'periodName': 'April', 'value': '129.483', 'footnotes': [{}]}, {'year': '2011', 'period': 'M03', 'periodName': 'March', 'value': '128.585', 'footnotes': [{}]}, {'year': '2011', 'period': 'M02', 'periodName': 'February', 'value': '127.363', 'footnotes': [{}]}, {'year': '2011', 'period': 'M01', 'periodName': 'January', 'value': '126.778', 'footnotes': [{}]}, {'year': '2010', 'period': 'M12', 'periodName': 'December', 'value': '126.143', 'footnotes': [{}]}, {'year': '2010', 'period': 'M11', 'periodName': 'November', 'value': '125.920', 'footnotes': [{}]}, {'year': '2010', 'period': 'M10', 'periodName': 'October', 'value': '125.969', 'footnotes': [{}]}, {'year': '2010', 'period': 'M09', 'periodName': 'September', 'value': '125.830', 'footnotes': [{}]}, {'year': '2010', 'period': 'M08', 'periodName': 'August', 'value': '125.756', 'footnotes': [{}]}, {'year': '2010', 'period': 'M07', 'periodName': 'July', 'value': '125.536', 'footnotes': [{}]}, {'year': '2010', 'period': 'M06', 'periodName': 'June', 'value': '125.521', 'footnotes': [{}]}, {'year': '2010', 'period': 'M05', 'periodName': 'May', 'value': '125.678', 'footnotes': [{}]}, {'year': '2010', 'period': 'M04', 'periodName': 'April', 'value': '125.620', 'footnotes': [{}]}, {'year': '2010', 'period': 'M03', 'periodName': 'March', 'value': '125.442', 'footnotes': [{}]}, {'year': '2010', 'period': 'M02', 'periodName': 'February', 'value': '124.972', 'footnotes': [{}]}, {'year': '2010', 'period': 'M01', 'periodName': 'January', 'value': '124.987', 'footnotes': [{}]}]}]}}\n"
     ]
    }
   ],
   "source": [
    "print(json_data)"
   ]
  },
  {
   "cell_type": "code",
   "execution_count": null,
   "id": "bfb28d31",
   "metadata": {},
   "outputs": [],
   "source": [
    "#cleaning the data\n",
    "cities_weather_unformed = pd.json_normalize(raw_weather, sep='_')\n",
    "cities_weather_unformed = cities_weather_unformed.drop(cities_weather_unformed[cities_weather_unformed.message == \"city not found\"].index)\n",
    "\n",
    "cities_weather_unformed = cities_weather_unformed.set_index(\"name\")\n",
    "cities_weather_unformed.to_csv('cities_weather_unformed_csv.csv')\n",
    "\n",
    "#building a focused dataframe\n",
    "cities_weather = cities_weather_unformed.filter([\"sys_country\", \"coord_lon\", \"coord_lat\", \"main_pressure\", \"main_temp_max\", \"wind_speed\", \"main_humidity\", \"clouds_all\"], axis=1)\n",
    "cities_weather = pd.DataFrame(cities_weather)\n",
    "\n",
    "#export to a csv for confirmation\n",
    "cities_weather.to_csv('cities_weather_csv.csv')\n",
    "\n",
    "#print a sample to show it works\n",
    "cities_weather.head(75)"
   ]
  },
  {
   "cell_type": "code",
   "execution_count": null,
   "id": "a4eae5d5",
   "metadata": {},
   "outputs": [],
   "source": [
    "raw_weather = []\n",
    "\n",
    "base_url=\"http://api.openweathermap.org/data/2.5/weather?units=Imperial&APPID=\" + api_key\n",
    "\n",
    "try:\n",
    "    for city in cities:\n",
    "        req = requests.get(base_url + f'&q={city}')\n",
    "        json_data = req.json()\n",
    "        raw_weather.append(json_data)\n",
    "        print(\"Processing \"+ city)\n",
    "\n",
    "except requests.exceptions.RequestException as e:\n",
    "        print(\"Processing \"+ city + \"failed.\")\n"
   ]
  }
 ],
 "metadata": {
  "kernelspec": {
   "display_name": "Python 3 (ipykernel)",
   "language": "python",
   "name": "python3"
  },
  "language_info": {
   "codemirror_mode": {
    "name": "ipython",
    "version": 3
   },
   "file_extension": ".py",
   "mimetype": "text/x-python",
   "name": "python",
   "nbconvert_exporter": "python",
   "pygments_lexer": "ipython3",
   "version": "3.9.7"
  }
 },
 "nbformat": 4,
 "nbformat_minor": 5
}
